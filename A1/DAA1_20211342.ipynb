{
 "cells": [
  {
   "cell_type": "code",
   "execution_count": 1,
   "id": "53b2e161",
   "metadata": {},
   "outputs": [
    {
     "name": "stderr",
     "output_type": "stream",
     "text": [
      "E:\\Anaconda3\\lib\\site-packages\\statsmodels\\tools\\_testing.py:19: FutureWarning: pandas.util.testing is deprecated. Use the functions in the public API at pandas.testing instead.\n",
      "  import pandas.util.testing as tm\n"
     ]
    }
   ],
   "source": [
    "import numpy as np\n",
    "import matplotlib.pyplot as plt\n",
    "import matplotlib.patches as mpatches\n",
    "import seaborn as sns\n",
    "from matplotlib.backends.backend_pdf import PdfPages\n",
    "import requests\n",
    "import json\n",
    "import time\n",
    "from mysql_utils import PyMySQL\n",
    "import numpy as np\n",
    "import pandas as pd\n",
    "\n",
    "import warnings\n",
    "warnings.filterwarnings('ignore')\n",
    "%matplotlib inline"
   ]
  },
  {
   "cell_type": "code",
   "execution_count": 2,
   "id": "08851aaa",
   "metadata": {},
   "outputs": [],
   "source": [
    "import pandas as pd\n",
    "df = pd.read_csv('ppr-20211342.csv') # Read in all the rows, but skips the first one as it is a header."
   ]
  },
  {
   "cell_type": "markdown",
   "id": "61170acf",
   "metadata": {},
   "source": [
    "# 1. Prepare a data quality report for your CSV file. Below you have a set of guideline steps to help you in this process."
   ]
  },
  {
   "cell_type": "markdown",
   "id": "c7d8a42c",
   "metadata": {},
   "source": [
    "## 1. Check how many rows and columns your CSV has."
   ]
  },
  {
   "cell_type": "code",
   "execution_count": 3,
   "id": "8d6007d9",
   "metadata": {},
   "outputs": [],
   "source": [
    "total_rows=len(df.axes[0]) # Axes of 0 is for a row\n",
    "total_cols=len(df.axes[1]) # Axes of 1 is for a column"
   ]
  },
  {
   "cell_type": "code",
   "execution_count": 4,
   "id": "2b2f9491",
   "metadata": {},
   "outputs": [
    {
     "name": "stdout",
     "output_type": "stream",
     "text": [
      "number of rows and columns: (10000, 9)\n"
     ]
    }
   ],
   "source": [
    "print(\"number of rows and columns:\", df.shape)"
   ]
  },
  {
   "cell_type": "markdown",
   "id": "bfa7e6ca",
   "metadata": {},
   "source": [
    "## 2. Print the first and the last 5 rows."
   ]
  },
  {
   "cell_type": "code",
   "execution_count": 5,
   "id": "69808b05",
   "metadata": {},
   "outputs": [
    {
     "data": {
      "text/html": [
       "<div>\n",
       "<style scoped>\n",
       "    .dataframe tbody tr th:only-of-type {\n",
       "        vertical-align: middle;\n",
       "    }\n",
       "\n",
       "    .dataframe tbody tr th {\n",
       "        vertical-align: top;\n",
       "    }\n",
       "\n",
       "    .dataframe thead th {\n",
       "        text-align: right;\n",
       "    }\n",
       "</style>\n",
       "<table border=\"1\" class=\"dataframe\">\n",
       "  <thead>\n",
       "    <tr style=\"text-align: right;\">\n",
       "      <th></th>\n",
       "      <th>Date of Sale (dd/mm/yyyy)</th>\n",
       "      <th>Address</th>\n",
       "      <th>Postal Code</th>\n",
       "      <th>County</th>\n",
       "      <th>Price (€)</th>\n",
       "      <th>Not Full Market Price</th>\n",
       "      <th>VAT Exclusive</th>\n",
       "      <th>Description of Property</th>\n",
       "      <th>Property Size Description</th>\n",
       "    </tr>\n",
       "  </thead>\n",
       "  <tbody>\n",
       "    <tr>\n",
       "      <th>0</th>\n",
       "      <td>03/03/2017</td>\n",
       "      <td>86 MULLAGHMATT, MONAGHAN</td>\n",
       "      <td>NaN</td>\n",
       "      <td>Monaghan</td>\n",
       "      <td>€65,000.00</td>\n",
       "      <td>Yes</td>\n",
       "      <td>No</td>\n",
       "      <td>Second-Hand Dwelling house /Apartment</td>\n",
       "      <td>NaN</td>\n",
       "    </tr>\n",
       "    <tr>\n",
       "      <th>1</th>\n",
       "      <td>12/03/2020</td>\n",
       "      <td>13 FABER GROVE, DUN LAOGHAIRE, DUBLIN</td>\n",
       "      <td>NaN</td>\n",
       "      <td>Dublin</td>\n",
       "      <td>€320,000.00</td>\n",
       "      <td>No</td>\n",
       "      <td>No</td>\n",
       "      <td>Second-Hand Dwelling house /Apartment</td>\n",
       "      <td>NaN</td>\n",
       "    </tr>\n",
       "    <tr>\n",
       "      <th>2</th>\n",
       "      <td>09/07/2010</td>\n",
       "      <td>32 Allenton Drive, Tallaght</td>\n",
       "      <td>Dublin 24</td>\n",
       "      <td>Dublin</td>\n",
       "      <td>€194,000.00</td>\n",
       "      <td>No</td>\n",
       "      <td>No</td>\n",
       "      <td>Second-Hand Dwelling house /Apartment</td>\n",
       "      <td>NaN</td>\n",
       "    </tr>\n",
       "    <tr>\n",
       "      <th>3</th>\n",
       "      <td>29/10/2019</td>\n",
       "      <td>15 An Fuaran, Dublin Road, Oranmore</td>\n",
       "      <td>NaN</td>\n",
       "      <td>Galway</td>\n",
       "      <td>€345,010.00</td>\n",
       "      <td>No</td>\n",
       "      <td>Yes</td>\n",
       "      <td>New Dwelling house /Apartment</td>\n",
       "      <td>NaN</td>\n",
       "    </tr>\n",
       "    <tr>\n",
       "      <th>4</th>\n",
       "      <td>11/07/2019</td>\n",
       "      <td>CHERRYORCHARD, ENNISCORTHY, WEXFORD</td>\n",
       "      <td>NaN</td>\n",
       "      <td>Wexford</td>\n",
       "      <td>€172,000.00</td>\n",
       "      <td>No</td>\n",
       "      <td>No</td>\n",
       "      <td>Second-Hand Dwelling house /Apartment</td>\n",
       "      <td>NaN</td>\n",
       "    </tr>\n",
       "  </tbody>\n",
       "</table>\n",
       "</div>"
      ],
      "text/plain": [
       "  Date of Sale (dd/mm/yyyy)                                Address  \\\n",
       "0                03/03/2017               86 MULLAGHMATT, MONAGHAN   \n",
       "1                12/03/2020  13 FABER GROVE, DUN LAOGHAIRE, DUBLIN   \n",
       "2                09/07/2010            32 Allenton Drive, Tallaght   \n",
       "3                29/10/2019    15 An Fuaran, Dublin Road, Oranmore   \n",
       "4                11/07/2019    CHERRYORCHARD, ENNISCORTHY, WEXFORD   \n",
       "\n",
       "  Postal Code    County    Price (€) Not Full Market Price VAT Exclusive  \\\n",
       "0         NaN  Monaghan   €65,000.00                   Yes            No   \n",
       "1         NaN    Dublin  €320,000.00                    No            No   \n",
       "2   Dublin 24    Dublin  €194,000.00                    No            No   \n",
       "3         NaN    Galway  €345,010.00                    No           Yes   \n",
       "4         NaN   Wexford  €172,000.00                    No            No   \n",
       "\n",
       "                 Description of Property Property Size Description  \n",
       "0  Second-Hand Dwelling house /Apartment                       NaN  \n",
       "1  Second-Hand Dwelling house /Apartment                       NaN  \n",
       "2  Second-Hand Dwelling house /Apartment                       NaN  \n",
       "3          New Dwelling house /Apartment                       NaN  \n",
       "4  Second-Hand Dwelling house /Apartment                       NaN  "
      ]
     },
     "execution_count": 5,
     "metadata": {},
     "output_type": "execute_result"
    }
   ],
   "source": [
    "df.head() # Read the first 5 rows and the default is 5 rows"
   ]
  },
  {
   "cell_type": "code",
   "execution_count": 6,
   "id": "be0c8e41",
   "metadata": {},
   "outputs": [
    {
     "data": {
      "text/html": [
       "<div>\n",
       "<style scoped>\n",
       "    .dataframe tbody tr th:only-of-type {\n",
       "        vertical-align: middle;\n",
       "    }\n",
       "\n",
       "    .dataframe tbody tr th {\n",
       "        vertical-align: top;\n",
       "    }\n",
       "\n",
       "    .dataframe thead th {\n",
       "        text-align: right;\n",
       "    }\n",
       "</style>\n",
       "<table border=\"1\" class=\"dataframe\">\n",
       "  <thead>\n",
       "    <tr style=\"text-align: right;\">\n",
       "      <th></th>\n",
       "      <th>Date of Sale (dd/mm/yyyy)</th>\n",
       "      <th>Address</th>\n",
       "      <th>Postal Code</th>\n",
       "      <th>County</th>\n",
       "      <th>Price (€)</th>\n",
       "      <th>Not Full Market Price</th>\n",
       "      <th>VAT Exclusive</th>\n",
       "      <th>Description of Property</th>\n",
       "      <th>Property Size Description</th>\n",
       "    </tr>\n",
       "  </thead>\n",
       "  <tbody>\n",
       "    <tr>\n",
       "      <th>9995</th>\n",
       "      <td>16/06/2016</td>\n",
       "      <td>13 CHERBURY GARDENS, BOOTERSTOWN AVE, BLACKROCK</td>\n",
       "      <td>NaN</td>\n",
       "      <td>Dublin</td>\n",
       "      <td>€850,000.00</td>\n",
       "      <td>No</td>\n",
       "      <td>No</td>\n",
       "      <td>Second-Hand Dwelling house /Apartment</td>\n",
       "      <td>NaN</td>\n",
       "    </tr>\n",
       "    <tr>\n",
       "      <th>9996</th>\n",
       "      <td>09/11/2020</td>\n",
       "      <td>204 ALYMER PARK, NAAS, CO KILDARE</td>\n",
       "      <td>NaN</td>\n",
       "      <td>Kildare</td>\n",
       "      <td>€276,000.00</td>\n",
       "      <td>No</td>\n",
       "      <td>No</td>\n",
       "      <td>Second-Hand Dwelling house /Apartment</td>\n",
       "      <td>NaN</td>\n",
       "    </tr>\n",
       "    <tr>\n",
       "      <th>9997</th>\n",
       "      <td>15/08/2014</td>\n",
       "      <td>27  Griffinrath Manor, Maynooth</td>\n",
       "      <td>NaN</td>\n",
       "      <td>Kildare</td>\n",
       "      <td>€427,312.77</td>\n",
       "      <td>No</td>\n",
       "      <td>Yes</td>\n",
       "      <td>New Dwelling house /Apartment</td>\n",
       "      <td>greater than 125 sq metres</td>\n",
       "    </tr>\n",
       "    <tr>\n",
       "      <th>9998</th>\n",
       "      <td>14/08/2021</td>\n",
       "      <td>3 BEECH WOOD, CLONBALT WOODS, LONGFORD</td>\n",
       "      <td>NaN</td>\n",
       "      <td>Longford</td>\n",
       "      <td>€197,000.00</td>\n",
       "      <td>No</td>\n",
       "      <td>No</td>\n",
       "      <td>Second-Hand Dwelling house /Apartment</td>\n",
       "      <td>NaN</td>\n",
       "    </tr>\n",
       "    <tr>\n",
       "      <th>9999</th>\n",
       "      <td>13/07/2016</td>\n",
       "      <td>16 Ash Grove, Ellis Wood, Killarney Road</td>\n",
       "      <td>NaN</td>\n",
       "      <td>Limerick</td>\n",
       "      <td>€62,609.00</td>\n",
       "      <td>No</td>\n",
       "      <td>Yes</td>\n",
       "      <td>New Dwelling house /Apartment</td>\n",
       "      <td>greater than 125 sq metres</td>\n",
       "    </tr>\n",
       "  </tbody>\n",
       "</table>\n",
       "</div>"
      ],
      "text/plain": [
       "     Date of Sale (dd/mm/yyyy)  \\\n",
       "9995                16/06/2016   \n",
       "9996                09/11/2020   \n",
       "9997                15/08/2014   \n",
       "9998                14/08/2021   \n",
       "9999                13/07/2016   \n",
       "\n",
       "                                              Address Postal Code    County  \\\n",
       "9995  13 CHERBURY GARDENS, BOOTERSTOWN AVE, BLACKROCK         NaN    Dublin   \n",
       "9996                204 ALYMER PARK, NAAS, CO KILDARE         NaN   Kildare   \n",
       "9997                  27  Griffinrath Manor, Maynooth         NaN   Kildare   \n",
       "9998           3 BEECH WOOD, CLONBALT WOODS, LONGFORD         NaN  Longford   \n",
       "9999         16 Ash Grove, Ellis Wood, Killarney Road         NaN  Limerick   \n",
       "\n",
       "        Price (€) Not Full Market Price VAT Exclusive  \\\n",
       "9995  €850,000.00                    No            No   \n",
       "9996  €276,000.00                    No            No   \n",
       "9997  €427,312.77                    No           Yes   \n",
       "9998  €197,000.00                    No            No   \n",
       "9999   €62,609.00                    No           Yes   \n",
       "\n",
       "                    Description of Property   Property Size Description  \n",
       "9995  Second-Hand Dwelling house /Apartment                         NaN  \n",
       "9996  Second-Hand Dwelling house /Apartment                         NaN  \n",
       "9997          New Dwelling house /Apartment  greater than 125 sq metres  \n",
       "9998  Second-Hand Dwelling house /Apartment                         NaN  \n",
       "9999          New Dwelling house /Apartment  greater than 125 sq metres  "
      ]
     },
     "execution_count": 6,
     "metadata": {},
     "output_type": "execute_result"
    }
   ],
   "source": [
    "df.tail() # Read the last 5 rows and the default is 5 rows"
   ]
  },
  {
   "cell_type": "markdown",
   "id": "f84da883",
   "metadata": {},
   "source": [
    "## 3. Convert the features to their appropriate data types (e.g., decide which features are more appropriate as  continuous and which ones as categorical types)."
   ]
  },
  {
   "cell_type": "code",
   "execution_count": 7,
   "id": "078561f9",
   "metadata": {
    "scrolled": false
   },
   "outputs": [
    {
     "data": {
      "text/plain": [
       "Date of Sale (dd/mm/yyyy)    object\n",
       "Address                      object\n",
       "Postal Code                  object\n",
       "County                       object\n",
       "Price (€)                    object\n",
       "Not Full Market Price        object\n",
       "VAT Exclusive                object\n",
       "Description of Property      object\n",
       "Property Size Description    object\n",
       "dtype: object"
      ]
     },
     "execution_count": 7,
     "metadata": {},
     "output_type": "execute_result"
    }
   ],
   "source": [
    "df.dtypes # Show the feature type"
   ]
  },
  {
   "cell_type": "code",
   "execution_count": 8,
   "id": "2fbe916b",
   "metadata": {},
   "outputs": [
    {
     "data": {
      "text/plain": [
       "Index(['DateofSale(dd/mm/yyyy)', 'Address', 'PostalCode', 'County', 'Price(€)',\n",
       "       'NotFullMarketPrice', 'VATExclusive', 'DescriptionofProperty',\n",
       "       'PropertySizeDescription'],\n",
       "      dtype='object')"
      ]
     },
     "execution_count": 8,
     "metadata": {},
     "output_type": "execute_result"
    }
   ],
   "source": [
    "# Remove space in or around feature names\n",
    "df.columns = df.columns.str.replace(' ', '')\n",
    "\n",
    "# Check the space have been removed\n",
    "df.columns"
   ]
  },
  {
   "cell_type": "code",
   "execution_count": 9,
   "id": "dc186204",
   "metadata": {},
   "outputs": [],
   "source": [
    "# Convert data feature to data type(datatime64[ns])\n",
    "df['DateofSale(dd/mm/yyyy)'] = df['DateofSale(dd/mm/yyyy)'].astype('datetime64[ns]')"
   ]
  },
  {
   "cell_type": "code",
   "execution_count": 10,
   "id": "f797c5bb",
   "metadata": {},
   "outputs": [],
   "source": [
    "# Remove Euro sign\n",
    "df['Price(€)'] = df['Price(€)'].map(lambda x: x.lstrip('€'))"
   ]
  },
  {
   "cell_type": "code",
   "execution_count": 11,
   "id": "93a0b4ff",
   "metadata": {},
   "outputs": [],
   "source": [
    "# Remove comma sign\n",
    "df['Price(€)'] = df['Price(€)'].str.replace(',', '')"
   ]
  },
  {
   "cell_type": "code",
   "execution_count": 12,
   "id": "ad686be5",
   "metadata": {},
   "outputs": [],
   "source": [
    "# Convert data feature to data type(float64)\n",
    "df['Price(€)'] = df['Price(€)'].astype('float64')"
   ]
  },
  {
   "cell_type": "code",
   "execution_count": 13,
   "id": "dc30dc0d",
   "metadata": {},
   "outputs": [],
   "source": [
    "# Select columns containing categorical data\n",
    "categorical_columns = ['PostalCode','County','NotFullMarketPrice','VATExclusive','DescriptionofProperty','PropertySizeDescription']\n",
    "\n",
    "# Convert data type to category for these columns\n",
    "for column in categorical_columns:\n",
    "    df[column] = df[column].astype('category')"
   ]
  },
  {
   "cell_type": "code",
   "execution_count": 14,
   "id": "6f5461b3",
   "metadata": {},
   "outputs": [],
   "source": [
    "df['Address'] = df['Address'].astype('object')"
   ]
  },
  {
   "cell_type": "code",
   "execution_count": 15,
   "id": "7229049c",
   "metadata": {},
   "outputs": [
    {
     "data": {
      "text/plain": [
       "DateofSale(dd/mm/yyyy)     datetime64[ns]\n",
       "Address                            object\n",
       "PostalCode                       category\n",
       "County                           category\n",
       "Price(€)                          float64\n",
       "NotFullMarketPrice               category\n",
       "VATExclusive                     category\n",
       "DescriptionofProperty            category\n",
       "PropertySizeDescription          category\n",
       "dtype: object"
      ]
     },
     "execution_count": 15,
     "metadata": {},
     "output_type": "execute_result"
    }
   ],
   "source": [
    "# Check if the conversion is complete\n",
    "df.dtypes"
   ]
  },
  {
   "cell_type": "markdown",
   "id": "939246da",
   "metadata": {},
   "source": [
    "## 4. Look for duplicate rows and columns. Consider whether it makes sense to keep them or drop them."
   ]
  },
  {
   "cell_type": "markdown",
   "id": "d965af0c",
   "metadata": {},
   "source": [
    "### Rows"
   ]
  },
  {
   "cell_type": "code",
   "execution_count": 16,
   "id": "ac4c30a5",
   "metadata": {},
   "outputs": [
    {
     "name": "stdout",
     "output_type": "stream",
     "text": [
      "Number of duplicate (excluding first) rows in the table is:  0\n",
      "Number of duplicate rows (including first) in the table is: 0\n"
     ]
    }
   ],
   "source": [
    "# Print the number of duplicates without the original rows that were replicated.\n",
    "print('Number of duplicate (excluding first) rows in the table is: ', df.duplicated().sum())\n",
    "\n",
    "# Check for duplicate rows. \n",
    "# To designate all duplicates as true, including the original rows that were replicated, use \"keep=False.\"\n",
    "print('Number of duplicate rows (including first) in the table is:', df[df.duplicated(keep=False)].shape[0])"
   ]
  },
  {
   "cell_type": "markdown",
   "id": "0ad4ff6f",
   "metadata": {},
   "source": [
    "### Columns"
   ]
  },
  {
   "cell_type": "code",
   "execution_count": 17,
   "id": "f1b4f90e",
   "metadata": {},
   "outputs": [
    {
     "name": "stdout",
     "output_type": "stream",
     "text": [
      "Number of duplicate (excluding first) columns in the table is:  0\n",
      "Number of duplicate (including first) columns in the table is:  0\n",
      "\n",
      "\n",
      "If the column is duplicated, True will be returned.\n",
      "DateofSale(dd/mm/yyyy)     False\n",
      "Address                    False\n",
      "PostalCode                 False\n",
      "County                     False\n",
      "Price(€)                   False\n",
      "NotFullMarketPrice         False\n",
      "VATExclusive               False\n",
      "DescriptionofProperty      False\n",
      "PropertySizeDescription    False\n",
      "dtype: bool\n"
     ]
    }
   ],
   "source": [
    "# Check for duplicate columns\n",
    "# Transpose the df so that the columns become rows, then perform the same check as before.\n",
    "\n",
    "dfT = df.T\n",
    "print(\"Number of duplicate (excluding first) columns in the table is: \", dfT.duplicated().sum())\n",
    "print(\"Number of duplicate (including first) columns in the table is: \",  dfT[dfT.duplicated(keep=False)].shape[0])\n",
    "\n",
    "# Duplicate returns a Boolean value, therefore if the column is duplicated, True will be returned.\n",
    "print('\\n')\n",
    "print('If the column is duplicated, True will be returned.')\n",
    "print(dfT.duplicated())"
   ]
  },
  {
   "cell_type": "code",
   "execution_count": 18,
   "id": "adddb754",
   "metadata": {},
   "outputs": [
    {
     "data": {
      "text/html": [
       "<div>\n",
       "<style scoped>\n",
       "    .dataframe tbody tr th:only-of-type {\n",
       "        vertical-align: middle;\n",
       "    }\n",
       "\n",
       "    .dataframe tbody tr th {\n",
       "        vertical-align: top;\n",
       "    }\n",
       "\n",
       "    .dataframe thead th {\n",
       "        text-align: right;\n",
       "    }\n",
       "</style>\n",
       "<table border=\"1\" class=\"dataframe\">\n",
       "  <thead>\n",
       "    <tr style=\"text-align: right;\">\n",
       "      <th></th>\n",
       "      <th>DateofSale(dd/mm/yyyy)</th>\n",
       "      <th>Address</th>\n",
       "      <th>PostalCode</th>\n",
       "      <th>County</th>\n",
       "      <th>Price(€)</th>\n",
       "      <th>NotFullMarketPrice</th>\n",
       "      <th>VATExclusive</th>\n",
       "      <th>DescriptionofProperty</th>\n",
       "      <th>PropertySizeDescription</th>\n",
       "    </tr>\n",
       "  </thead>\n",
       "  <tbody>\n",
       "  </tbody>\n",
       "</table>\n",
       "</div>"
      ],
      "text/plain": [
       "Empty DataFrame\n",
       "Columns: [DateofSale(dd/mm/yyyy), Address, PostalCode, County, Price(€), NotFullMarketPrice, VATExclusive, DescriptionofProperty, PropertySizeDescription]\n",
       "Index: []"
      ]
     },
     "execution_count": 18,
     "metadata": {},
     "output_type": "execute_result"
    }
   ],
   "source": [
    "# Show duplicate row data that can be dropped\n",
    "df[df.duplicated(keep=False)]\n",
    "\n",
    "# There are no duplicate rows of data in this CSV"
   ]
  },
  {
   "cell_type": "code",
   "execution_count": 19,
   "id": "5ed30f60",
   "metadata": {},
   "outputs": [
    {
     "data": {
      "text/plain": [
       "(10000, 9)"
      ]
     },
     "execution_count": 19,
     "metadata": {},
     "output_type": "execute_result"
    }
   ],
   "source": [
    "# Nothing changed\n",
    "df.shape"
   ]
  },
  {
   "cell_type": "markdown",
   "id": "fb85c486",
   "metadata": {},
   "source": [
    "## 5. Look for constant columns. Consider whether it makes sense to keep them or drop them."
   ]
  },
  {
   "cell_type": "code",
   "execution_count": 20,
   "id": "b3771599",
   "metadata": {},
   "outputs": [
    {
     "data": {
      "text/html": [
       "<div>\n",
       "<style scoped>\n",
       "    .dataframe tbody tr th:only-of-type {\n",
       "        vertical-align: middle;\n",
       "    }\n",
       "\n",
       "    .dataframe tbody tr th {\n",
       "        vertical-align: top;\n",
       "    }\n",
       "\n",
       "    .dataframe thead th {\n",
       "        text-align: right;\n",
       "    }\n",
       "</style>\n",
       "<table border=\"1\" class=\"dataframe\">\n",
       "  <thead>\n",
       "    <tr style=\"text-align: right;\">\n",
       "      <th></th>\n",
       "      <th>count</th>\n",
       "      <th>unique</th>\n",
       "      <th>top</th>\n",
       "      <th>freq</th>\n",
       "    </tr>\n",
       "  </thead>\n",
       "  <tbody>\n",
       "    <tr>\n",
       "      <th>PostalCode</th>\n",
       "      <td>1918</td>\n",
       "      <td>22</td>\n",
       "      <td>Dublin 15</td>\n",
       "      <td>247</td>\n",
       "    </tr>\n",
       "    <tr>\n",
       "      <th>County</th>\n",
       "      <td>10000</td>\n",
       "      <td>26</td>\n",
       "      <td>Dublin</td>\n",
       "      <td>3275</td>\n",
       "    </tr>\n",
       "    <tr>\n",
       "      <th>NotFullMarketPrice</th>\n",
       "      <td>10000</td>\n",
       "      <td>2</td>\n",
       "      <td>No</td>\n",
       "      <td>9480</td>\n",
       "    </tr>\n",
       "    <tr>\n",
       "      <th>VATExclusive</th>\n",
       "      <td>10000</td>\n",
       "      <td>2</td>\n",
       "      <td>No</td>\n",
       "      <td>8440</td>\n",
       "    </tr>\n",
       "    <tr>\n",
       "      <th>DescriptionofProperty</th>\n",
       "      <td>10000</td>\n",
       "      <td>2</td>\n",
       "      <td>Second-Hand Dwelling house /Apartment</td>\n",
       "      <td>8400</td>\n",
       "    </tr>\n",
       "    <tr>\n",
       "      <th>PropertySizeDescription</th>\n",
       "      <td>1022</td>\n",
       "      <td>4</td>\n",
       "      <td>greater than or equal to 38 sq metres and less...</td>\n",
       "      <td>719</td>\n",
       "    </tr>\n",
       "  </tbody>\n",
       "</table>\n",
       "</div>"
      ],
      "text/plain": [
       "                         count unique  \\\n",
       "PostalCode                1918     22   \n",
       "County                   10000     26   \n",
       "NotFullMarketPrice       10000      2   \n",
       "VATExclusive             10000      2   \n",
       "DescriptionofProperty    10000      2   \n",
       "PropertySizeDescription   1022      4   \n",
       "\n",
       "                                                                       top  \\\n",
       "PostalCode                                                       Dublin 15   \n",
       "County                                                              Dublin   \n",
       "NotFullMarketPrice                                                      No   \n",
       "VATExclusive                                                            No   \n",
       "DescriptionofProperty                Second-Hand Dwelling house /Apartment   \n",
       "PropertySizeDescription  greater than or equal to 38 sq metres and less...   \n",
       "\n",
       "                         freq  \n",
       "PostalCode                247  \n",
       "County                   3275  \n",
       "NotFullMarketPrice       9480  \n",
       "VATExclusive             8440  \n",
       "DescriptionofProperty    8400  \n",
       "PropertySizeDescription   719  "
      ]
     },
     "execution_count": 20,
     "metadata": {},
     "output_type": "execute_result"
    }
   ],
   "source": [
    "# Print table with categorical statistics\n",
    "df.select_dtypes(['category']).describe().T"
   ]
  },
  {
   "cell_type": "markdown",
   "id": "6346683a",
   "metadata": {},
   "source": [
    "All categorical data's unique values is greater than 1\n",
    "\n",
    "- PostalCode has 22 unique values\n",
    "- County has 26 unique values\n",
    "- NotFullMarketPrice has 2 unique values\n",
    "- VATExclusive has 2 unique values\n",
    "- DescriptionofProperty has 2 unique values\n",
    "- PropertySizeDescription has 4 unique values"
   ]
  },
  {
   "cell_type": "code",
   "execution_count": 21,
   "id": "08e7cb17",
   "metadata": {},
   "outputs": [
    {
     "data": {
      "text/html": [
       "<div>\n",
       "<style scoped>\n",
       "    .dataframe tbody tr th:only-of-type {\n",
       "        vertical-align: middle;\n",
       "    }\n",
       "\n",
       "    .dataframe tbody tr th {\n",
       "        vertical-align: top;\n",
       "    }\n",
       "\n",
       "    .dataframe thead th {\n",
       "        text-align: right;\n",
       "    }\n",
       "</style>\n",
       "<table border=\"1\" class=\"dataframe\">\n",
       "  <thead>\n",
       "    <tr style=\"text-align: right;\">\n",
       "      <th></th>\n",
       "      <th>count</th>\n",
       "      <th>unique</th>\n",
       "      <th>top</th>\n",
       "      <th>freq</th>\n",
       "    </tr>\n",
       "  </thead>\n",
       "  <tbody>\n",
       "    <tr>\n",
       "      <th>Address</th>\n",
       "      <td>10000</td>\n",
       "      <td>9990</td>\n",
       "      <td>BALLYTEAGUE, KILMEAGUE, NAAS</td>\n",
       "      <td>2</td>\n",
       "    </tr>\n",
       "  </tbody>\n",
       "</table>\n",
       "</div>"
      ],
      "text/plain": [
       "         count unique                           top freq\n",
       "Address  10000   9990  BALLYTEAGUE, KILMEAGUE, NAAS    2"
      ]
     },
     "execution_count": 21,
     "metadata": {},
     "output_type": "execute_result"
    }
   ],
   "source": [
    "# Print table with objective statistic\n",
    "df.select_dtypes(['object']).describe().T"
   ]
  },
  {
   "cell_type": "markdown",
   "id": "b1d6ea99",
   "metadata": {},
   "source": [
    "- Address has 9990 unique values"
   ]
  },
  {
   "cell_type": "code",
   "execution_count": 22,
   "id": "bf695108",
   "metadata": {},
   "outputs": [
    {
     "data": {
      "text/html": [
       "<div>\n",
       "<style scoped>\n",
       "    .dataframe tbody tr th:only-of-type {\n",
       "        vertical-align: middle;\n",
       "    }\n",
       "\n",
       "    .dataframe tbody tr th {\n",
       "        vertical-align: top;\n",
       "    }\n",
       "\n",
       "    .dataframe thead th {\n",
       "        text-align: right;\n",
       "    }\n",
       "</style>\n",
       "<table border=\"1\" class=\"dataframe\">\n",
       "  <thead>\n",
       "    <tr style=\"text-align: right;\">\n",
       "      <th></th>\n",
       "      <th>count</th>\n",
       "      <th>mean</th>\n",
       "      <th>std</th>\n",
       "      <th>min</th>\n",
       "      <th>25%</th>\n",
       "      <th>50%</th>\n",
       "      <th>75%</th>\n",
       "      <th>max</th>\n",
       "    </tr>\n",
       "  </thead>\n",
       "  <tbody>\n",
       "    <tr>\n",
       "      <th>Price(€)</th>\n",
       "      <td>10000.0</td>\n",
       "      <td>267581.872415</td>\n",
       "      <td>780575.142298</td>\n",
       "      <td>5252.0</td>\n",
       "      <td>120000.0</td>\n",
       "      <td>200000.0</td>\n",
       "      <td>308370.04</td>\n",
       "      <td>60000000.0</td>\n",
       "    </tr>\n",
       "  </tbody>\n",
       "</table>\n",
       "</div>"
      ],
      "text/plain": [
       "            count           mean            std     min       25%       50%  \\\n",
       "Price(€)  10000.0  267581.872415  780575.142298  5252.0  120000.0  200000.0   \n",
       "\n",
       "                75%         max  \n",
       "Price(€)  308370.04  60000000.0  "
      ]
     },
     "execution_count": 22,
     "metadata": {},
     "output_type": "execute_result"
    }
   ],
   "source": [
    "# Print table with continuous statistic\n",
    "df.select_dtypes(['float64']).describe().T"
   ]
  },
  {
   "cell_type": "markdown",
   "id": "d40a9396",
   "metadata": {},
   "source": [
    "#### All data standard deviations are non-zero. Thus, all rows do not contain a single constant value and in this case, none of the continuous features are constant.\n",
    "#### Result : There are no constant columns."
   ]
  },
  {
   "cell_type": "markdown",
   "id": "3e81c52b",
   "metadata": {},
   "source": [
    "## 6. Check the logical integrity of your data. "
   ]
  },
  {
   "cell_type": "code",
   "execution_count": 23,
   "id": "daf242a8",
   "metadata": {},
   "outputs": [],
   "source": [
    "# Create a new dataframe\n",
    "test_1 = df[['DescriptionofProperty','VATExclusive']]"
   ]
  },
  {
   "cell_type": "code",
   "execution_count": 24,
   "id": "b5b3553b",
   "metadata": {},
   "outputs": [
    {
     "data": {
      "text/html": [
       "<div>\n",
       "<style scoped>\n",
       "    .dataframe tbody tr th:only-of-type {\n",
       "        vertical-align: middle;\n",
       "    }\n",
       "\n",
       "    .dataframe tbody tr th {\n",
       "        vertical-align: top;\n",
       "    }\n",
       "\n",
       "    .dataframe thead th {\n",
       "        text-align: right;\n",
       "    }\n",
       "</style>\n",
       "<table border=\"1\" class=\"dataframe\">\n",
       "  <thead>\n",
       "    <tr style=\"text-align: right;\">\n",
       "      <th></th>\n",
       "      <th>DescriptionofProperty</th>\n",
       "      <th>VATExclusive</th>\n",
       "    </tr>\n",
       "  </thead>\n",
       "  <tbody>\n",
       "    <tr>\n",
       "      <th>0</th>\n",
       "      <td>Second-Hand Dwelling house /Apartment</td>\n",
       "      <td>No</td>\n",
       "    </tr>\n",
       "    <tr>\n",
       "      <th>1</th>\n",
       "      <td>Second-Hand Dwelling house /Apartment</td>\n",
       "      <td>No</td>\n",
       "    </tr>\n",
       "    <tr>\n",
       "      <th>2</th>\n",
       "      <td>Second-Hand Dwelling house /Apartment</td>\n",
       "      <td>No</td>\n",
       "    </tr>\n",
       "    <tr>\n",
       "      <th>3</th>\n",
       "      <td>New Dwelling house /Apartment</td>\n",
       "      <td>Yes</td>\n",
       "    </tr>\n",
       "    <tr>\n",
       "      <th>4</th>\n",
       "      <td>Second-Hand Dwelling house /Apartment</td>\n",
       "      <td>No</td>\n",
       "    </tr>\n",
       "  </tbody>\n",
       "</table>\n",
       "</div>"
      ],
      "text/plain": [
       "                   DescriptionofProperty VATExclusive\n",
       "0  Second-Hand Dwelling house /Apartment           No\n",
       "1  Second-Hand Dwelling house /Apartment           No\n",
       "2  Second-Hand Dwelling house /Apartment           No\n",
       "3          New Dwelling house /Apartment          Yes\n",
       "4  Second-Hand Dwelling house /Apartment           No"
      ]
     },
     "execution_count": 24,
     "metadata": {},
     "output_type": "execute_result"
    }
   ],
   "source": [
    "# Check if the new dataframe have created\n",
    "test_1.head()"
   ]
  },
  {
   "cell_type": "code",
   "execution_count": 25,
   "id": "6de60617",
   "metadata": {},
   "outputs": [],
   "source": [
    "# Replace DescriptionofProperty's strings to No or Yes\n",
    "test_1 = test_1.replace({'DescriptionofProperty':\n",
    "    {'Second-Hand Dwelling house /Apartment':'No',\n",
    "    'New Dwelling house /Apartment':'Yes'\n",
    "}})"
   ]
  },
  {
   "cell_type": "code",
   "execution_count": 26,
   "id": "0778a066",
   "metadata": {},
   "outputs": [
    {
     "data": {
      "text/html": [
       "<div>\n",
       "<style scoped>\n",
       "    .dataframe tbody tr th:only-of-type {\n",
       "        vertical-align: middle;\n",
       "    }\n",
       "\n",
       "    .dataframe tbody tr th {\n",
       "        vertical-align: top;\n",
       "    }\n",
       "\n",
       "    .dataframe thead th {\n",
       "        text-align: right;\n",
       "    }\n",
       "</style>\n",
       "<table border=\"1\" class=\"dataframe\">\n",
       "  <thead>\n",
       "    <tr style=\"text-align: right;\">\n",
       "      <th></th>\n",
       "      <th>DescriptionofProperty</th>\n",
       "      <th>VATExclusive</th>\n",
       "    </tr>\n",
       "  </thead>\n",
       "  <tbody>\n",
       "    <tr>\n",
       "      <th>0</th>\n",
       "      <td>No</td>\n",
       "      <td>No</td>\n",
       "    </tr>\n",
       "    <tr>\n",
       "      <th>1</th>\n",
       "      <td>No</td>\n",
       "      <td>No</td>\n",
       "    </tr>\n",
       "    <tr>\n",
       "      <th>2</th>\n",
       "      <td>No</td>\n",
       "      <td>No</td>\n",
       "    </tr>\n",
       "    <tr>\n",
       "      <th>3</th>\n",
       "      <td>Yes</td>\n",
       "      <td>Yes</td>\n",
       "    </tr>\n",
       "    <tr>\n",
       "      <th>4</th>\n",
       "      <td>No</td>\n",
       "      <td>No</td>\n",
       "    </tr>\n",
       "  </tbody>\n",
       "</table>\n",
       "</div>"
      ],
      "text/plain": [
       "  DescriptionofProperty VATExclusive\n",
       "0                    No           No\n",
       "1                    No           No\n",
       "2                    No           No\n",
       "3                   Yes          Yes\n",
       "4                    No           No"
      ]
     },
     "execution_count": 26,
     "metadata": {},
     "output_type": "execute_result"
    }
   ],
   "source": [
    "# Check if the strings replace successful\n",
    "test_1.head()"
   ]
  },
  {
   "cell_type": "code",
   "execution_count": 27,
   "id": "d0073491",
   "metadata": {},
   "outputs": [
    {
     "name": "stdout",
     "output_type": "stream",
     "text": [
      "Number of rows failing the test:  40\n"
     ]
    },
    {
     "data": {
      "text/html": [
       "<div>\n",
       "<style scoped>\n",
       "    .dataframe tbody tr th:only-of-type {\n",
       "        vertical-align: middle;\n",
       "    }\n",
       "\n",
       "    .dataframe tbody tr th {\n",
       "        vertical-align: top;\n",
       "    }\n",
       "\n",
       "    .dataframe thead th {\n",
       "        text-align: right;\n",
       "    }\n",
       "</style>\n",
       "<table border=\"1\" class=\"dataframe\">\n",
       "  <thead>\n",
       "    <tr style=\"text-align: right;\">\n",
       "      <th></th>\n",
       "      <th>DescriptionofProperty</th>\n",
       "      <th>VATExclusive</th>\n",
       "    </tr>\n",
       "  </thead>\n",
       "  <tbody>\n",
       "    <tr>\n",
       "      <th>44</th>\n",
       "      <td>Yes</td>\n",
       "      <td>No</td>\n",
       "    </tr>\n",
       "    <tr>\n",
       "      <th>830</th>\n",
       "      <td>Yes</td>\n",
       "      <td>No</td>\n",
       "    </tr>\n",
       "    <tr>\n",
       "      <th>911</th>\n",
       "      <td>Yes</td>\n",
       "      <td>No</td>\n",
       "    </tr>\n",
       "    <tr>\n",
       "      <th>918</th>\n",
       "      <td>Yes</td>\n",
       "      <td>No</td>\n",
       "    </tr>\n",
       "    <tr>\n",
       "      <th>1180</th>\n",
       "      <td>Yes</td>\n",
       "      <td>No</td>\n",
       "    </tr>\n",
       "    <tr>\n",
       "      <th>1373</th>\n",
       "      <td>Yes</td>\n",
       "      <td>No</td>\n",
       "    </tr>\n",
       "    <tr>\n",
       "      <th>1459</th>\n",
       "      <td>Yes</td>\n",
       "      <td>No</td>\n",
       "    </tr>\n",
       "    <tr>\n",
       "      <th>1738</th>\n",
       "      <td>Yes</td>\n",
       "      <td>No</td>\n",
       "    </tr>\n",
       "    <tr>\n",
       "      <th>1850</th>\n",
       "      <td>Yes</td>\n",
       "      <td>No</td>\n",
       "    </tr>\n",
       "    <tr>\n",
       "      <th>1865</th>\n",
       "      <td>Yes</td>\n",
       "      <td>No</td>\n",
       "    </tr>\n",
       "    <tr>\n",
       "      <th>2065</th>\n",
       "      <td>Yes</td>\n",
       "      <td>No</td>\n",
       "    </tr>\n",
       "    <tr>\n",
       "      <th>2390</th>\n",
       "      <td>Yes</td>\n",
       "      <td>No</td>\n",
       "    </tr>\n",
       "    <tr>\n",
       "      <th>2978</th>\n",
       "      <td>Yes</td>\n",
       "      <td>No</td>\n",
       "    </tr>\n",
       "    <tr>\n",
       "      <th>3093</th>\n",
       "      <td>Yes</td>\n",
       "      <td>No</td>\n",
       "    </tr>\n",
       "    <tr>\n",
       "      <th>3126</th>\n",
       "      <td>Yes</td>\n",
       "      <td>No</td>\n",
       "    </tr>\n",
       "    <tr>\n",
       "      <th>3322</th>\n",
       "      <td>Yes</td>\n",
       "      <td>No</td>\n",
       "    </tr>\n",
       "    <tr>\n",
       "      <th>4282</th>\n",
       "      <td>Yes</td>\n",
       "      <td>No</td>\n",
       "    </tr>\n",
       "    <tr>\n",
       "      <th>4454</th>\n",
       "      <td>Yes</td>\n",
       "      <td>No</td>\n",
       "    </tr>\n",
       "    <tr>\n",
       "      <th>4756</th>\n",
       "      <td>Yes</td>\n",
       "      <td>No</td>\n",
       "    </tr>\n",
       "    <tr>\n",
       "      <th>4841</th>\n",
       "      <td>Yes</td>\n",
       "      <td>No</td>\n",
       "    </tr>\n",
       "    <tr>\n",
       "      <th>5234</th>\n",
       "      <td>Yes</td>\n",
       "      <td>No</td>\n",
       "    </tr>\n",
       "    <tr>\n",
       "      <th>5621</th>\n",
       "      <td>Yes</td>\n",
       "      <td>No</td>\n",
       "    </tr>\n",
       "    <tr>\n",
       "      <th>5716</th>\n",
       "      <td>Yes</td>\n",
       "      <td>No</td>\n",
       "    </tr>\n",
       "    <tr>\n",
       "      <th>5859</th>\n",
       "      <td>Yes</td>\n",
       "      <td>No</td>\n",
       "    </tr>\n",
       "    <tr>\n",
       "      <th>6079</th>\n",
       "      <td>Yes</td>\n",
       "      <td>No</td>\n",
       "    </tr>\n",
       "    <tr>\n",
       "      <th>6094</th>\n",
       "      <td>Yes</td>\n",
       "      <td>No</td>\n",
       "    </tr>\n",
       "    <tr>\n",
       "      <th>6139</th>\n",
       "      <td>Yes</td>\n",
       "      <td>No</td>\n",
       "    </tr>\n",
       "    <tr>\n",
       "      <th>6271</th>\n",
       "      <td>Yes</td>\n",
       "      <td>No</td>\n",
       "    </tr>\n",
       "    <tr>\n",
       "      <th>6539</th>\n",
       "      <td>Yes</td>\n",
       "      <td>No</td>\n",
       "    </tr>\n",
       "    <tr>\n",
       "      <th>6622</th>\n",
       "      <td>Yes</td>\n",
       "      <td>No</td>\n",
       "    </tr>\n",
       "    <tr>\n",
       "      <th>7732</th>\n",
       "      <td>Yes</td>\n",
       "      <td>No</td>\n",
       "    </tr>\n",
       "    <tr>\n",
       "      <th>7888</th>\n",
       "      <td>Yes</td>\n",
       "      <td>No</td>\n",
       "    </tr>\n",
       "    <tr>\n",
       "      <th>8156</th>\n",
       "      <td>Yes</td>\n",
       "      <td>No</td>\n",
       "    </tr>\n",
       "    <tr>\n",
       "      <th>8450</th>\n",
       "      <td>Yes</td>\n",
       "      <td>No</td>\n",
       "    </tr>\n",
       "    <tr>\n",
       "      <th>8463</th>\n",
       "      <td>Yes</td>\n",
       "      <td>No</td>\n",
       "    </tr>\n",
       "    <tr>\n",
       "      <th>8744</th>\n",
       "      <td>Yes</td>\n",
       "      <td>No</td>\n",
       "    </tr>\n",
       "    <tr>\n",
       "      <th>9279</th>\n",
       "      <td>Yes</td>\n",
       "      <td>No</td>\n",
       "    </tr>\n",
       "    <tr>\n",
       "      <th>9531</th>\n",
       "      <td>Yes</td>\n",
       "      <td>No</td>\n",
       "    </tr>\n",
       "    <tr>\n",
       "      <th>9552</th>\n",
       "      <td>Yes</td>\n",
       "      <td>No</td>\n",
       "    </tr>\n",
       "    <tr>\n",
       "      <th>9614</th>\n",
       "      <td>Yes</td>\n",
       "      <td>No</td>\n",
       "    </tr>\n",
       "  </tbody>\n",
       "</table>\n",
       "</div>"
      ],
      "text/plain": [
       "     DescriptionofProperty VATExclusive\n",
       "44                     Yes           No\n",
       "830                    Yes           No\n",
       "911                    Yes           No\n",
       "918                    Yes           No\n",
       "1180                   Yes           No\n",
       "1373                   Yes           No\n",
       "1459                   Yes           No\n",
       "1738                   Yes           No\n",
       "1850                   Yes           No\n",
       "1865                   Yes           No\n",
       "2065                   Yes           No\n",
       "2390                   Yes           No\n",
       "2978                   Yes           No\n",
       "3093                   Yes           No\n",
       "3126                   Yes           No\n",
       "3322                   Yes           No\n",
       "4282                   Yes           No\n",
       "4454                   Yes           No\n",
       "4756                   Yes           No\n",
       "4841                   Yes           No\n",
       "5234                   Yes           No\n",
       "5621                   Yes           No\n",
       "5716                   Yes           No\n",
       "5859                   Yes           No\n",
       "6079                   Yes           No\n",
       "6094                   Yes           No\n",
       "6139                   Yes           No\n",
       "6271                   Yes           No\n",
       "6539                   Yes           No\n",
       "6622                   Yes           No\n",
       "7732                   Yes           No\n",
       "7888                   Yes           No\n",
       "8156                   Yes           No\n",
       "8450                   Yes           No\n",
       "8463                   Yes           No\n",
       "8744                   Yes           No\n",
       "9279                   Yes           No\n",
       "9531                   Yes           No\n",
       "9552                   Yes           No\n",
       "9614                   Yes           No"
      ]
     },
     "execution_count": 27,
     "metadata": {},
     "output_type": "execute_result"
    }
   ],
   "source": [
    "# Test_1 check if VATExclusive is not equal to DescriptionofProperty and show all differences\n",
    "test_1 = test_1[['DescriptionofProperty','VATExclusive']][test_1['VATExclusive'] != test_1['DescriptionofProperty']]\n",
    "print(\"Number of rows failing the test: \", test_1.shape[0])\n",
    "test_1.head(40)"
   ]
  },
  {
   "cell_type": "code",
   "execution_count": 28,
   "id": "3bf60dc6",
   "metadata": {},
   "outputs": [
    {
     "data": {
      "text/plain": [
       "DateofSale(dd/mm/yyyy)        0\n",
       "Address                       0\n",
       "PostalCode                 8082\n",
       "County                        0\n",
       "Price(€)                      0\n",
       "NotFullMarketPrice            0\n",
       "VATExclusive                  0\n",
       "DescriptionofProperty         0\n",
       "PropertySizeDescription    8978\n",
       "dtype: int64"
      ]
     },
     "execution_count": 28,
     "metadata": {},
     "output_type": "execute_result"
    }
   ],
   "source": [
    "# Test_2 check for null values\n",
    "df.isnull().sum()"
   ]
  },
  {
   "cell_type": "markdown",
   "id": "d040d1ce",
   "metadata": {},
   "source": [
    "### As we can see here the postalcode has many null values, so we can check the logical integrity"
   ]
  },
  {
   "cell_type": "code",
   "execution_count": 29,
   "id": "2ad7a2d5",
   "metadata": {},
   "outputs": [
    {
     "data": {
      "text/plain": [
       "0       False\n",
       "1       False\n",
       "2        True\n",
       "3       False\n",
       "4       False\n",
       "        ...  \n",
       "9995    False\n",
       "9996    False\n",
       "9997    False\n",
       "9998    False\n",
       "9999    False\n",
       "Name: PostalCode, Length: 10000, dtype: bool"
      ]
     },
     "execution_count": 29,
     "metadata": {},
     "output_type": "execute_result"
    }
   ],
   "source": [
    "df['PostalCode'].notnull()"
   ]
  },
  {
   "cell_type": "code",
   "execution_count": 30,
   "id": "f3f3e481",
   "metadata": {},
   "outputs": [
    {
     "data": {
      "text/html": [
       "<div>\n",
       "<style scoped>\n",
       "    .dataframe tbody tr th:only-of-type {\n",
       "        vertical-align: middle;\n",
       "    }\n",
       "\n",
       "    .dataframe tbody tr th {\n",
       "        vertical-align: top;\n",
       "    }\n",
       "\n",
       "    .dataframe thead th {\n",
       "        text-align: right;\n",
       "    }\n",
       "</style>\n",
       "<table border=\"1\" class=\"dataframe\">\n",
       "  <thead>\n",
       "    <tr style=\"text-align: right;\">\n",
       "      <th></th>\n",
       "      <th>DateofSale(dd/mm/yyyy)</th>\n",
       "      <th>Address</th>\n",
       "      <th>PostalCode</th>\n",
       "      <th>County</th>\n",
       "      <th>Price(€)</th>\n",
       "      <th>NotFullMarketPrice</th>\n",
       "      <th>VATExclusive</th>\n",
       "      <th>DescriptionofProperty</th>\n",
       "      <th>PropertySizeDescription</th>\n",
       "    </tr>\n",
       "  </thead>\n",
       "  <tbody>\n",
       "    <tr>\n",
       "      <th>2</th>\n",
       "      <td>2010-09-07</td>\n",
       "      <td>32 Allenton Drive, Tallaght</td>\n",
       "      <td>Dublin 24</td>\n",
       "      <td>Dublin</td>\n",
       "      <td>194000.00</td>\n",
       "      <td>No</td>\n",
       "      <td>No</td>\n",
       "      <td>Second-Hand Dwelling house /Apartment</td>\n",
       "      <td>NaN</td>\n",
       "    </tr>\n",
       "    <tr>\n",
       "      <th>6</th>\n",
       "      <td>2019-04-30</td>\n",
       "      <td>25 GRAND CANAL WHARF, SOUTH DOCK RD, RINGSEND ...</td>\n",
       "      <td>Dublin 4</td>\n",
       "      <td>Dublin</td>\n",
       "      <td>425000.00</td>\n",
       "      <td>No</td>\n",
       "      <td>No</td>\n",
       "      <td>Second-Hand Dwelling house /Apartment</td>\n",
       "      <td>NaN</td>\n",
       "    </tr>\n",
       "    <tr>\n",
       "      <th>7</th>\n",
       "      <td>2019-12-23</td>\n",
       "      <td>66 THE MALTHOUSE, MARROWBONE LANE, DUBLIN 8</td>\n",
       "      <td>Dublin 8</td>\n",
       "      <td>Dublin</td>\n",
       "      <td>204000.00</td>\n",
       "      <td>No</td>\n",
       "      <td>No</td>\n",
       "      <td>Second-Hand Dwelling house /Apartment</td>\n",
       "      <td>NaN</td>\n",
       "    </tr>\n",
       "    <tr>\n",
       "      <th>13</th>\n",
       "      <td>2017-07-27</td>\n",
       "      <td>13 RICHMOND HALL, MOUNT ST ANNES, MILLTOWN DUB...</td>\n",
       "      <td>Dublin 6</td>\n",
       "      <td>Dublin</td>\n",
       "      <td>301762.11</td>\n",
       "      <td>No</td>\n",
       "      <td>Yes</td>\n",
       "      <td>New Dwelling house /Apartment</td>\n",
       "      <td>greater than or equal to 38 sq metres and less...</td>\n",
       "    </tr>\n",
       "    <tr>\n",
       "      <th>21</th>\n",
       "      <td>2016-12-20</td>\n",
       "      <td>12 CABRA PARK, PHIBSBOROUGH, DUBLIN 7</td>\n",
       "      <td>Dublin 7</td>\n",
       "      <td>Dublin</td>\n",
       "      <td>402000.00</td>\n",
       "      <td>No</td>\n",
       "      <td>No</td>\n",
       "      <td>Second-Hand Dwelling house /Apartment</td>\n",
       "      <td>NaN</td>\n",
       "    </tr>\n",
       "    <tr>\n",
       "      <th>...</th>\n",
       "      <td>...</td>\n",
       "      <td>...</td>\n",
       "      <td>...</td>\n",
       "      <td>...</td>\n",
       "      <td>...</td>\n",
       "      <td>...</td>\n",
       "      <td>...</td>\n",
       "      <td>...</td>\n",
       "      <td>...</td>\n",
       "    </tr>\n",
       "    <tr>\n",
       "      <th>9981</th>\n",
       "      <td>2020-11-20</td>\n",
       "      <td>APT 112, 109 PARNELL ST, DUBLIN 1</td>\n",
       "      <td>Dublin 1</td>\n",
       "      <td>Dublin</td>\n",
       "      <td>208000.00</td>\n",
       "      <td>No</td>\n",
       "      <td>No</td>\n",
       "      <td>Second-Hand Dwelling house /Apartment</td>\n",
       "      <td>NaN</td>\n",
       "    </tr>\n",
       "    <tr>\n",
       "      <th>9982</th>\n",
       "      <td>2017-12-22</td>\n",
       "      <td>30 THE WATERFRONT, HANOVER QUAY, DUBLIN 2</td>\n",
       "      <td>Dublin 2</td>\n",
       "      <td>Dublin</td>\n",
       "      <td>540000.00</td>\n",
       "      <td>No</td>\n",
       "      <td>No</td>\n",
       "      <td>Second-Hand Dwelling house /Apartment</td>\n",
       "      <td>NaN</td>\n",
       "    </tr>\n",
       "    <tr>\n",
       "      <th>9984</th>\n",
       "      <td>2016-12-09</td>\n",
       "      <td>11 BOLBROOK DRIVE, TALLAGHT, DUBLIN 24</td>\n",
       "      <td>Dublin 24</td>\n",
       "      <td>Dublin</td>\n",
       "      <td>220000.00</td>\n",
       "      <td>No</td>\n",
       "      <td>No</td>\n",
       "      <td>Second-Hand Dwelling house /Apartment</td>\n",
       "      <td>NaN</td>\n",
       "    </tr>\n",
       "    <tr>\n",
       "      <th>9991</th>\n",
       "      <td>2018-09-21</td>\n",
       "      <td>BALLINATRAY HOUSE, KILLADREENAN, NEWCASTLE</td>\n",
       "      <td>Dublin 5</td>\n",
       "      <td>Wicklow</td>\n",
       "      <td>850000.00</td>\n",
       "      <td>No</td>\n",
       "      <td>No</td>\n",
       "      <td>Second-Hand Dwelling house /Apartment</td>\n",
       "      <td>NaN</td>\n",
       "    </tr>\n",
       "    <tr>\n",
       "      <th>9992</th>\n",
       "      <td>2016-04-22</td>\n",
       "      <td>38 THE BLACKTHORN, RIVERSDALE, DUBLIN 14</td>\n",
       "      <td>Dublin 16</td>\n",
       "      <td>Dublin</td>\n",
       "      <td>310000.00</td>\n",
       "      <td>No</td>\n",
       "      <td>No</td>\n",
       "      <td>Second-Hand Dwelling house /Apartment</td>\n",
       "      <td>NaN</td>\n",
       "    </tr>\n",
       "  </tbody>\n",
       "</table>\n",
       "<p>1918 rows × 9 columns</p>\n",
       "</div>"
      ],
      "text/plain": [
       "     DateofSale(dd/mm/yyyy)  \\\n",
       "2                2010-09-07   \n",
       "6                2019-04-30   \n",
       "7                2019-12-23   \n",
       "13               2017-07-27   \n",
       "21               2016-12-20   \n",
       "...                     ...   \n",
       "9981             2020-11-20   \n",
       "9982             2017-12-22   \n",
       "9984             2016-12-09   \n",
       "9991             2018-09-21   \n",
       "9992             2016-04-22   \n",
       "\n",
       "                                                Address PostalCode   County  \\\n",
       "2                           32 Allenton Drive, Tallaght  Dublin 24   Dublin   \n",
       "6     25 GRAND CANAL WHARF, SOUTH DOCK RD, RINGSEND ...   Dublin 4   Dublin   \n",
       "7           66 THE MALTHOUSE, MARROWBONE LANE, DUBLIN 8   Dublin 8   Dublin   \n",
       "13    13 RICHMOND HALL, MOUNT ST ANNES, MILLTOWN DUB...   Dublin 6   Dublin   \n",
       "21                12 CABRA PARK, PHIBSBOROUGH, DUBLIN 7   Dublin 7   Dublin   \n",
       "...                                                 ...        ...      ...   \n",
       "9981                  APT 112, 109 PARNELL ST, DUBLIN 1   Dublin 1   Dublin   \n",
       "9982          30 THE WATERFRONT, HANOVER QUAY, DUBLIN 2   Dublin 2   Dublin   \n",
       "9984             11 BOLBROOK DRIVE, TALLAGHT, DUBLIN 24  Dublin 24   Dublin   \n",
       "9991         BALLINATRAY HOUSE, KILLADREENAN, NEWCASTLE   Dublin 5  Wicklow   \n",
       "9992           38 THE BLACKTHORN, RIVERSDALE, DUBLIN 14  Dublin 16   Dublin   \n",
       "\n",
       "       Price(€) NotFullMarketPrice VATExclusive  \\\n",
       "2     194000.00                 No           No   \n",
       "6     425000.00                 No           No   \n",
       "7     204000.00                 No           No   \n",
       "13    301762.11                 No          Yes   \n",
       "21    402000.00                 No           No   \n",
       "...         ...                ...          ...   \n",
       "9981  208000.00                 No           No   \n",
       "9982  540000.00                 No           No   \n",
       "9984  220000.00                 No           No   \n",
       "9991  850000.00                 No           No   \n",
       "9992  310000.00                 No           No   \n",
       "\n",
       "                      DescriptionofProperty  \\\n",
       "2     Second-Hand Dwelling house /Apartment   \n",
       "6     Second-Hand Dwelling house /Apartment   \n",
       "7     Second-Hand Dwelling house /Apartment   \n",
       "13            New Dwelling house /Apartment   \n",
       "21    Second-Hand Dwelling house /Apartment   \n",
       "...                                     ...   \n",
       "9981  Second-Hand Dwelling house /Apartment   \n",
       "9982  Second-Hand Dwelling house /Apartment   \n",
       "9984  Second-Hand Dwelling house /Apartment   \n",
       "9991  Second-Hand Dwelling house /Apartment   \n",
       "9992  Second-Hand Dwelling house /Apartment   \n",
       "\n",
       "                                PropertySizeDescription  \n",
       "2                                                   NaN  \n",
       "6                                                   NaN  \n",
       "7                                                   NaN  \n",
       "13    greater than or equal to 38 sq metres and less...  \n",
       "21                                                  NaN  \n",
       "...                                                 ...  \n",
       "9981                                                NaN  \n",
       "9982                                                NaN  \n",
       "9984                                                NaN  \n",
       "9991                                                NaN  \n",
       "9992                                                NaN  \n",
       "\n",
       "[1918 rows x 9 columns]"
      ]
     },
     "execution_count": 30,
     "metadata": {},
     "output_type": "execute_result"
    }
   ],
   "source": [
    "df[df['PostalCode'].notnull()]"
   ]
  },
  {
   "cell_type": "markdown",
   "id": "d36a7460",
   "metadata": {},
   "source": [
    "### As we can see here, some addresses include dublin, but some do not, so I want to find the addresses which include DUBLIN"
   ]
  },
  {
   "cell_type": "code",
   "execution_count": 31,
   "id": "978a3a13",
   "metadata": {},
   "outputs": [
    {
     "data": {
      "text/html": [
       "<div>\n",
       "<style scoped>\n",
       "    .dataframe tbody tr th:only-of-type {\n",
       "        vertical-align: middle;\n",
       "    }\n",
       "\n",
       "    .dataframe tbody tr th {\n",
       "        vertical-align: top;\n",
       "    }\n",
       "\n",
       "    .dataframe thead th {\n",
       "        text-align: right;\n",
       "    }\n",
       "</style>\n",
       "<table border=\"1\" class=\"dataframe\">\n",
       "  <thead>\n",
       "    <tr style=\"text-align: right;\">\n",
       "      <th></th>\n",
       "      <th>DateofSale(dd/mm/yyyy)</th>\n",
       "      <th>Address</th>\n",
       "      <th>PostalCode</th>\n",
       "      <th>County</th>\n",
       "      <th>Price(€)</th>\n",
       "      <th>NotFullMarketPrice</th>\n",
       "      <th>VATExclusive</th>\n",
       "      <th>DescriptionofProperty</th>\n",
       "      <th>PropertySizeDescription</th>\n",
       "      <th>Address_1</th>\n",
       "    </tr>\n",
       "  </thead>\n",
       "  <tbody>\n",
       "    <tr>\n",
       "      <th>1</th>\n",
       "      <td>2020-12-03</td>\n",
       "      <td>13 FABER GROVE, DUN LAOGHAIRE, DUBLIN</td>\n",
       "      <td>NaN</td>\n",
       "      <td>Dublin</td>\n",
       "      <td>320000.00</td>\n",
       "      <td>No</td>\n",
       "      <td>No</td>\n",
       "      <td>Second-Hand Dwelling house /Apartment</td>\n",
       "      <td>NaN</td>\n",
       "      <td>13 FABER GROVE, DUN LAOGHAIRE, DUBLIN</td>\n",
       "    </tr>\n",
       "    <tr>\n",
       "      <th>6</th>\n",
       "      <td>2019-04-30</td>\n",
       "      <td>25 GRAND CANAL WHARF, SOUTH DOCK RD, RINGSEND ...</td>\n",
       "      <td>Dublin 4</td>\n",
       "      <td>Dublin</td>\n",
       "      <td>425000.00</td>\n",
       "      <td>No</td>\n",
       "      <td>No</td>\n",
       "      <td>Second-Hand Dwelling house /Apartment</td>\n",
       "      <td>NaN</td>\n",
       "      <td>25 GRAND CANAL WHARF, SOUTH DOCK RD, RINGSEND ...</td>\n",
       "    </tr>\n",
       "    <tr>\n",
       "      <th>7</th>\n",
       "      <td>2019-12-23</td>\n",
       "      <td>66 THE MALTHOUSE, MARROWBONE LANE, DUBLIN 8</td>\n",
       "      <td>Dublin 8</td>\n",
       "      <td>Dublin</td>\n",
       "      <td>204000.00</td>\n",
       "      <td>No</td>\n",
       "      <td>No</td>\n",
       "      <td>Second-Hand Dwelling house /Apartment</td>\n",
       "      <td>NaN</td>\n",
       "      <td>66 THE MALTHOUSE, MARROWBONE LANE, DUBLIN 8</td>\n",
       "    </tr>\n",
       "    <tr>\n",
       "      <th>13</th>\n",
       "      <td>2017-07-27</td>\n",
       "      <td>13 RICHMOND HALL, MOUNT ST ANNES, MILLTOWN DUB...</td>\n",
       "      <td>Dublin 6</td>\n",
       "      <td>Dublin</td>\n",
       "      <td>301762.11</td>\n",
       "      <td>No</td>\n",
       "      <td>Yes</td>\n",
       "      <td>New Dwelling house /Apartment</td>\n",
       "      <td>greater than or equal to 38 sq metres and less...</td>\n",
       "      <td>13 RICHMOND HALL, MOUNT ST ANNES, MILLTOWN DUB...</td>\n",
       "    </tr>\n",
       "    <tr>\n",
       "      <th>21</th>\n",
       "      <td>2016-12-20</td>\n",
       "      <td>12 CABRA PARK, PHIBSBOROUGH, DUBLIN 7</td>\n",
       "      <td>Dublin 7</td>\n",
       "      <td>Dublin</td>\n",
       "      <td>402000.00</td>\n",
       "      <td>No</td>\n",
       "      <td>No</td>\n",
       "      <td>Second-Hand Dwelling house /Apartment</td>\n",
       "      <td>NaN</td>\n",
       "      <td>12 CABRA PARK, PHIBSBOROUGH, DUBLIN 7</td>\n",
       "    </tr>\n",
       "    <tr>\n",
       "      <th>...</th>\n",
       "      <td>...</td>\n",
       "      <td>...</td>\n",
       "      <td>...</td>\n",
       "      <td>...</td>\n",
       "      <td>...</td>\n",
       "      <td>...</td>\n",
       "      <td>...</td>\n",
       "      <td>...</td>\n",
       "      <td>...</td>\n",
       "      <td>...</td>\n",
       "    </tr>\n",
       "    <tr>\n",
       "      <th>9966</th>\n",
       "      <td>2016-01-14</td>\n",
       "      <td>5 LIBERTY COURT, LR CLANBRASSIL ST, DUBLIN 8</td>\n",
       "      <td>Dublin 8</td>\n",
       "      <td>Dublin</td>\n",
       "      <td>180000.00</td>\n",
       "      <td>No</td>\n",
       "      <td>No</td>\n",
       "      <td>Second-Hand Dwelling house /Apartment</td>\n",
       "      <td>NaN</td>\n",
       "      <td>5 LIBERTY COURT, LR CLANBRASSIL ST, DUBLIN 8</td>\n",
       "    </tr>\n",
       "    <tr>\n",
       "      <th>9981</th>\n",
       "      <td>2020-11-20</td>\n",
       "      <td>APT 112, 109 PARNELL ST, DUBLIN 1</td>\n",
       "      <td>Dublin 1</td>\n",
       "      <td>Dublin</td>\n",
       "      <td>208000.00</td>\n",
       "      <td>No</td>\n",
       "      <td>No</td>\n",
       "      <td>Second-Hand Dwelling house /Apartment</td>\n",
       "      <td>NaN</td>\n",
       "      <td>APT 112, 109 PARNELL ST, DUBLIN 1</td>\n",
       "    </tr>\n",
       "    <tr>\n",
       "      <th>9982</th>\n",
       "      <td>2017-12-22</td>\n",
       "      <td>30 THE WATERFRONT, HANOVER QUAY, DUBLIN 2</td>\n",
       "      <td>Dublin 2</td>\n",
       "      <td>Dublin</td>\n",
       "      <td>540000.00</td>\n",
       "      <td>No</td>\n",
       "      <td>No</td>\n",
       "      <td>Second-Hand Dwelling house /Apartment</td>\n",
       "      <td>NaN</td>\n",
       "      <td>30 THE WATERFRONT, HANOVER QUAY, DUBLIN 2</td>\n",
       "    </tr>\n",
       "    <tr>\n",
       "      <th>9984</th>\n",
       "      <td>2016-12-09</td>\n",
       "      <td>11 BOLBROOK DRIVE, TALLAGHT, DUBLIN 24</td>\n",
       "      <td>Dublin 24</td>\n",
       "      <td>Dublin</td>\n",
       "      <td>220000.00</td>\n",
       "      <td>No</td>\n",
       "      <td>No</td>\n",
       "      <td>Second-Hand Dwelling house /Apartment</td>\n",
       "      <td>NaN</td>\n",
       "      <td>11 BOLBROOK DRIVE, TALLAGHT, DUBLIN 24</td>\n",
       "    </tr>\n",
       "    <tr>\n",
       "      <th>9992</th>\n",
       "      <td>2016-04-22</td>\n",
       "      <td>38 THE BLACKTHORN, RIVERSDALE, DUBLIN 14</td>\n",
       "      <td>Dublin 16</td>\n",
       "      <td>Dublin</td>\n",
       "      <td>310000.00</td>\n",
       "      <td>No</td>\n",
       "      <td>No</td>\n",
       "      <td>Second-Hand Dwelling house /Apartment</td>\n",
       "      <td>NaN</td>\n",
       "      <td>38 THE BLACKTHORN, RIVERSDALE, DUBLIN 14</td>\n",
       "    </tr>\n",
       "  </tbody>\n",
       "</table>\n",
       "<p>1751 rows × 10 columns</p>\n",
       "</div>"
      ],
      "text/plain": [
       "     DateofSale(dd/mm/yyyy)  \\\n",
       "1                2020-12-03   \n",
       "6                2019-04-30   \n",
       "7                2019-12-23   \n",
       "13               2017-07-27   \n",
       "21               2016-12-20   \n",
       "...                     ...   \n",
       "9966             2016-01-14   \n",
       "9981             2020-11-20   \n",
       "9982             2017-12-22   \n",
       "9984             2016-12-09   \n",
       "9992             2016-04-22   \n",
       "\n",
       "                                                Address PostalCode  County  \\\n",
       "1                 13 FABER GROVE, DUN LAOGHAIRE, DUBLIN        NaN  Dublin   \n",
       "6     25 GRAND CANAL WHARF, SOUTH DOCK RD, RINGSEND ...   Dublin 4  Dublin   \n",
       "7           66 THE MALTHOUSE, MARROWBONE LANE, DUBLIN 8   Dublin 8  Dublin   \n",
       "13    13 RICHMOND HALL, MOUNT ST ANNES, MILLTOWN DUB...   Dublin 6  Dublin   \n",
       "21                12 CABRA PARK, PHIBSBOROUGH, DUBLIN 7   Dublin 7  Dublin   \n",
       "...                                                 ...        ...     ...   \n",
       "9966       5 LIBERTY COURT, LR CLANBRASSIL ST, DUBLIN 8   Dublin 8  Dublin   \n",
       "9981                  APT 112, 109 PARNELL ST, DUBLIN 1   Dublin 1  Dublin   \n",
       "9982          30 THE WATERFRONT, HANOVER QUAY, DUBLIN 2   Dublin 2  Dublin   \n",
       "9984             11 BOLBROOK DRIVE, TALLAGHT, DUBLIN 24  Dublin 24  Dublin   \n",
       "9992           38 THE BLACKTHORN, RIVERSDALE, DUBLIN 14  Dublin 16  Dublin   \n",
       "\n",
       "       Price(€) NotFullMarketPrice VATExclusive  \\\n",
       "1     320000.00                 No           No   \n",
       "6     425000.00                 No           No   \n",
       "7     204000.00                 No           No   \n",
       "13    301762.11                 No          Yes   \n",
       "21    402000.00                 No           No   \n",
       "...         ...                ...          ...   \n",
       "9966  180000.00                 No           No   \n",
       "9981  208000.00                 No           No   \n",
       "9982  540000.00                 No           No   \n",
       "9984  220000.00                 No           No   \n",
       "9992  310000.00                 No           No   \n",
       "\n",
       "                      DescriptionofProperty  \\\n",
       "1     Second-Hand Dwelling house /Apartment   \n",
       "6     Second-Hand Dwelling house /Apartment   \n",
       "7     Second-Hand Dwelling house /Apartment   \n",
       "13            New Dwelling house /Apartment   \n",
       "21    Second-Hand Dwelling house /Apartment   \n",
       "...                                     ...   \n",
       "9966  Second-Hand Dwelling house /Apartment   \n",
       "9981  Second-Hand Dwelling house /Apartment   \n",
       "9982  Second-Hand Dwelling house /Apartment   \n",
       "9984  Second-Hand Dwelling house /Apartment   \n",
       "9992  Second-Hand Dwelling house /Apartment   \n",
       "\n",
       "                                PropertySizeDescription  \\\n",
       "1                                                   NaN   \n",
       "6                                                   NaN   \n",
       "7                                                   NaN   \n",
       "13    greater than or equal to 38 sq metres and less...   \n",
       "21                                                  NaN   \n",
       "...                                                 ...   \n",
       "9966                                                NaN   \n",
       "9981                                                NaN   \n",
       "9982                                                NaN   \n",
       "9984                                                NaN   \n",
       "9992                                                NaN   \n",
       "\n",
       "                                              Address_1  \n",
       "1                 13 FABER GROVE, DUN LAOGHAIRE, DUBLIN  \n",
       "6     25 GRAND CANAL WHARF, SOUTH DOCK RD, RINGSEND ...  \n",
       "7           66 THE MALTHOUSE, MARROWBONE LANE, DUBLIN 8  \n",
       "13    13 RICHMOND HALL, MOUNT ST ANNES, MILLTOWN DUB...  \n",
       "21                12 CABRA PARK, PHIBSBOROUGH, DUBLIN 7  \n",
       "...                                                 ...  \n",
       "9966       5 LIBERTY COURT, LR CLANBRASSIL ST, DUBLIN 8  \n",
       "9981                  APT 112, 109 PARNELL ST, DUBLIN 1  \n",
       "9982          30 THE WATERFRONT, HANOVER QUAY, DUBLIN 2  \n",
       "9984             11 BOLBROOK DRIVE, TALLAGHT, DUBLIN 24  \n",
       "9992           38 THE BLACKTHORN, RIVERSDALE, DUBLIN 14  \n",
       "\n",
       "[1751 rows x 10 columns]"
      ]
     },
     "execution_count": 31,
     "metadata": {},
     "output_type": "execute_result"
    }
   ],
   "source": [
    "# Case I'm not sure there are all upperletter, so I translate them to upperletter first\n",
    "df[\"Address_1\"] = df[\"Address\"].apply(lambda x: x.upper()) \n",
    "\n",
    "# Check if Address contains string \"DUBLIN\"\n",
    "df[df[\"Address\"].str.contains(\"DUBLIN\")==True]"
   ]
  },
  {
   "cell_type": "markdown",
   "id": "8f1ab1ef",
   "metadata": {},
   "source": [
    "### There are 1751 houses or apartment are in Dublin"
   ]
  },
  {
   "cell_type": "code",
   "execution_count": 32,
   "id": "da2740ea",
   "metadata": {},
   "outputs": [
    {
     "data": {
      "text/html": [
       "<div>\n",
       "<style scoped>\n",
       "    .dataframe tbody tr th:only-of-type {\n",
       "        vertical-align: middle;\n",
       "    }\n",
       "\n",
       "    .dataframe tbody tr th {\n",
       "        vertical-align: top;\n",
       "    }\n",
       "\n",
       "    .dataframe thead th {\n",
       "        text-align: right;\n",
       "    }\n",
       "</style>\n",
       "<table border=\"1\" class=\"dataframe\">\n",
       "  <thead>\n",
       "    <tr style=\"text-align: right;\">\n",
       "      <th></th>\n",
       "      <th>DateofSale(dd/mm/yyyy)</th>\n",
       "      <th>DateCheck</th>\n",
       "    </tr>\n",
       "  </thead>\n",
       "  <tbody>\n",
       "    <tr>\n",
       "      <th>1393</th>\n",
       "      <td>2022-10-01</td>\n",
       "      <td>no</td>\n",
       "    </tr>\n",
       "    <tr>\n",
       "      <th>2094</th>\n",
       "      <td>2022-06-01</td>\n",
       "      <td>no</td>\n",
       "    </tr>\n",
       "    <tr>\n",
       "      <th>3830</th>\n",
       "      <td>2022-07-01</td>\n",
       "      <td>no</td>\n",
       "    </tr>\n",
       "    <tr>\n",
       "      <th>4334</th>\n",
       "      <td>2022-07-01</td>\n",
       "      <td>no</td>\n",
       "    </tr>\n",
       "    <tr>\n",
       "      <th>6880</th>\n",
       "      <td>2022-05-01</td>\n",
       "      <td>no</td>\n",
       "    </tr>\n",
       "    <tr>\n",
       "      <th>6959</th>\n",
       "      <td>2022-05-01</td>\n",
       "      <td>no</td>\n",
       "    </tr>\n",
       "    <tr>\n",
       "      <th>7005</th>\n",
       "      <td>2022-06-01</td>\n",
       "      <td>no</td>\n",
       "    </tr>\n",
       "    <tr>\n",
       "      <th>7121</th>\n",
       "      <td>2022-06-01</td>\n",
       "      <td>no</td>\n",
       "    </tr>\n",
       "    <tr>\n",
       "      <th>8295</th>\n",
       "      <td>2022-04-01</td>\n",
       "      <td>no</td>\n",
       "    </tr>\n",
       "    <tr>\n",
       "      <th>8336</th>\n",
       "      <td>2022-11-01</td>\n",
       "      <td>no</td>\n",
       "    </tr>\n",
       "  </tbody>\n",
       "</table>\n",
       "</div>"
      ],
      "text/plain": [
       "     DateofSale(dd/mm/yyyy) DateCheck\n",
       "1393             2022-10-01        no\n",
       "2094             2022-06-01        no\n",
       "3830             2022-07-01        no\n",
       "4334             2022-07-01        no\n",
       "6880             2022-05-01        no\n",
       "6959             2022-05-01        no\n",
       "7005             2022-06-01        no\n",
       "7121             2022-06-01        no\n",
       "8295             2022-04-01        no\n",
       "8336             2022-11-01        no"
      ]
     },
     "execution_count": 32,
     "metadata": {},
     "output_type": "execute_result"
    }
   ],
   "source": [
    "# Test_3\n",
    "test_3 = df[[\"DateofSale(dd/mm/yyyy)\"]]\n",
    "# Create a DateCheck column and change values to no\n",
    "test_3[\"DateCheck\"] = \"no\"\n",
    "# Set the condition, check if the date is between 2010-01-01 and 2022-03-07\n",
    "test_3[\"DateCheck\"] = np.where((test_3[\"DateofSale(dd/mm/yyyy)\"] > '2010-01-01') & (test_3[\"DateofSale(dd/mm/yyyy)\"] < '2022-03-07') , \"True\",test_3[\"DateCheck\"])\n",
    "# Return no if not in the range of date\n",
    "test_3.loc[test_3[\"DateCheck\"]==\"no\"]\n"
   ]
  },
  {
   "cell_type": "markdown",
   "id": "1a2e5051",
   "metadata": {},
   "source": [
    "### As we can see from test_3, there are 10 houses or apartments are over the date range."
   ]
  },
  {
   "cell_type": "markdown",
   "id": "6ac8c354",
   "metadata": {},
   "source": [
    "## 7. Save your updated/cleaned data frame to a new csv file."
   ]
  },
  {
   "cell_type": "code",
   "execution_count": 33,
   "id": "b4f183ec",
   "metadata": {},
   "outputs": [],
   "source": [
    "# Write the data frame to a new CSV file\n",
    "df.to_csv('Residential_Property_Price_Prediction_20211342.csv', index=False)"
   ]
  },
  {
   "cell_type": "markdown",
   "id": "2280a2ee",
   "metadata": {},
   "source": [
    "## 8. Prepare a table with descriptive statistics for all the continuous features."
   ]
  },
  {
   "cell_type": "code",
   "execution_count": 34,
   "id": "7da4302d",
   "metadata": {},
   "outputs": [
    {
     "data": {
      "text/html": [
       "<div>\n",
       "<style scoped>\n",
       "    .dataframe tbody tr th:only-of-type {\n",
       "        vertical-align: middle;\n",
       "    }\n",
       "\n",
       "    .dataframe tbody tr th {\n",
       "        vertical-align: top;\n",
       "    }\n",
       "\n",
       "    .dataframe thead th {\n",
       "        text-align: right;\n",
       "    }\n",
       "</style>\n",
       "<table border=\"1\" class=\"dataframe\">\n",
       "  <thead>\n",
       "    <tr style=\"text-align: right;\">\n",
       "      <th></th>\n",
       "      <th>count</th>\n",
       "      <th>mean</th>\n",
       "      <th>std</th>\n",
       "      <th>min</th>\n",
       "      <th>25%</th>\n",
       "      <th>50%</th>\n",
       "      <th>75%</th>\n",
       "      <th>max</th>\n",
       "    </tr>\n",
       "  </thead>\n",
       "  <tbody>\n",
       "    <tr>\n",
       "      <th>Price(€)</th>\n",
       "      <td>10000.0</td>\n",
       "      <td>267581.872415</td>\n",
       "      <td>780575.142298</td>\n",
       "      <td>5252.0</td>\n",
       "      <td>120000.0</td>\n",
       "      <td>200000.0</td>\n",
       "      <td>308370.04</td>\n",
       "      <td>60000000.0</td>\n",
       "    </tr>\n",
       "  </tbody>\n",
       "</table>\n",
       "</div>"
      ],
      "text/plain": [
       "            count           mean            std     min       25%       50%  \\\n",
       "Price(€)  10000.0  267581.872415  780575.142298  5252.0  120000.0  200000.0   \n",
       "\n",
       "                75%         max  \n",
       "Price(€)  308370.04  60000000.0  "
      ]
     },
     "execution_count": 34,
     "metadata": {},
     "output_type": "execute_result"
    }
   ],
   "source": [
    "# Print table with descriptive statistic for the continuous feature\n",
    "continuous_column = df.select_dtypes(['float64']).columns\n",
    "df[continuous_column].describe().T"
   ]
  },
  {
   "cell_type": "markdown",
   "id": "fbbf65a3",
   "metadata": {},
   "source": [
    "## 9. Prepare a table with descriptive statistics for all the categorical features."
   ]
  },
  {
   "cell_type": "code",
   "execution_count": 35,
   "id": "c46b34cc",
   "metadata": {},
   "outputs": [
    {
     "data": {
      "text/html": [
       "<div>\n",
       "<style scoped>\n",
       "    .dataframe tbody tr th:only-of-type {\n",
       "        vertical-align: middle;\n",
       "    }\n",
       "\n",
       "    .dataframe tbody tr th {\n",
       "        vertical-align: top;\n",
       "    }\n",
       "\n",
       "    .dataframe thead th {\n",
       "        text-align: right;\n",
       "    }\n",
       "</style>\n",
       "<table border=\"1\" class=\"dataframe\">\n",
       "  <thead>\n",
       "    <tr style=\"text-align: right;\">\n",
       "      <th></th>\n",
       "      <th>count</th>\n",
       "      <th>unique</th>\n",
       "      <th>top</th>\n",
       "      <th>freq</th>\n",
       "    </tr>\n",
       "  </thead>\n",
       "  <tbody>\n",
       "    <tr>\n",
       "      <th>PostalCode</th>\n",
       "      <td>1918</td>\n",
       "      <td>22</td>\n",
       "      <td>Dublin 15</td>\n",
       "      <td>247</td>\n",
       "    </tr>\n",
       "    <tr>\n",
       "      <th>County</th>\n",
       "      <td>10000</td>\n",
       "      <td>26</td>\n",
       "      <td>Dublin</td>\n",
       "      <td>3275</td>\n",
       "    </tr>\n",
       "    <tr>\n",
       "      <th>NotFullMarketPrice</th>\n",
       "      <td>10000</td>\n",
       "      <td>2</td>\n",
       "      <td>No</td>\n",
       "      <td>9480</td>\n",
       "    </tr>\n",
       "    <tr>\n",
       "      <th>VATExclusive</th>\n",
       "      <td>10000</td>\n",
       "      <td>2</td>\n",
       "      <td>No</td>\n",
       "      <td>8440</td>\n",
       "    </tr>\n",
       "    <tr>\n",
       "      <th>DescriptionofProperty</th>\n",
       "      <td>10000</td>\n",
       "      <td>2</td>\n",
       "      <td>Second-Hand Dwelling house /Apartment</td>\n",
       "      <td>8400</td>\n",
       "    </tr>\n",
       "    <tr>\n",
       "      <th>PropertySizeDescription</th>\n",
       "      <td>1022</td>\n",
       "      <td>4</td>\n",
       "      <td>greater than or equal to 38 sq metres and less...</td>\n",
       "      <td>719</td>\n",
       "    </tr>\n",
       "  </tbody>\n",
       "</table>\n",
       "</div>"
      ],
      "text/plain": [
       "                         count unique  \\\n",
       "PostalCode                1918     22   \n",
       "County                   10000     26   \n",
       "NotFullMarketPrice       10000      2   \n",
       "VATExclusive             10000      2   \n",
       "DescriptionofProperty    10000      2   \n",
       "PropertySizeDescription   1022      4   \n",
       "\n",
       "                                                                       top  \\\n",
       "PostalCode                                                       Dublin 15   \n",
       "County                                                              Dublin   \n",
       "NotFullMarketPrice                                                      No   \n",
       "VATExclusive                                                            No   \n",
       "DescriptionofProperty                Second-Hand Dwelling house /Apartment   \n",
       "PropertySizeDescription  greater than or equal to 38 sq metres and less...   \n",
       "\n",
       "                         freq  \n",
       "PostalCode                247  \n",
       "County                   3275  \n",
       "NotFullMarketPrice       9480  \n",
       "VATExclusive             8440  \n",
       "DescriptionofProperty    8400  \n",
       "PropertySizeDescription   719  "
      ]
     },
     "execution_count": 35,
     "metadata": {},
     "output_type": "execute_result"
    }
   ],
   "source": [
    "# Print table with descriptive statistics for the categorical features\n",
    "categorical_columns = df.select_dtypes(['category']).columns\n",
    "df[categorical_columns].describe().T"
   ]
  },
  {
   "cell_type": "code",
   "execution_count": 36,
   "id": "9d627ecd",
   "metadata": {},
   "outputs": [
    {
     "data": {
      "text/html": [
       "<div>\n",
       "<style scoped>\n",
       "    .dataframe tbody tr th:only-of-type {\n",
       "        vertical-align: middle;\n",
       "    }\n",
       "\n",
       "    .dataframe tbody tr th {\n",
       "        vertical-align: top;\n",
       "    }\n",
       "\n",
       "    .dataframe thead th {\n",
       "        text-align: right;\n",
       "    }\n",
       "</style>\n",
       "<table border=\"1\" class=\"dataframe\">\n",
       "  <thead>\n",
       "    <tr style=\"text-align: right;\">\n",
       "      <th></th>\n",
       "      <th>count</th>\n",
       "      <th>unique</th>\n",
       "      <th>top</th>\n",
       "      <th>freq</th>\n",
       "    </tr>\n",
       "  </thead>\n",
       "  <tbody>\n",
       "    <tr>\n",
       "      <th>Address</th>\n",
       "      <td>10000</td>\n",
       "      <td>9990</td>\n",
       "      <td>BALLYTEAGUE, KILMEAGUE, NAAS</td>\n",
       "      <td>2</td>\n",
       "    </tr>\n",
       "    <tr>\n",
       "      <th>Address_1</th>\n",
       "      <td>10000</td>\n",
       "      <td>9989</td>\n",
       "      <td>16 LANDSDOWNE VILLAGE, KENMARE, KERRY</td>\n",
       "      <td>2</td>\n",
       "    </tr>\n",
       "  </tbody>\n",
       "</table>\n",
       "</div>"
      ],
      "text/plain": [
       "           count unique                                    top freq\n",
       "Address    10000   9990           BALLYTEAGUE, KILMEAGUE, NAAS    2\n",
       "Address_1  10000   9989  16 LANDSDOWNE VILLAGE, KENMARE, KERRY    2"
      ]
     },
     "execution_count": 36,
     "metadata": {},
     "output_type": "execute_result"
    }
   ],
   "source": [
    "# Print table with descriptive statistic for the objective feature\n",
    "objective_column = df.select_dtypes(['object']).columns\n",
    "df[objective_column].describe().T"
   ]
  },
  {
   "cell_type": "code",
   "execution_count": 37,
   "id": "d55eb9d8",
   "metadata": {},
   "outputs": [],
   "source": [
    "# Address_1 is for logical integrity"
   ]
  },
  {
   "cell_type": "markdown",
   "id": "1a2121ed",
   "metadata": {},
   "source": [
    "## 10. Plot histograms for all the continuous features"
   ]
  },
  {
   "cell_type": "code",
   "execution_count": 38,
   "id": "17799f36",
   "metadata": {},
   "outputs": [
    {
     "data": {
      "image/png": "[encoded data removed]",
      "text/plain": [
       "<Figure size 2160x2160 with 24 Axes>"
      ]
     },
     "metadata": {
      "needs_background": "light"
     },
     "output_type": "display_data"
    }
   ],
   "source": [
    "# Print histogram for continuous features\n",
    "df[continuous_column].hist(layout=(6, 4), figsize=(30,30), bins=10)\n",
    "plt.savefig('continuous_histogram.pdf')"
   ]
  },
  {
   "cell_type": "markdown",
   "id": "afb6437a",
   "metadata": {},
   "source": [
    "## 11. Plot box plots for all the continuous features."
   ]
  },
  {
   "cell_type": "code",
   "execution_count": 39,
   "id": "7d7450a6",
   "metadata": {},
   "outputs": [
    {
     "data": {
      "image/png": "[encoded data removed]",
      "text/plain": [
       "<Figure size 2160x2160 with 24 Axes>"
      ]
     },
     "metadata": {
      "needs_background": "light"
     },
     "output_type": "display_data"
    }
   ],
   "source": [
    "df[continuous_column].plot(kind='box', subplots=True, figsize=(30,30), layout=(6,4), sharex=False, sharey=False)\n",
    "plt.savefig('continuous_boxplot.pdf')"
   ]
  },
  {
   "cell_type": "markdown",
   "id": "a86e4deb",
   "metadata": {},
   "source": [
    "## 12. Plot bar plots for all the categorical features."
   ]
  },
  {
   "cell_type": "code",
   "execution_count": 40,
   "id": "15f3fd6f",
   "metadata": {},
   "outputs": [
    {
     "data": {
      "image/png": "[encoded data removed]",
      "text/plain": [
       "<Figure size 864x720 with 1 Axes>"
      ]
     },
     "metadata": {
      "needs_background": "light"
     },
     "output_type": "display_data"
    },
    {
     "data": {
      "image/png": "[encoded data removed]",
      "text/plain": [
       "<Figure size 864x720 with 1 Axes>"
      ]
     },
     "metadata": {
      "needs_background": "light"
     },
     "output_type": "display_data"
    },
    {
     "data": {
      "image/png": "[encoded data removed]",
      "text/plain": [
       "<Figure size 864x720 with 1 Axes>"
      ]
     },
     "metadata": {
      "needs_background": "light"
     },
     "output_type": "display_data"
    },
    {
     "data": {
      "image/png": "[encoded data removed]",
      "text/plain": [
       "<Figure size 864x720 with 1 Axes>"
      ]
     },
     "metadata": {
      "needs_background": "light"
     },
     "output_type": "display_data"
    },
    {
     "data": {
      "image/png": "[encoded data removed]",
      "text/plain": [
       "<Figure size 864x720 with 1 Axes>"
      ]
     },
     "metadata": {
      "needs_background": "light"
     },
     "output_type": "display_data"
    },
    {
     "data": {
      "image/png": "[encoded data removed]",
      "text/plain": [
       "<Figure size 864x720 with 1 Axes>"
      ]
     },
     "metadata": {
      "needs_background": "light"
     },
     "output_type": "display_data"
    }
   ],
   "source": [
    "# Plot bar plots for all the catagorical features and save them in a single PDF file\n",
    "with PdfPages('categorical_barplots.pdf') as pp:\n",
    "    for col in categorical_columns:\n",
    "        f = df[col].value_counts().plot(kind='bar', figsize=(12,10),title=column)\n",
    "        plt.ylabel('Number of Houses')\n",
    "        pp.savefig(f.get_figure())\n",
    "        plt.show()"
   ]
  },
  {
   "cell_type": "code",
   "execution_count": 41,
   "id": "b3d84d74",
   "metadata": {},
   "outputs": [],
   "source": [
    "pd.set_option('display.max_columns',1000)\n",
    "pd.set_option('display.max_columns',None)\n",
    "pd.set_option('display.width',1000)\n",
    "pd.set_option('display.max_colwidth',1000)"
   ]
  },
  {
   "cell_type": "markdown",
   "id": "29952c6a",
   "metadata": {},
   "source": [
    "# 2. Prepare a data quality plan for the cleaned CSV file."
   ]
  },
  {
   "cell_type": "markdown",
   "id": "0c67dc14",
   "metadata": {},
   "source": [
    "### 2. Data Quality Plan\n",
    "- 1. Date has exceeded the current time, may be a problem when the information is entered, but only within 10, accounting for a very low ratio, so you can do nothing;\n",
    "- 2. Price has abnormal values: the price is found to be 6 times and 4 times the maximum value of the normal range, but considering that different assets can indeed have a large gap, for example, a large villa is much more expensive than a small house, so do nothing.\n",
    "- 3. address format is not standard and there are duplicate data; there are 10 duplicate data; not unique, check Google API with address as parameter, some of them will appear multiple data, which means that some of the address itself cannot uniquely refer to a house, but this cannot be deleted, because it may be a problem when entering information, there is no way to investigate, so the original address The data can only do nothing, but can get the standard format address through Google API. Google API has a free credit of $200 per month, which can be transferred 40,000 times for free, which is more than enough for this data set of 10,000. This is more than enough for this data set of 10,000. If we use the crawler method, we need to spend a lot of effort to find the web page that can get all the detailed address of Ireland, and then write the crawler to get it, and that is probably worse than Google's data quality, so I choose to call Google API for this;\n",
    "- 4. Postal Code and Property Size Description have too many missing values, accounting for up to 80 and 89.9 respectively.\n",
    "\n",
    "### Summary of data quality plan:\n",
    "\n",
    "| variable Names  |  Data Quality Issue  |  Handling Strategy  |\n",
    "| ---- | ---- | ---- |\n",
    "| DateofSale(dd/mm/yyyy) |  Outliers  |  Do Nothing  |\n",
    "| Price(€) |  Outliers  |  Do Nothing  |\n",
    "| Address |  Not standard  |  Use Google API  |\n",
    "| Postal Code |  Too many NAN  |  Drop  |\n",
    "| Property Size Description |  Too many NAN  |  Drop  |\n"
   ]
  },
  {
   "cell_type": "code",
   "execution_count": 51,
   "id": "90b5699b",
   "metadata": {},
   "outputs": [],
   "source": [
    "df = pd.read_csv('ppr-20211342.csv') # Read in all the rows, but skips the first one as it is a header.\n",
    "\n",
    "# Remove space in or around feature names\n",
    "df.columns = df.columns.str.replace(' ', '')\n",
    "# Convert data feature to data type(datatime64[ns])\n",
    "df['DateofSale(dd/mm/yyyy)'] = df['DateofSale(dd/mm/yyyy)'].astype('datetime64[ns]')\n",
    "df['Price(€)'] = df['Price(€)'].map(lambda x: x.lstrip('€'))\n",
    "df['Price(€)'] = df['Price(€)'].str.replace(',', '')\n",
    "df['Price(€)'] = df['Price(€)'].astype('float64')\n",
    "\n",
    "# Select columns containing categorical data\n",
    "categorical_columns = ['County','NotFullMarketPrice','VATExclusive','DescriptionofProperty', \"PropertySizeDescription\"]\n",
    "\n",
    "# Convert data type to category for these columns\n",
    "for column in categorical_columns:\n",
    "    df[column] = df[column].astype('category')\n",
    "\n",
    "df['Address'] = df['Address'].astype('object')\n",
    "\n",
    "continuous_column = df.select_dtypes(['float64']).columns"
   ]
  },
  {
   "cell_type": "code",
   "execution_count": 52,
   "id": "d45780b5",
   "metadata": {},
   "outputs": [],
   "source": [
    "df.rename(columns = {'DateofSale(dd/mm/yyyy)':'DateofSale'}, inplace = True)\n",
    "df.rename(columns = {'Price(€)': \"Price\"}, inplace = True)"
   ]
  },
  {
   "cell_type": "code",
   "execution_count": 53,
   "id": "05a2ea5d",
   "metadata": {},
   "outputs": [],
   "source": [
    "# Get more data from Google, and save to MySQL database, then we can get the datas on demand later, no need to get data from Google again\n",
    "# And database is better than CSV file in one computer:\n",
    "# Stored in the database, you can read and write anytime and anywhere, and you do not have to worry about data loss if you do a high-reliability solution. \n",
    "# If it is a csv file placed on a computer, it cannot be read and written anytime and anywhere, and if the computer is damaged, the data may be lost.\n",
    "def get_address_from_google_to_db(row):\n",
    "    time.sleep(0.2)\n",
    "    address = \"+\".join(row.iloc[0].at[\"Address\"].split(\" \"))\n",
    "    response = requests.get(f'https://maps.googleapis.com/maps/api/geocode/json?address={address}&key=API_KEY')\n",
    "    row[\"GoogleAddress\"] = json.dumps(response.json())\n",
    "    PyMySQL.append_df_to_db(row, \"ppr_with_google_address\")"
   ]
  },
  {
   "cell_type": "code",
   "execution_count": 54,
   "id": "e6bdae6b",
   "metadata": {},
   "outputs": [],
   "source": [
    "# # insert into mysql\n",
    "# for index, row in df.iterrows():\n",
    "#     onerow_df = row.to_frame().T\n",
    "#     get_address_from_google_to_db(onerow_df)"
   ]
  },
  {
   "cell_type": "code",
   "execution_count": 55,
   "id": "edaed884",
   "metadata": {},
   "outputs": [],
   "source": [
    "df_with_google_address = PyMySQL.get_from_db(sql=\"SELECT * FROM ppr_with_google_address\")\n",
    "\n",
    "# transform the str to json\n",
    "df_with_google_address['GoogleAddress'] = df_with_google_address['GoogleAddress'].apply(lambda x: json.loads(x))\n",
    "# get the formatted address\n",
    "df_with_google_address[\"formatted_address\"] = df_with_google_address[\"GoogleAddress\"].apply(lambda a: a[\"results\"][0][\"formatted_address\"] if a[\"results\"] else \"\")\n",
    "\n",
    "# drop the PostalCode and Property Size Description\n",
    "df_with_google_address.drop(columns=[\"PostalCode\", \"PropertySizeDescription\", \"GoogleAddress\"], inplace=True)\n",
    "\n",
    "# save to csv\n",
    "df_with_google_address.to_csv(\"ppr_with_google_address_20211342.csv\", index=False)"
   ]
  },
  {
   "cell_type": "markdown",
   "id": "4ff70b9d",
   "metadata": {},
   "source": [
    "# 3. Exploring relationships between feature pairs"
   ]
  },
  {
   "cell_type": "markdown",
   "id": "20f3524d",
   "metadata": {},
   "source": [
    "##  Choose the data with size of property is not None, and calculate the correlation between price and other features"
   ]
  },
  {
   "cell_type": "code",
   "execution_count": 56,
   "id": "234fe3b4",
   "metadata": {},
   "outputs": [
    {
     "data": {
      "text/plain": [
       "[NaN, 'greater than or equal to 38 sq metres and less than 125 sq metres', 'greater than 125 sq metres', 'less than 38 sq metres', 'greater than or equal to 125 sq metres']\n",
       "Categories (4, object): ['greater than or equal to 38 sq metres and less than 125 sq metres', 'greater than 125 sq metres', 'less than 38 sq metres', 'greater than or equal to 125 sq metres']"
      ]
     },
     "execution_count": 56,
     "metadata": {},
     "output_type": "execute_result"
    }
   ],
   "source": [
    "df[\"PropertySizeDescription\"].unique()"
   ]
  },
  {
   "cell_type": "code",
   "execution_count": 57,
   "id": "5f7b3d11",
   "metadata": {},
   "outputs": [],
   "source": [
    "df_with_size = df[~df[\"PropertySizeDescription\"].isnull()].copy()"
   ]
  },
  {
   "cell_type": "code",
   "execution_count": 58,
   "id": "4e9cc361",
   "metadata": {},
   "outputs": [],
   "source": [
    "def parse_size(size_desc):\n",
    "    size_desc = size_desc.strip()\n",
    "    if size_desc == \"less than 38 sq metres\":\n",
    "        return 1\n",
    "    elif size_desc == \"greater than or equal to 38 sq metres and less than 125 sq metres\":\n",
    "        return 2\n",
    "    elif size_desc == \"greater than or equal to 125 sq metres\":\n",
    "        return 3\n",
    "    elif size_desc == \"greater than 125 sq metres\":\n",
    "        return 4\n",
    "\n",
    "df_with_size[\"PropertySizeDescription\"] = df_with_size[\"PropertySizeDescription\"].apply(lambda x: parse_size(x))"
   ]
  },
  {
   "cell_type": "code",
   "execution_count": 59,
   "id": "f2ab2b13",
   "metadata": {},
   "outputs": [],
   "source": [
    "import scipy.stats as ss\n",
    "import seaborn as sns\n",
    "from sklearn import preprocessing\n",
    "\n",
    "label = preprocessing.LabelEncoder()\n",
    "\n",
    "for i in categorical_columns :\n",
    "  df_with_size[i] = label.fit_transform(df_with_size[i])\n",
    "\n",
    "# calculate the correlation by Cramer's V\n",
    "# One common option to handle categorical features is by first using one-hot encoding, and break each possible option of each categorical feature to 0-or-1 features. \n",
    "# This will then allow the use of correlation, but it can easily become too complex to analyse. \n",
    "# Cramer's V can make it simpler. It is based on a nominal variation of Pearson’s Chi-Square Test, and comes built-in with some great benefits:\n",
    "# Similarly to correlation, the output is in the range of [0,1], where 0 means no association and 1 is full association. \n",
    "# 1.(Unlike correlation, there are no negative values, as there’s no such thing as a negative association. Either there is, or there isn’t)\n",
    "# 2.Like correlation, Cramer’s V is symmetrical — it is insensitive to swapping x and y\n",
    "def cramers_v(var1, var2):\n",
    "    crosstab =np.array(pd.crosstab(var1, var2, rownames=None, colnames=None))  # Cross table building\n",
    "    stat = ss.chi2_contingency(crosstab)[0]  # Keeping of the test statistic of the Chi2 test\n",
    "    obs = np.sum(crosstab)  # Number of observations\n",
    "    mini = min(crosstab.shape) - 1  # Take the minimum value between the columns and the rows of the cross table\n",
    "    return (stat / (obs * mini))\n"
   ]
  },
  {
   "cell_type": "code",
   "execution_count": 60,
   "id": "c64c6391",
   "metadata": {},
   "outputs": [
    {
     "data": {
      "text/plain": [
       "array([0])"
      ]
     },
     "execution_count": 60,
     "metadata": {},
     "output_type": "execute_result"
    }
   ],
   "source": [
    "df_with_size[\"DescriptionofProperty\"].unique()"
   ]
  },
  {
   "cell_type": "code",
   "execution_count": 61,
   "id": "126c15d0",
   "metadata": {},
   "outputs": [
    {
     "name": "stdout",
     "output_type": "stream",
     "text": [
      "Wall time: 2.82 s\n"
     ]
    },
    {
     "data": {
      "text/html": [
       "<div>\n",
       "<style scoped>\n",
       "    .dataframe tbody tr th:only-of-type {\n",
       "        vertical-align: middle;\n",
       "    }\n",
       "\n",
       "    .dataframe tbody tr th {\n",
       "        vertical-align: top;\n",
       "    }\n",
       "\n",
       "    .dataframe thead th {\n",
       "        text-align: right;\n",
       "    }\n",
       "</style>\n",
       "<table border=\"1\" class=\"dataframe\">\n",
       "  <thead>\n",
       "    <tr style=\"text-align: right;\">\n",
       "      <th></th>\n",
       "      <th>County</th>\n",
       "      <th>Price</th>\n",
       "      <th>NotFullMarketPrice</th>\n",
       "      <th>VATExclusive</th>\n",
       "      <th>PropertySizeDescription</th>\n",
       "    </tr>\n",
       "  </thead>\n",
       "  <tbody>\n",
       "    <tr>\n",
       "      <th>County</th>\n",
       "      <td>1.00</td>\n",
       "      <td>0.74</td>\n",
       "      <td>0.06</td>\n",
       "      <td>0.06</td>\n",
       "      <td>0.04</td>\n",
       "    </tr>\n",
       "    <tr>\n",
       "      <th>Price</th>\n",
       "      <td>0.74</td>\n",
       "      <td>1.00</td>\n",
       "      <td>0.81</td>\n",
       "      <td>0.57</td>\n",
       "      <td>0.74</td>\n",
       "    </tr>\n",
       "    <tr>\n",
       "      <th>NotFullMarketPrice</th>\n",
       "      <td>0.06</td>\n",
       "      <td>0.81</td>\n",
       "      <td>0.97</td>\n",
       "      <td>0.06</td>\n",
       "      <td>0.01</td>\n",
       "    </tr>\n",
       "    <tr>\n",
       "      <th>VATExclusive</th>\n",
       "      <td>0.06</td>\n",
       "      <td>0.57</td>\n",
       "      <td>0.06</td>\n",
       "      <td>0.97</td>\n",
       "      <td>0.01</td>\n",
       "    </tr>\n",
       "    <tr>\n",
       "      <th>PropertySizeDescription</th>\n",
       "      <td>0.04</td>\n",
       "      <td>0.74</td>\n",
       "      <td>0.01</td>\n",
       "      <td>0.01</td>\n",
       "      <td>1.00</td>\n",
       "    </tr>\n",
       "  </tbody>\n",
       "</table>\n",
       "</div>"
      ],
      "text/plain": [
       "                         County  Price  NotFullMarketPrice  VATExclusive  PropertySizeDescription\n",
       "County                     1.00   0.74                0.06          0.06                     0.04\n",
       "Price                      0.74   1.00                0.81          0.57                     0.74\n",
       "NotFullMarketPrice         0.06   0.81                0.97          0.06                     0.01\n",
       "VATExclusive               0.06   0.57                0.06          0.97                     0.01\n",
       "PropertySizeDescription    0.04   0.74                0.01          0.01                     1.00"
      ]
     },
     "execution_count": 61,
     "metadata": {},
     "output_type": "execute_result"
    }
   ],
   "source": [
    "%%time\n",
    "from itertools import combinations\n",
    "\n",
    "# because DescriptionofProperty of df_with_size has only one value, so do not calculate it\n",
    "corr_features = [\"County\", \"Price\", \"NotFullMarketPrice\", \"VATExclusive\", \"PropertySizeDescription\"]\n",
    "rows= []\n",
    "\n",
    "for feat1 in corr_features:\n",
    "    col = []\n",
    "    for feat2 in corr_features:\n",
    "        cramers = cramers_v(df_with_size[feat1], df_with_size[feat2])  # Cramer's V test\n",
    "        col.append(round(cramers, 2))  # Keeping of the rounded value of the Cramer's V\n",
    "    rows.append(col)\n",
    "\n",
    "cramers_results = np.array(rows)\n",
    "\n",
    "corr_df = pd.DataFrame(cramers_results, columns=corr_features, index=corr_features)\n",
    "\n",
    "corr_df"
   ]
  },
  {
   "cell_type": "code",
   "execution_count": 62,
   "id": "e37ffe9f",
   "metadata": {},
   "outputs": [
    {
     "data": {
      "image/png": "[encoded data removed]",
      "text/plain": [
       "<Figure size 792x648 with 2 Axes>"
      ]
     },
     "metadata": {
      "needs_background": "light"
     },
     "output_type": "display_data"
    }
   ],
   "source": [
    "import matplotlib.pyplot as plt\n",
    "\n",
    "mask = np.zeros_like(corr_df, dtype=np.bool)\n",
    "mask[np.triu_indices_from(mask)] = True\n",
    "\n",
    "# Set up the matplotlib figure\n",
    "f, ax = plt.subplots(figsize=(11, 9))\n",
    "\n",
    "# Draw the heatmap with the mask and correct aspect ratio\n",
    "sns.heatmap(corr_df, annot=True, mask=mask, vmax=1, vmin=0,\n",
    "            square=True, xticklabels=True, yticklabels=True,\n",
    "            linewidths=.5, cbar_kws={\"shrink\": .5}, ax=ax)\n",
    "# with sns.axes_style(\"white\"):\n",
    "#   ax = sns.heatmap(corr_df, mask=mask,vmin=0., vmax=1, square=True)\n",
    "\n",
    "plt.yticks(rotation = 0)\n",
    "plt.xticks(rotation = 45)\n",
    "plt.show()"
   ]
  },
  {
   "cell_type": "markdown",
   "id": "ef902535",
   "metadata": {},
   "source": [
    "### Conclusion: From the correlation coefficient matrix, we see that the three characteristics that have the greatest relationship with Price are: \"NotFullMarketPrice\", \"County\", \"PropertySizeDescription\".\n",
    "### It means that property price is more influenced by area (County) and house size, which is logical, the closer to the economic, political and cultural center, the higher the price must be; the larger the house size, the higher the price must be."
   ]
  },
  {
   "cell_type": "markdown",
   "id": "adb4e7a2",
   "metadata": {},
   "source": [
    "# 4.Create a few new features (at least 3) with the aim to better capture the problem domain and the target outcome."
   ]
  },
  {
   "cell_type": "code",
   "execution_count": 63,
   "id": "38d9c270",
   "metadata": {},
   "outputs": [
    {
     "data": {
      "text/plain": [
       "(10000, 10)"
      ]
     },
     "execution_count": 63,
     "metadata": {},
     "output_type": "execute_result"
    }
   ],
   "source": [
    "new_df = PyMySQL.get_from_db(sql=\"SELECT * FROM ppr_with_google_address\")\n",
    "# new_df = pd.read_csv('ppr_with_google_address_20211342.csv')\n",
    "new_df.shape"
   ]
  },
  {
   "cell_type": "markdown",
   "id": "036f7d48",
   "metadata": {},
   "source": [
    "### Get the latitude and longitude, and the address type of the Address. The 3 most important things about Property Price: Location! Location! Location!"
   ]
  },
  {
   "cell_type": "code",
   "execution_count": 64,
   "id": "db3c091c",
   "metadata": {},
   "outputs": [],
   "source": [
    "new_df['GoogleAddress'] = new_df['GoogleAddress'].apply(lambda x: json.loads(x))\n",
    "new_df[\"lat\"] = new_df[\"GoogleAddress\"].apply(lambda a: a[\"results\"][0][\"geometry\"][\"location\"][\"lat\"] if a[\"results\"] else \"\")\n",
    "new_df[\"lng\"] = new_df[\"GoogleAddress\"].apply(lambda a: a[\"results\"][0][\"geometry\"][\"location\"][\"lng\"] if a[\"results\"] else \"\")"
   ]
  },
  {
   "cell_type": "code",
   "execution_count": 65,
   "id": "14dd5d2b",
   "metadata": {},
   "outputs": [],
   "source": [
    "new_df[\"address_types\"] = new_df[\"GoogleAddress\"].apply(lambda a: \"-\".join(a[\"results\"][0][\"types\"])  if a[\"results\"] else \"\")"
   ]
  },
  {
   "cell_type": "markdown",
   "id": "367ad30b",
   "metadata": {},
   "source": [
    "### Transform the formatted address, drop the stree number, keep the rest part"
   ]
  },
  {
   "cell_type": "code",
   "execution_count": 66,
   "id": "21059467",
   "metadata": {},
   "outputs": [
    {
     "name": "stdout",
     "output_type": "stream",
     "text": [
      "Mullaghmatt-Monaghan-Ireland\n"
     ]
    }
   ],
   "source": [
    "def process_formatted_address(formatted_address):\n",
    "    \"\"\"process the formatted_address\"\"\"\n",
    "    if formatted_address:\n",
    "        addr_parts = str(formatted_address).split(\",\")\n",
    "        # process the first part\n",
    "        first_part = addr_parts[0]\n",
    "        # if it begins with digit, remove the digits\n",
    "        if first_part[0].isdigit:\n",
    "            first_part = \"_\".join(first_part.split(\" \")[1: ])\n",
    "        # put together, then remove all spaces\n",
    "        return (first_part + \"-\" + \"-\".join(addr_parts[1: ])).replace(\" \", \"\")\n",
    "    else:\n",
    "        return \"\"\n",
    "\n",
    "# def process_formatted_address(formatted_address):\n",
    "#     \"\"\"process the formatted_address\"\"\"\n",
    "#     if formatted_address:\n",
    "#         addr_parts = str(formatted_address).split(\",\")\n",
    "#         return \"-\".join(addr_parts[1: ]).replace(\" \", \"\")\n",
    "#     else:\n",
    "#         return \"\"\n",
    "\n",
    "# def process_formatted_address(formatted_address):\n",
    "#     \"\"\"process the formatted_address\"\"\"\n",
    "#     if formatted_address:\n",
    "#         addr_parts = str(formatted_address).split(\",\")\n",
    "#         return addr_parts[1]\n",
    "#     else:\n",
    "#         return \"\"\n",
    "\n",
    "print(process_formatted_address(\"86 Mullaghmatt, Monaghan, Ireland\"))\n",
    "# new_df[\"formatted_address\"]"
   ]
  },
  {
   "cell_type": "code",
   "execution_count": 67,
   "id": "27fe9bc7",
   "metadata": {},
   "outputs": [],
   "source": [
    "new_df[\"formatted_address\"] = new_df[\"GoogleAddress\"].apply(lambda a: a[\"results\"][0][\"formatted_address\"] if a[\"results\"] else \"\")\n",
    "new_df[\"transformed_address\"] = new_df[\"formatted_address\"].apply(lambda a: process_formatted_address(a))"
   ]
  },
  {
   "cell_type": "markdown",
   "id": "12ec9ba4",
   "metadata": {},
   "source": [
    "### Transform the year and month, prices are affected by the economic cycle."
   ]
  },
  {
   "cell_type": "code",
   "execution_count": 68,
   "id": "03895a71",
   "metadata": {},
   "outputs": [],
   "source": [
    "# Convert out\n",
    "new_df['DateofSale'] = new_df['DateofSale'].astype('datetime64[ns]')\n",
    "new_df[\"YearMonth\"] = new_df[\"DateofSale\"].apply(lambda d: d.year * 100 + d.month)"
   ]
  },
  {
   "cell_type": "code",
   "execution_count": 69,
   "id": "fcdb9cef",
   "metadata": {},
   "outputs": [],
   "source": [
    "import scipy.stats as ss\n",
    "import seaborn as sns\n",
    "from sklearn import preprocessing\n",
    "\n",
    "label = preprocessing.LabelEncoder()\n",
    "\n",
    "for i in [\"County\", \"NotFullMarketPrice\", \n",
    "                     \"VATExclusive\", \"DescriptionofProperty\", \"transformed_address\",\n",
    "                     \"address_types\"] :\n",
    "    new_df[i] = label.fit_transform(new_df[i])"
   ]
  },
  {
   "cell_type": "code",
   "execution_count": 70,
   "id": "24c912af",
   "metadata": {},
   "outputs": [],
   "source": [
    "new_df['lat'] = new_df['lat'].apply(lambda x: float(x) if x else None)\n",
    "new_df['lng'] = new_df['lng'].apply(lambda x: float(x) if x else None)"
   ]
  },
  {
   "cell_type": "code",
   "execution_count": 71,
   "id": "c637e663",
   "metadata": {},
   "outputs": [],
   "source": [
    "new_df[\"lat\"].fillna(new_df[\"lat\"].mean(), inplace=True)\n",
    "new_df[\"lng\"].fillna(new_df[\"lng\"].mean(), inplace=True)"
   ]
  },
  {
   "cell_type": "code",
   "execution_count": 72,
   "id": "0ae997a3",
   "metadata": {},
   "outputs": [],
   "source": [
    "features_df = new_df[[\"YearMonth\", \"County\", \"NotFullMarketPrice\", \"lat\", \"lng\",\n",
    "                     \"VATExclusive\", \"DescriptionofProperty\", \"transformed_address\",\n",
    "                     \"address_types\"]]\n",
    "target_df = new_df[\"Price\"]"
   ]
  },
  {
   "cell_type": "markdown",
   "id": "c7d6ff80",
   "metadata": {},
   "source": [
    "### Choose the Top K features"
   ]
  },
  {
   "cell_type": "code",
   "execution_count": 73,
   "id": "febd4aa1",
   "metadata": {},
   "outputs": [
    {
     "data": {
      "text/html": [
       "<div>\n",
       "<style scoped>\n",
       "    .dataframe tbody tr th:only-of-type {\n",
       "        vertical-align: middle;\n",
       "    }\n",
       "\n",
       "    .dataframe tbody tr th {\n",
       "        vertical-align: top;\n",
       "    }\n",
       "\n",
       "    .dataframe thead th {\n",
       "        text-align: right;\n",
       "    }\n",
       "</style>\n",
       "<table border=\"1\" class=\"dataframe\">\n",
       "  <thead>\n",
       "    <tr style=\"text-align: right;\">\n",
       "      <th></th>\n",
       "      <th>Feature</th>\n",
       "      <th>Score</th>\n",
       "      <th>P-Value</th>\n",
       "    </tr>\n",
       "  </thead>\n",
       "  <tbody>\n",
       "    <tr>\n",
       "      <th>1</th>\n",
       "      <td>County</td>\n",
       "      <td>40.874393</td>\n",
       "      <td>1.695825e-10</td>\n",
       "    </tr>\n",
       "    <tr>\n",
       "      <th>0</th>\n",
       "      <td>YearMonth</td>\n",
       "      <td>26.489892</td>\n",
       "      <td>2.699535e-07</td>\n",
       "    </tr>\n",
       "    <tr>\n",
       "      <th>8</th>\n",
       "      <td>address_types</td>\n",
       "      <td>4.305718</td>\n",
       "      <td>3.800998e-02</td>\n",
       "    </tr>\n",
       "    <tr>\n",
       "      <th>4</th>\n",
       "      <td>lng</td>\n",
       "      <td>1.643379</td>\n",
       "      <td>1.998922e-01</td>\n",
       "    </tr>\n",
       "    <tr>\n",
       "      <th>2</th>\n",
       "      <td>NotFullMarketPrice</td>\n",
       "      <td>1.395707</td>\n",
       "      <td>2.374717e-01</td>\n",
       "    </tr>\n",
       "    <tr>\n",
       "      <th>6</th>\n",
       "      <td>DescriptionofProperty</td>\n",
       "      <td>0.912071</td>\n",
       "      <td>3.395886e-01</td>\n",
       "    </tr>\n",
       "    <tr>\n",
       "      <th>5</th>\n",
       "      <td>VATExclusive</td>\n",
       "      <td>0.767069</td>\n",
       "      <td>3.811462e-01</td>\n",
       "    </tr>\n",
       "    <tr>\n",
       "      <th>3</th>\n",
       "      <td>lat</td>\n",
       "      <td>0.329678</td>\n",
       "      <td>5.658617e-01</td>\n",
       "    </tr>\n",
       "    <tr>\n",
       "      <th>7</th>\n",
       "      <td>transformed_address</td>\n",
       "      <td>0.058359</td>\n",
       "      <td>8.091143e-01</td>\n",
       "    </tr>\n",
       "  </tbody>\n",
       "</table>\n",
       "</div>"
      ],
      "text/plain": [
       "                 Feature      Score       P-Value\n",
       "1                 County  40.874393  1.695825e-10\n",
       "0              YearMonth  26.489892  2.699535e-07\n",
       "8          address_types   4.305718  3.800998e-02\n",
       "4                    lng   1.643379  1.998922e-01\n",
       "2     NotFullMarketPrice   1.395707  2.374717e-01\n",
       "6  DescriptionofProperty   0.912071  3.395886e-01\n",
       "5           VATExclusive   0.767069  3.811462e-01\n",
       "3                    lat   0.329678  5.658617e-01\n",
       "7    transformed_address   0.058359  8.091143e-01"
      ]
     },
     "execution_count": 73,
     "metadata": {},
     "output_type": "execute_result"
    }
   ],
   "source": [
    "from sklearn.feature_selection import SelectKBest, f_regression\n",
    "from scipy.stats import pearsonr\n",
    "\n",
    "# Choose the Top K features\n",
    "# The first parameter is a function that calculates whether the evaluation feature is good or not.\n",
    "# This function inputs a feature matrix and a target vector and outputs an array of binaries (scores, p-values).\n",
    "bestfeatures = SelectKBest(score_func=f_regression, k=9)\n",
    "fit = bestfeatures.fit(features_df, target_df)\n",
    "pvalues_df = pd.DataFrame(fit.pvalues_)\n",
    "scores_df = pd.DataFrame(fit.scores_)\n",
    "columns_df = pd.DataFrame(features_df.columns)\n",
    "#concat three dataframes for better visualization, the higher the score, the lower the p-value, the more important the feature is\n",
    "feature_scores = pd.concat([columns_df, scores_df, pvalues_df], axis=1)\n",
    "feature_scores.columns = ['Feature','Score', \"P-Value\"]  #naming the dataframe columns\n",
    "feature_scores.sort_values(by=\"Score\", ascending=False)"
   ]
  },
  {
   "cell_type": "code",
   "execution_count": 74,
   "id": "df056d94",
   "metadata": {},
   "outputs": [],
   "source": [
    "new_df.drop(columns=[\"GoogleAddress\"], inplace=True)\n",
    "new_df.to_csv(\"ppr_with_new_features_20211342.csv\", index=False)"
   ]
  }
 ],
 "metadata": {
  "kernelspec": {
   "display_name": "Python 3 (ipykernel)",
   "language": "python",
   "name": "python3"
  },
  "language_info": {
   "codemirror_mode": {
    "name": "ipython",
    "version": 3
   },
   "file_extension": ".py",
   "mimetype": "text/x-python",
   "name": "python",
   "nbconvert_exporter": "python",
   "pygments_lexer": "ipython3",
   "version": "3.9.7"
  }
 },
 "nbformat": 4,
 "nbformat_minor": 5
}
