{
 "cells": [
  {
   "cell_type": "markdown",
   "metadata": {},
   "source": [
    "## Exercises\n",
    "\n",
    "**This homework focuses on training and evaluating prediction models for a particular problem and dataset.**\n",
    "The data comes from the Residential Property Price Register (RPPR) (https://www.propertypriceregister.ie/website/npsra/pprweb.nsf/page/ppr-home-en). The Residential Property Price Register is produced by the Property Services Regulatory Authority (PSRA). It includes Date of Sale, Price and Address of all residential properties purchased in Ireland since the 1st January 2010, as declared to the Revenue Commissioners for stamp duty purposes. In this analysis, **we focus on using the data collected by RPPR to build and evaluate a data analytics solution for residential property price prediction**. \n",
    "\n",
    "The goal in this homework is to work with the data to build and evaluate prediction models that capture the relationship between the descriptive features and the target feature **Price**. For this homework you are asked to use the same dataset allocated to you in Homework1 (you can use your cleaned/prepared CSV from Homework1 or start from the raw dataset, clean it according to concepts covered in the lectures/labs, then use it for training prediction models).\n",
    " \n",
    "There are 5 parts for this homework. Each part has an indicative maximum percentage given in brackets, e.g., part (1) has a maximum of 25% shown as [25]. The total that can be achieved is 100.\n",
    "\n",
    "\n",
    "(1). [25] **Data Understanding and Preparation:** Exploring relationships between feature pairs and selecting/transforming promising features based on a given training set.\n",
    "\n",
    "    - (1.1) Randomly shuffle the rows of your dataset and split the dataset into two datasets: 70% training and 30% test. Keep the test set aside. \n",
    "    - (1.2) On the training set:\n",
    "        - Plot the correlations between all the continuous features (if any). Discuss what you observe in these plots.\n",
    "        - For each continuous feature, plot its interaction with the target feature (a plot for each pair of continuous feature and target feature). Discuss what you observe from these plots, e.g., which continuous features seem to be better at predicting the target feature? Choose a subset of continuous features you find promising (if any). Justify your choices.\n",
    "        - For each categorical feature, plot its pairwise interaction with the target feature. Discuss what knowledge you gain from these plots, e.g., which categorical features seem to be better at predicting the target feature? Choose a subset of categorical features you find promising (if any). Justify your choices.\n",
    "      \n",
    "    \n",
    "(2). [15] **Predictive Modeling and Evaluation:** Linear Regression.  \n",
    "\n",
    "    - (2.1) On the training set, train a linear regression model to predict the target feature, using only the descriptive features selected in exercise (1) above. \n",
    "    - (2.2) Can you interpret the linear regression model? Discuss any knowledge you can gain in regard of the working of this model. \n",
    "    - (2.3) Print the predicted target feature value for the first 10 training examples. Print a few regression evaluation measures computed on the full training set and discuss your findings so far.\n",
    "    - (2.4) Evaluate the model using regression evaluation measures on the hold-out (30% examples) test set. Compare these results with the evaluation results obtained on the training (70% examples) dataset. Also compare these results with a cross-validated model (i.e., a new model trained and evaluated using cross-validation on the full dataset). You can use classic k-fold cross-validation or k repeated random train/test (70/30) splits. Compare the cross-validation metrics to those obtained on the single train/test split and discuss your findings.\n",
    "    \n",
    "(3). [15] **Predictive Modeling and Evaluation:** Decision Tree.  \n",
    "\n",
    "    - (3.1) On the training set, train a decision tree model to predict the target feature, using the descriptive features selected in exercise (1) above.   \n",
    "    - (3.2) Can you interpret the decision tree model? Discuss any knowledge you can gain in regard of the working of this model. \n",
    "    - (3.3) Print the predicted target feature value for the first 10 training examples. Print a few regression evaluation measures computed on the full training set and discuss your findings so far.\n",
    "    - (3.4) Evaluate the model using regression evaluation measures on the hold-out (30% examples) test set. Compare these results with the evaluation results obtained on the training (70% examples) dataset. Also compare these results with a cross-validated model (i.e., a new model trained and evaluated using cross-validation on the full dataset). You can use classic k-fold cross-validation or k repeated random train/test (70/30) splits. Compare the cross-validation metrics to those obtained on the single train/test split and discuss your findings.\n",
    "    \n",
    "   \n",
    "    \n",
    "(4). [20] **Predictive Modeling and Evaluation:** Random Forest.  \n",
    "\n",
    "    - (4.1) On the training set, train a random forest model to predict the target feature, using the descriptive features selected in exercise (1) above.   \n",
    "    - (4.2) Can you interpret the random forest model? Discuss any knowledge you can gain in regard of the working of this model.   \n",
    "    - (4.3) Print the predicted target feature value for the first 10 training examples. Print a few regression evaluation measures computed on the full training set and discuss your findings so far.\n",
    "    - (4.4) Evaluate the model using regression evaluation measures on the hold-out (30% examples) test set. Compare these results with the evaluation results obtained on the training (70% examples) dataset. Also compare these results with a cross-validated model (i.e., a new model trained and evaluated using cross-validation on the full dataset). You can use classic k-fold cross-validation or k repeated random train/test (70/30) splits. Compare the cross-validation metrics to those obtained on the single train/test split and to the random forest out-of-sample error and discuss your findings.\n",
    "    \n",
    "(5). [25] **Improving Predictive Models.**\n",
    "\n",
    "    - (5.1) Which model of the ones trained above performs better at predicting the target feature? Is it more accurate than a simple model that always predicts the average price computed from the training set, for the same year as the test example? Justify your answers.\n",
    "    - (5.2) Summarise your understanding of the problem and of your predictive modeling results so far. Can you think of any new ideas to improve the best model so far (e.g., by using furher data prep such as: feature selection, feature re-scaling, creating new features, combining models, or using other knowledge)? Please show how your ideas actually work in practice, by training and evaluating your proposed models. Summarise your findings so far.\n",
    "    - (5.3) Take your best model trained and selected based on past data (i.e. your cleaned Homework1 dataset), and evaluate it on the new test dataset provided with this homework (in file '22032022-PPR-Price-recent.csv'). Note that the new test data has to be transformed using the same steps as the past training data, otherwise the trained model cannot be used for prediction on the new data. Discuss your findings.     "
   ]
  },
  {
   "cell_type": "code",
   "execution_count": 141,
   "metadata": {},
   "outputs": [],
   "source": [
    "import pandas as pd\n",
    "import numpy as np\n",
    "import seaborn as sns\n",
    "import matplotlib.pyplot as plt\n",
    "import matplotlib.patches as mpatches\n",
    "\n",
    "from patsy import dmatrices\n",
    "\n",
    "from sklearn.linear_model import LinearRegression\n",
    "from sklearn.linear_model import LogisticRegression\n",
    "from sklearn.tree import DecisionTreeClassifier, DecisionTreeRegressor\n",
    "from sklearn.ensemble import RandomForestClassifier, RandomForestRegressor\n",
    "from sklearn.model_selection import train_test_split\n",
    "from sklearn import metrics\n",
    "from sklearn.model_selection import cross_validate\n",
    "from sklearn.model_selection import cross_val_score\n",
    "from sklearn.tree import export_graphviz\n",
    "\n",
    "import graphviz\n",
    "from graphviz import Source\n",
    "\n",
    "# ignore warnings\n",
    "import warnings\n",
    "warnings.filterwarnings('ignore')"
   ]
  },
  {
   "cell_type": "code",
   "execution_count": 142,
   "metadata": {},
   "outputs": [],
   "source": [
    "pd.set_option('display.max_columns',1000)\n",
    "pd.set_option('display.max_columns',None)\n",
    "pd.set_option('display.width',1000)\n",
    "pd.set_option('display.max_colwidth',1000)"
   ]
  },
  {
   "cell_type": "markdown",
   "metadata": {},
   "source": [
    "# (1) Data understanding and prep:"
   ]
  },
  {
   "cell_type": "markdown",
   "metadata": {},
   "source": [
    "### Summary of data quality plan:\n",
    "- 1.Date has exceeded the current time, may be a problem when the information is entered, but only within 10, accounting for a very low ratio, so you can do nothing;\n",
    "- 2. Price has abnormal values: found that there is a normal range of 6 times the maximum value and 4 times the price, decided to filter out the first 5% of the largest price and the first 5% of the smallest.\n",
    "- 3. address format is not standardized not standard, the last assignment to Address as a parameter to check the Google API, to get the standard format of the address. So here can be deleted;\n",
    "- 4. Postal Code and Property Size Description have too many missing values, accounting for up to 80 and 89.9 respectively, and the features that generally account for 25% or more of the missing values are not helpful for prediction. The higher the price of the house, the higher the price of the house, and usually the reverse is also true, the higher the price of the house, the larger the house, so here first filter out the outliers of Price, the price is divided into four levels, just corresponding to the four specifications of Property Size Description, and then fill in the missing values;\n",
    "- \n",
    "\n",
    "#### Summary of data quality plan:\n",
    "\n",
    "| variable Names  |  Data Quality Issue  |  Handling Strategy  |\n",
    "| ----            | ----                 | ----                |\n",
    "| DateofSale |  Outliers  |  Do Nothing  |\n",
    "| Price |  Outliers  |  Drop Top 5% and Bottom 5%  |\n",
    "| Address |  Not standard  |  Drop  |\n",
    "| Postal Code |  Too many NAN  |  Drop  |\n",
    "| Property Size Description |  Too many NAN  |  Fill NA  |\n"
   ]
  },
  {
   "cell_type": "markdown",
   "metadata": {},
   "source": [
    "##  1.1 Review, prepare and split the dataset into two datasets: 70% training and 30% test\n",
    "Here we will import cleaned dataset"
   ]
  },
  {
   "cell_type": "code",
   "execution_count": 143,
   "metadata": {},
   "outputs": [
    {
     "data": {
      "text/html": [
       "<div>\n",
       "<style scoped>\n",
       "    .dataframe tbody tr th:only-of-type {\n",
       "        vertical-align: middle;\n",
       "    }\n",
       "\n",
       "    .dataframe tbody tr th {\n",
       "        vertical-align: top;\n",
       "    }\n",
       "\n",
       "    .dataframe thead th {\n",
       "        text-align: right;\n",
       "    }\n",
       "</style>\n",
       "<table border=\"1\" class=\"dataframe\">\n",
       "  <thead>\n",
       "    <tr style=\"text-align: right;\">\n",
       "      <th></th>\n",
       "      <th>DateofSale</th>\n",
       "      <th>Address</th>\n",
       "      <th>PostalCode</th>\n",
       "      <th>County</th>\n",
       "      <th>Price</th>\n",
       "      <th>NotFullMarketPrice</th>\n",
       "      <th>VATExclusive</th>\n",
       "      <th>DescriptionofProperty</th>\n",
       "      <th>PropertySizeDescription</th>\n",
       "      <th>lat</th>\n",
       "      <th>lng</th>\n",
       "      <th>address_types</th>\n",
       "      <th>YearMonth</th>\n",
       "    </tr>\n",
       "  </thead>\n",
       "  <tbody>\n",
       "    <tr>\n",
       "      <th>0</th>\n",
       "      <td>2017-3-3</td>\n",
       "      <td>86 MULLAGHMATT, MONAGHAN</td>\n",
       "      <td>NaN</td>\n",
       "      <td>Monaghan</td>\n",
       "      <td>65000.0</td>\n",
       "      <td>Yes</td>\n",
       "      <td>No</td>\n",
       "      <td>Second-Hand Dwelling house /Apartment</td>\n",
       "      <td>NaN</td>\n",
       "      <td>54.240643</td>\n",
       "      <td>-6.981199</td>\n",
       "      <td>street_address</td>\n",
       "      <td>201703</td>\n",
       "    </tr>\n",
       "    <tr>\n",
       "      <th>1</th>\n",
       "      <td>2020-12-3</td>\n",
       "      <td>13 FABER GROVE, DUN LAOGHAIRE, DUBLIN</td>\n",
       "      <td>NaN</td>\n",
       "      <td>Dublin</td>\n",
       "      <td>320000.0</td>\n",
       "      <td>No</td>\n",
       "      <td>No</td>\n",
       "      <td>Second-Hand Dwelling house /Apartment</td>\n",
       "      <td>NaN</td>\n",
       "      <td>53.283234</td>\n",
       "      <td>-6.156925</td>\n",
       "      <td>street_address</td>\n",
       "      <td>202012</td>\n",
       "    </tr>\n",
       "    <tr>\n",
       "      <th>2</th>\n",
       "      <td>2010-9-7</td>\n",
       "      <td>32 Allenton Drive, Tallaght</td>\n",
       "      <td>Dublin 24</td>\n",
       "      <td>Dublin</td>\n",
       "      <td>194000.0</td>\n",
       "      <td>No</td>\n",
       "      <td>No</td>\n",
       "      <td>Second-Hand Dwelling house /Apartment</td>\n",
       "      <td>NaN</td>\n",
       "      <td>53.271757</td>\n",
       "      <td>-6.352986</td>\n",
       "      <td>street_address</td>\n",
       "      <td>201009</td>\n",
       "    </tr>\n",
       "    <tr>\n",
       "      <th>3</th>\n",
       "      <td>2019-10-29</td>\n",
       "      <td>15 An Fuaran, Dublin Road, Oranmore</td>\n",
       "      <td>NaN</td>\n",
       "      <td>Galway</td>\n",
       "      <td>345010.0</td>\n",
       "      <td>No</td>\n",
       "      <td>Yes</td>\n",
       "      <td>New Dwelling house /Apartment</td>\n",
       "      <td>NaN</td>\n",
       "      <td>53.269597</td>\n",
       "      <td>-8.925121</td>\n",
       "      <td>street_address</td>\n",
       "      <td>201910</td>\n",
       "    </tr>\n",
       "    <tr>\n",
       "      <th>4</th>\n",
       "      <td>2019-11-7</td>\n",
       "      <td>CHERRYORCHARD, ENNISCORTHY, WEXFORD</td>\n",
       "      <td>NaN</td>\n",
       "      <td>Wexford</td>\n",
       "      <td>172000.0</td>\n",
       "      <td>No</td>\n",
       "      <td>No</td>\n",
       "      <td>Second-Hand Dwelling house /Apartment</td>\n",
       "      <td>NaN</td>\n",
       "      <td>52.506932</td>\n",
       "      <td>-6.587670</td>\n",
       "      <td>route</td>\n",
       "      <td>201911</td>\n",
       "    </tr>\n",
       "  </tbody>\n",
       "</table>\n",
       "</div>"
      ],
      "text/plain": [
       "   DateofSale                                Address PostalCode    County     Price NotFullMarketPrice VATExclusive                  DescriptionofProperty PropertySizeDescription        lat       lng   address_types  YearMonth\n",
       "0    2017-3-3               86 MULLAGHMATT, MONAGHAN        NaN  Monaghan   65000.0                Yes           No  Second-Hand Dwelling house /Apartment                     NaN  54.240643 -6.981199  street_address     201703\n",
       "1   2020-12-3  13 FABER GROVE, DUN LAOGHAIRE, DUBLIN        NaN    Dublin  320000.0                 No           No  Second-Hand Dwelling house /Apartment                     NaN  53.283234 -6.156925  street_address     202012\n",
       "2    2010-9-7            32 Allenton Drive, Tallaght  Dublin 24    Dublin  194000.0                 No           No  Second-Hand Dwelling house /Apartment                     NaN  53.271757 -6.352986  street_address     201009\n",
       "3  2019-10-29    15 An Fuaran, Dublin Road, Oranmore        NaN    Galway  345010.0                 No          Yes          New Dwelling house /Apartment                     NaN  53.269597 -8.925121  street_address     201910\n",
       "4   2019-11-7    CHERRYORCHARD, ENNISCORTHY, WEXFORD        NaN   Wexford  172000.0                 No           No  Second-Hand Dwelling house /Apartment                     NaN  52.506932 -6.587670           route     201911"
      ]
     },
     "execution_count": 143,
     "metadata": {},
     "output_type": "execute_result"
    }
   ],
   "source": [
    "df = pd.read_csv(\"ppr_with_new_features_20211342.csv\", keep_default_na=True, sep=',\\s+', delimiter=',', skipinitialspace=True)\n",
    "df.head(5)"
   ]
  },
  {
   "cell_type": "markdown",
   "metadata": {},
   "source": [
    "After importing the cleaned csv with new features, as a reminder we will check the shape, inspect the datatypes and check for any remaining null values"
   ]
  },
  {
   "cell_type": "code",
   "execution_count": 144,
   "metadata": {},
   "outputs": [
    {
     "data": {
      "text/plain": [
       "(10000, 13)"
      ]
     },
     "execution_count": 144,
     "metadata": {},
     "output_type": "execute_result"
    }
   ],
   "source": [
    "df.shape"
   ]
  },
  {
   "cell_type": "code",
   "execution_count": 145,
   "metadata": {},
   "outputs": [
    {
     "data": {
      "text/plain": [
       "DateofSale                 0.0000\n",
       "Address                    0.0000\n",
       "PostalCode                 0.8082\n",
       "County                     0.0000\n",
       "Price                      0.0000\n",
       "NotFullMarketPrice         0.0000\n",
       "VATExclusive               0.0000\n",
       "DescriptionofProperty      0.0000\n",
       "PropertySizeDescription    0.8978\n",
       "lat                        0.0000\n",
       "lng                        0.0000\n",
       "address_types              0.0217\n",
       "YearMonth                  0.0000\n",
       "dtype: float64"
      ]
     },
     "execution_count": 145,
     "metadata": {},
     "output_type": "execute_result"
    }
   ],
   "source": [
    "df.isna().mean()"
   ]
  },
  {
   "cell_type": "code",
   "execution_count": 146,
   "metadata": {},
   "outputs": [
    {
     "data": {
      "text/plain": [
       "DateofSale                  object\n",
       "Address                     object\n",
       "PostalCode                  object\n",
       "County                      object\n",
       "Price                      float64\n",
       "NotFullMarketPrice          object\n",
       "VATExclusive                object\n",
       "DescriptionofProperty       object\n",
       "PropertySizeDescription     object\n",
       "lat                        float64\n",
       "lng                        float64\n",
       "address_types               object\n",
       "YearMonth                    int64\n",
       "dtype: object"
      ]
     },
     "execution_count": 146,
     "metadata": {},
     "output_type": "execute_result"
    }
   ],
   "source": [
    "df.dtypes"
   ]
  },
  {
   "cell_type": "markdown",
   "metadata": {},
   "source": [
    "#### Convert datatypes for plotting later\n",
    "We will now review the datatypes and convert if needed. This will help avoid plotting errors later in the notebook\n",
    "- Categorical features:\n",
    "  -  \"PropertySizeDescription\" are string values. These will be converted to :\n",
    "    - \"less than 38 sq metres\": 1, \n",
    "    - \"greater than or equal to 38 sq metres and less than 125 sq metres\": 2,\n",
    "    - \"greater than or equal to 125 sq metres\": 3,\n",
    "    - \"greater than 125 sq metres\": 4\n",
    "  - \"DescriptionofProperty\" will be mapped 'New Dwelling house /Apartment': 1, \"Second-Hand Dwelling house /Apartment\": 0, and stored as \"int64\"\n",
    "  - \"NotFullMarketPrice\" and \"VATExclusive\" will be mapped \"Yes\": 1, \"No\": 0\n",
    "- Some Continuous features are float64 type:\n",
    "    - ~~lat and lng, lat Multiply by 10 and round up, lng Multiply by 100 and round up~~"
   ]
  },
  {
   "cell_type": "code",
   "execution_count": 147,
   "metadata": {},
   "outputs": [],
   "source": [
    "# Convert PropertySizeDescription\n",
    "df[\"PropertySizeDescription\"] = df[\"PropertySizeDescription\"].str.strip()\\\n",
    "    .map({\"less than 38 sq metres\": 1, \n",
    "          \"greater than or equal to 38 sq metres and less than 125 sq metres\": 2,\n",
    "          \"greater than or equal to 125 sq metres\": 3,\n",
    "          \"greater than 125 sq metres\": 4\n",
    "    })\n",
    "df[\"PropertySizeDescription\"] = df[df.PropertySizeDescription.notnull()][\"PropertySizeDescription\"].astype('int64')\n"
   ]
  },
  {
   "cell_type": "code",
   "execution_count": 148,
   "metadata": {},
   "outputs": [
    {
     "data": {
      "text/plain": [
       "array(['Second-Hand Dwelling house /Apartment',\n",
       "       'New Dwelling house /Apartment'], dtype=object)"
      ]
     },
     "execution_count": 148,
     "metadata": {},
     "output_type": "execute_result"
    }
   ],
   "source": [
    "# 0: New Dwelling house /Apartment, 1: Second-Hand Dwelling house /Apartment\n",
    "df[\"DescriptionofProperty\"].unique()"
   ]
  },
  {
   "cell_type": "code",
   "execution_count": 149,
   "metadata": {},
   "outputs": [],
   "source": [
    "df[\"DescriptionofProperty\"] = df[\"DescriptionofProperty\"].map({\"New Dwelling house /Apartment\": 1, \n",
    "                                 \"Second-Hand Dwelling house /Apartment\": 0})\n",
    "\n",
    "# \"NotFullMarketPrice\" and \"VATExclusive\"\n",
    "df[\"NotFullMarketPrice\"] = df[\"NotFullMarketPrice\"].map({\"Yes\": 1, \"No\": 0})\n",
    "df[\"VATExclusive\"] = df[\"VATExclusive\"].map({\"Yes\": 1, \"No\": 0})"
   ]
  },
  {
   "cell_type": "markdown",
   "metadata": {},
   "source": [
    "#### Deal with NaN values \n",
    "NaN values appear in the feature NetFractionInstallBurden will need to be dealt with (removed) before any modeling takes place\n",
    "- If the percentage of null values exceeds 25%, it is not helpful for model training and can be deleted or filled with special methods.\n",
    "  - Here PostalCode empty value accounted for 80.82%, and other areas have been richer information, so delete the PostalCode column\n",
    "  - PropertySizeDescription empty value accounted for 0.8978, but this feature is very important, the larger the general house the higher the price, usually the reverse also holds, the higher the price of the general house is larger, here first deal with Price's abnormal value, and then generate \"PriceLevel\" from \"Price\". Price will be converted to quantiles with [.25, .5, .75], then divided into four levels: 1, 2, 3, 4, and stored as \"int64\", and then fill the null by PriceLevel"
   ]
  },
  {
   "cell_type": "code",
   "execution_count": 150,
   "metadata": {},
   "outputs": [],
   "source": [
    "df.drop(columns=[\"PostalCode\", ], inplace=True)"
   ]
  },
  {
   "cell_type": "markdown",
   "metadata": {},
   "source": [
    "#### Handle outliers: filter out the top 5% of the largest price and the top 5% of the smallest. The more outliers, the more it affects the quality of the data."
   ]
  },
  {
   "cell_type": "code",
   "execution_count": 151,
   "metadata": {},
   "outputs": [
    {
     "name": "stdout",
     "output_type": "stream",
     "text": [
      "orig max = 60000000.0, min = 5252.0\n",
      "orig mean = 267581.87241500005, mode = 150000.0\n",
      "top 5% mean = 1185382.779, top 5% min = 625000.0\n",
      "Bottom 5% mean = 30199.089439999996, Bottom 5% min = 44444.44\n",
      "new mean =  223029.18709616445\n",
      "(8995, 12)\n"
     ]
    }
   ],
   "source": [
    "percent_5 = int(df.shape[0] / 100 * 5)\n",
    "print(f\"\"\"orig max = {df[\"Price\"].max()}, min = {df[\"Price\"].min()}\"\"\")\n",
    "print(f\"\"\"orig mean = {df[\"Price\"].mean()}, mode = {df[\"Price\"].mode()[0]}\"\"\")\n",
    "max_percent_5 = df[df.Price.max() > df.Price].sort_values(by=[\"Price\"], ascending=False)[\"Price\"].head(percent_5)\n",
    "print(f\"\"\"top 5% mean = {max_percent_5.mean()}, top 5% min = {max_percent_5.min()}\"\"\")\n",
    "# print(max_percent_5)\n",
    "min_percent_5 = df[df.Price.min() < df.Price].sort_values(by=[\"Price\"], ascending=False)[\"Price\"].tail(percent_5)\n",
    "print(f\"\"\"Bottom 5% mean = {min_percent_5.mean()}, Bottom 5% min = {min_percent_5.max()}\"\"\")\n",
    "\n",
    "df = df[(df.Price < max_percent_5.min()) & (df.Price > min_percent_5.max())]\n",
    "print(\"new mean = \", df.Price.mean())\n",
    "print(df.shape)"
   ]
  },
  {
   "cell_type": "code",
   "execution_count": 152,
   "metadata": {},
   "outputs": [
    {
     "name": "stdout",
     "output_type": "stream",
     "text": [
      "4 1\n"
     ]
    }
   ],
   "source": [
    "# generate new feature \"PriceLevel\" to fill na of PropertySizeDescription: from continuous type to Categorical type(4 level)\n",
    "quantiles = df[\"Price\"].quantile([.25, .5, .75])\n",
    "\n",
    "def gen_price_level(price):\n",
    "    if price < quantiles[0.25]:\n",
    "        return 1\n",
    "    elif price < quantiles[0.50]:\n",
    "        return 2\n",
    "    elif price < quantiles[0.75]:\n",
    "        return 3\n",
    "    else:\n",
    "        return 4\n",
    "\n",
    "df[\"PriceLevel\"] = df[\"Price\"].apply(lambda x: gen_price_level(x))\n",
    "print(df[\"PriceLevel\"].max(), df[\"PriceLevel\"].min())"
   ]
  },
  {
   "cell_type": "code",
   "execution_count": 153,
   "metadata": {},
   "outputs": [],
   "source": [
    "# by PriceLevel to fill the empty value: PropertySizeDescription empty value accounted for 0.8978, \n",
    "# but this information is more important, here choose to fill the empty value by PriceLevel, \n",
    "# the larger the house the higher the price, usually the reverse also holds, the higher the price of the general house is larger\n",
    "df['PropertySizeDescription'] = np.where(df['PropertySizeDescription'].isnull(), df['PriceLevel'], df['PropertySizeDescription'])\n",
    "df[\"PropertySizeDescription\"] = df[\"PropertySizeDescription\"].astype('int64')\n",
    "df.drop(columns=\"PriceLevel\", inplace=True)"
   ]
  },
  {
   "cell_type": "code",
   "execution_count": 154,
   "metadata": {},
   "outputs": [
    {
     "data": {
      "text/plain": [
       "DateofSale                  object\n",
       "Address                     object\n",
       "County                      object\n",
       "Price                      float64\n",
       "NotFullMarketPrice           int64\n",
       "VATExclusive                 int64\n",
       "DescriptionofProperty        int64\n",
       "PropertySizeDescription      int64\n",
       "lat                        float64\n",
       "lng                        float64\n",
       "address_types               object\n",
       "YearMonth                    int64\n",
       "dtype: object"
      ]
     },
     "execution_count": 154,
     "metadata": {},
     "output_type": "execute_result"
    }
   ],
   "source": [
    "df.dtypes"
   ]
  },
  {
   "cell_type": "markdown",
   "metadata": {},
   "source": [
    "Show correlation with the target for each new feature"
   ]
  },
  {
   "cell_type": "code",
   "execution_count": 155,
   "metadata": {},
   "outputs": [
    {
     "data": {
      "text/html": [
       "<div>\n",
       "<style scoped>\n",
       "    .dataframe tbody tr th:only-of-type {\n",
       "        vertical-align: middle;\n",
       "    }\n",
       "\n",
       "    .dataframe tbody tr th {\n",
       "        vertical-align: top;\n",
       "    }\n",
       "\n",
       "    .dataframe thead th {\n",
       "        text-align: right;\n",
       "    }\n",
       "</style>\n",
       "<table border=\"1\" class=\"dataframe\">\n",
       "  <thead>\n",
       "    <tr style=\"text-align: right;\">\n",
       "      <th></th>\n",
       "      <th>lat</th>\n",
       "      <th>lng</th>\n",
       "      <th>YearMonth</th>\n",
       "      <th>Price</th>\n",
       "    </tr>\n",
       "  </thead>\n",
       "  <tbody>\n",
       "    <tr>\n",
       "      <th>Price</th>\n",
       "      <td>0.003422</td>\n",
       "      <td>0.044461</td>\n",
       "      <td>0.190412</td>\n",
       "      <td>1.000000</td>\n",
       "    </tr>\n",
       "    <tr>\n",
       "      <th>YearMonth</th>\n",
       "      <td>0.002166</td>\n",
       "      <td>-0.002247</td>\n",
       "      <td>1.000000</td>\n",
       "      <td>0.190412</td>\n",
       "    </tr>\n",
       "    <tr>\n",
       "      <th>lng</th>\n",
       "      <td>-0.324545</td>\n",
       "      <td>1.000000</td>\n",
       "      <td>-0.002247</td>\n",
       "      <td>0.044461</td>\n",
       "    </tr>\n",
       "    <tr>\n",
       "      <th>lat</th>\n",
       "      <td>1.000000</td>\n",
       "      <td>-0.324545</td>\n",
       "      <td>0.002166</td>\n",
       "      <td>0.003422</td>\n",
       "    </tr>\n",
       "  </tbody>\n",
       "</table>\n",
       "</div>"
      ],
      "text/plain": [
       "                lat       lng  YearMonth     Price\n",
       "Price      0.003422  0.044461   0.190412  1.000000\n",
       "YearMonth  0.002166 -0.002247   1.000000  0.190412\n",
       "lng       -0.324545  1.000000  -0.002247  0.044461\n",
       "lat        1.000000 -0.324545   0.002166  0.003422"
      ]
     },
     "execution_count": 155,
     "metadata": {},
     "output_type": "execute_result"
    }
   ],
   "source": [
    "corr = df[['lat', 'lng',   \n",
    "           'YearMonth', 'Price']].corr()\n",
    "corr.sort_values(by=\"Price\", ascending=False)"
   ]
  },
  {
   "cell_type": "markdown",
   "metadata": {},
   "source": [
    "Reviewing the correlations above:\n",
    "1. YearMonth (0.19) - Original & best correlation\n",
    "2. lat (0.0034) - Closest to original\n",
    "3. Drop Feature - Lose too much information\n",
    "\n",
    "Based on this evaluation we will drop 'lat', keep 'YearMonth' and 'lng'"
   ]
  },
  {
   "cell_type": "code",
   "execution_count": 156,
   "metadata": {},
   "outputs": [],
   "source": [
    "df.drop(columns=[\"lat\"], inplace=True)"
   ]
  },
  {
   "cell_type": "markdown",
   "metadata": {},
   "source": [
    "The shape resulting, data types and null values can now be seen below"
   ]
  },
  {
   "cell_type": "code",
   "execution_count": 157,
   "metadata": {},
   "outputs": [
    {
     "data": {
      "text/plain": [
       "(8995, 11)"
      ]
     },
     "execution_count": 157,
     "metadata": {},
     "output_type": "execute_result"
    }
   ],
   "source": [
    "df.shape"
   ]
  },
  {
   "cell_type": "code",
   "execution_count": 158,
   "metadata": {},
   "outputs": [
    {
     "data": {
      "text/plain": [
       "DateofSale                  object\n",
       "Address                     object\n",
       "County                      object\n",
       "Price                      float64\n",
       "NotFullMarketPrice           int64\n",
       "VATExclusive                 int64\n",
       "DescriptionofProperty        int64\n",
       "PropertySizeDescription      int64\n",
       "lng                        float64\n",
       "address_types               object\n",
       "YearMonth                    int64\n",
       "dtype: object"
      ]
     },
     "execution_count": 158,
     "metadata": {},
     "output_type": "execute_result"
    }
   ],
   "source": [
    "df.dtypes"
   ]
  },
  {
   "cell_type": "code",
   "execution_count": 159,
   "metadata": {},
   "outputs": [
    {
     "data": {
      "text/plain": [
       "DateofSale                 0.000000\n",
       "Address                    0.000000\n",
       "County                     0.000000\n",
       "Price                      0.000000\n",
       "NotFullMarketPrice         0.000000\n",
       "VATExclusive               0.000000\n",
       "DescriptionofProperty      0.000000\n",
       "PropertySizeDescription    0.000000\n",
       "lng                        0.000000\n",
       "address_types              0.021568\n",
       "YearMonth                  0.000000\n",
       "dtype: float64"
      ]
     },
     "execution_count": 159,
     "metadata": {},
     "output_type": "execute_result"
    }
   ],
   "source": [
    "df.isna().mean()"
   ]
  },
  {
   "cell_type": "markdown",
   "metadata": {},
   "source": [
    "#### Setup Column types \n",
    "We will now setup the continuous, categorical, target features.\n",
    "\n",
    "##### Select all categorical columns and convert to categorical type\n",
    " - This will be needed later when it will be required to convert categorical features into dummy features for modeling"
   ]
  },
  {
   "cell_type": "code",
   "execution_count": 160,
   "metadata": {},
   "outputs": [
    {
     "data": {
      "text/plain": [
       "County    category\n",
       "dtype: object"
      ]
     },
     "execution_count": 160,
     "metadata": {},
     "output_type": "execute_result"
    }
   ],
   "source": [
    "# Select columns containing categorical data, exclude: \"DateofSale\", \"Address\",\n",
    "categorical_columns = df[[\"County\", ]].columns\n",
    "\n",
    "# Convert data type to category for these columns\n",
    "for column in categorical_columns:\n",
    "    df[column] = df[column].astype('category')\n",
    "\n",
    "df[categorical_columns].dtypes"
   ]
  },
  {
   "cell_type": "markdown",
   "metadata": {},
   "source": [
    "##### Setup continuous columns as all the remaining columns that are not category i.e. they are int64 and float64"
   ]
  },
  {
   "cell_type": "code",
   "execution_count": 161,
   "metadata": {},
   "outputs": [
    {
     "data": {
      "text/plain": [
       "NotFullMarketPrice           int64\n",
       "VATExclusive                 int64\n",
       "DescriptionofProperty        int64\n",
       "PropertySizeDescription      int64\n",
       "lng                        float64\n",
       "YearMonth                    int64\n",
       "dtype: object"
      ]
     },
     "execution_count": 161,
     "metadata": {},
     "output_type": "execute_result"
    }
   ],
   "source": [
    "# X exclude the target feature PriceLevel\n",
    "continuous_columns = df.drop(columns=\"Price\").select_dtypes(['int64', 'float64']).columns\n",
    "df[continuous_columns].dtypes"
   ]
  },
  {
   "cell_type": "markdown",
   "metadata": {},
   "source": [
    "Current status of data types"
   ]
  },
  {
   "cell_type": "code",
   "execution_count": 162,
   "metadata": {},
   "outputs": [
    {
     "data": {
      "text/plain": [
       "DateofSale                   object\n",
       "Address                      object\n",
       "County                     category\n",
       "Price                       float64\n",
       "NotFullMarketPrice            int64\n",
       "VATExclusive                  int64\n",
       "DescriptionofProperty         int64\n",
       "PropertySizeDescription       int64\n",
       "lng                         float64\n",
       "address_types                object\n",
       "YearMonth                     int64\n",
       "dtype: object"
      ]
     },
     "execution_count": 162,
     "metadata": {},
     "output_type": "execute_result"
    }
   ],
   "source": [
    "df.dtypes"
   ]
  },
  {
   "cell_type": "markdown",
   "metadata": {},
   "source": [
    "##### The dataset will now be split into two datasets: 70% training and 30% test\n",
    "- First we will set the target feature \"y\" to be Price\n",
    "- Then we will set \"X\" to be the remaining features in the dataframe i.e. we drop \"Price\" from the dataframe"
   ]
  },
  {
   "cell_type": "code",
   "execution_count": 163,
   "metadata": {},
   "outputs": [],
   "source": [
    "target = \"Price\""
   ]
  },
  {
   "cell_type": "code",
   "execution_count": 164,
   "metadata": {},
   "outputs": [],
   "source": [
    "y = pd.DataFrame(df[target])\n",
    "X = df.drop([target],1)"
   ]
  },
  {
   "cell_type": "markdown",
   "metadata": {},
   "source": [
    "##### The data set can now be split\n",
    "- The train test split will randomly split the dataset as per the test size\n",
    "- We will set the random state=1 to allow the random shuffle to be repeated within this notebook only"
   ]
  },
  {
   "cell_type": "code",
   "execution_count": 165,
   "metadata": {},
   "outputs": [
    {
     "name": "stdout",
     "output_type": "stream",
     "text": [
      "original range is:  8995\n",
      "training range (70%):\t rows 0 to 6296\n",
      "test range (30%): \t rows 6296 to 8995\n"
     ]
    }
   ],
   "source": [
    "# Split the dataset into two datasets: 70% training and 30% test\n",
    "X_train, X_test, y_train, y_test = train_test_split(X, y, test_size=0.3,random_state=1)\n",
    "\n",
    "print(\"original range is: \",df.shape[0])\n",
    "print(\"training range (70%):\\t rows 0 to\", round(X_train.shape[0]))\n",
    "print(\"test range (30%): \\t rows\", round(X_train.shape[0]), \"to\", round(X_train.shape[0]) + X_test.shape[0])"
   ]
  },
  {
   "cell_type": "markdown",
   "metadata": {},
   "source": [
    "## 1.2 On the training set we will now carry out a series of plots comparing all features to help make decisions on what features to keep for the model \n",
    "\n",
    "- All plots will be using the training subset of dataset: X_train, y_train\n",
    "\n",
    "### 1.2.1 Plot the correlations between all the continuous features. "
   ]
  },
  {
   "cell_type": "code",
   "execution_count": 166,
   "metadata": {},
   "outputs": [
    {
     "data": {
      "text/plain": [
       "(array([0.5, 1.5, 2.5, 3.5, 4.5, 5.5]),\n",
       " <a list of 6 Text major ticklabel objects>)"
      ]
     },
     "execution_count": 166,
     "metadata": {},
     "output_type": "execute_result"
    },
    {
     "data": {
      "image/png": "[encoded data removed]",
      "text/plain": [
       "<Figure size 1440x1440 with 2 Axes>"
      ]
     },
     "metadata": {},
     "output_type": "display_data"
    }
   ],
   "source": [
    "# Correlation matrix using code found on https://stanford.edu/~mwaskom/software/seaborn/examples/many_pairwise_correlations.html\n",
    "sns.set(style=\"white\")\n",
    "\n",
    "# Calculate correlation of all pairs of continuous features\n",
    "corr = X_train[continuous_columns].corr()\n",
    "\n",
    "# Generate a mask for the upper triangle\n",
    "mask = np.zeros_like(corr, dtype=np.bool)\n",
    "mask[np.triu_indices_from(mask)] = True\n",
    "\n",
    "# Set up the matplotlib figure\n",
    "f, ax = plt.subplots(figsize=(20, 20))\n",
    "\n",
    "# Generate a custom colormap - blue and red\n",
    "# cmap = sns.diverging_palette(220, 10, as_cmap=True)\n",
    "\n",
    "# Draw the heatmap with the mask and correct aspect ratio\n",
    "sns.heatmap(corr, annot=True, mask=mask, vmax=1, vmin=-1,\n",
    "            square=True, xticklabels=True, yticklabels=True,\n",
    "            linewidths=.5, cbar_kws={\"shrink\": .5}, ax=ax)\n",
    "plt.yticks(rotation = 0)\n",
    "plt.xticks(rotation = 90)"
   ]
  },
  {
   "cell_type": "markdown",
   "metadata": {},
   "source": [
    "#### Interpretation of the results\n",
    "- It is found that the correlation between all continuous variables is low except for VATExclusive which is highly positively correlated with DescriptionofProperty, indicating that their information gain is relatively high\n",
    "- VATExclusive is highly positively correlated with DescriptionofProperty, which is easy to understand, new houses do not need to pay VAT, and only second-hand houses need VAT, so these two characteristics are equivalent, and the DescriptionofProperty column is deleted here"
   ]
  },
  {
   "cell_type": "code",
   "execution_count": 167,
   "metadata": {},
   "outputs": [],
   "source": [
    "low_information_gain = [\"DescriptionofProperty\"]"
   ]
  },
  {
   "cell_type": "markdown",
   "metadata": {},
   "source": [
    "### 1.2.2 Plot interaction between continuous features and target feature\n",
    "- Here we will loop over each continuous feature and make a scatter plot against the target 'Price'\n",
    "- We will discuss what we observe from these plots, e.g. which continuous features seem to be better at predicting the target feature\n",
    "- We will choose a subset of continuous features we find promising (if any) and justify our choice."
   ]
  },
  {
   "cell_type": "code",
   "execution_count": 168,
   "metadata": {},
   "outputs": [
    {
     "name": "stderr",
     "output_type": "stream",
     "text": [
      "'c' argument looks like a single numeric RGB or RGBA sequence, which should be avoided as value-mapping will have precedence in case its length matches with 'x' & 'y'.  Please use a 2-D array with a single row if you really want to specify the same RGB or RGBA value for all points.\n",
      "'c' argument looks like a single numeric RGB or RGBA sequence, which should be avoided as value-mapping will have precedence in case its length matches with 'x' & 'y'.  Please use a 2-D array with a single row if you really want to specify the same RGB or RGBA value for all points.\n",
      "'c' argument looks like a single numeric RGB or RGBA sequence, which should be avoided as value-mapping will have precedence in case its length matches with 'x' & 'y'.  Please use a 2-D array with a single row if you really want to specify the same RGB or RGBA value for all points.\n",
      "'c' argument looks like a single numeric RGB or RGBA sequence, which should be avoided as value-mapping will have precedence in case its length matches with 'x' & 'y'.  Please use a 2-D array with a single row if you really want to specify the same RGB or RGBA value for all points.\n",
      "'c' argument looks like a single numeric RGB or RGBA sequence, which should be avoided as value-mapping will have precedence in case its length matches with 'x' & 'y'.  Please use a 2-D array with a single row if you really want to specify the same RGB or RGBA value for all points.\n",
      "'c' argument looks like a single numeric RGB or RGBA sequence, which should be avoided as value-mapping will have precedence in case its length matches with 'x' & 'y'.  Please use a 2-D array with a single row if you really want to specify the same RGB or RGBA value for all points.\n"
     ]
    },
    {
     "data": {
      "text/html": [
       "<div>\n",
       "<style scoped>\n",
       "    .dataframe tbody tr th:only-of-type {\n",
       "        vertical-align: middle;\n",
       "    }\n",
       "\n",
       "    .dataframe tbody tr th {\n",
       "        vertical-align: top;\n",
       "    }\n",
       "\n",
       "    .dataframe thead th {\n",
       "        text-align: right;\n",
       "    }\n",
       "</style>\n",
       "<table border=\"1\" class=\"dataframe\">\n",
       "  <thead>\n",
       "    <tr style=\"text-align: right;\">\n",
       "      <th></th>\n",
       "      <th>Price</th>\n",
       "    </tr>\n",
       "  </thead>\n",
       "  <tbody>\n",
       "    <tr>\n",
       "      <th>PropertySizeDescription</th>\n",
       "      <td>0.847115</td>\n",
       "    </tr>\n",
       "    <tr>\n",
       "      <th>YearMonth</th>\n",
       "      <td>0.187749</td>\n",
       "    </tr>\n",
       "    <tr>\n",
       "      <th>VATExclusive</th>\n",
       "      <td>0.111322</td>\n",
       "    </tr>\n",
       "    <tr>\n",
       "      <th>DescriptionofProperty</th>\n",
       "      <td>0.108022</td>\n",
       "    </tr>\n",
       "    <tr>\n",
       "      <th>lng</th>\n",
       "      <td>0.059498</td>\n",
       "    </tr>\n",
       "    <tr>\n",
       "      <th>NotFullMarketPrice</th>\n",
       "      <td>-0.120393</td>\n",
       "    </tr>\n",
       "  </tbody>\n",
       "</table>\n",
       "</div>"
      ],
      "text/plain": [
       "                            Price\n",
       "PropertySizeDescription  0.847115\n",
       "YearMonth                0.187749\n",
       "VATExclusive             0.111322\n",
       "DescriptionofProperty    0.108022\n",
       "lng                      0.059498\n",
       "NotFullMarketPrice      -0.120393"
      ]
     },
     "execution_count": 168,
     "metadata": {},
     "output_type": "execute_result"
    },
    {
     "data": {
      "image/png": "[encoded data removed]",
      "text/plain": [
       "<Figure size 432x288 with 1 Axes>"
      ]
     },
     "metadata": {},
     "output_type": "display_data"
    },
    {
     "data": {
      "image/png": "[encoded data removed]",
      "text/plain": [
       "<Figure size 432x288 with 1 Axes>"
      ]
     },
     "metadata": {},
     "output_type": "display_data"
    },
    {
     "data": {
      "image/png": "[encoded data removed]",
      "text/plain": [
       "<Figure size 432x288 with 1 Axes>"
      ]
     },
     "metadata": {},
     "output_type": "display_data"
    },
    {
     "data": {
      "image/png": "[encoded data removed]",
      "text/plain": [
       "<Figure size 432x288 with 1 Axes>"
      ]
     },
     "metadata": {},
     "output_type": "display_data"
    },
    {
     "data": {
      "image/png": "[encoded data removed]",
      "text/plain": [
       "<Figure size 432x288 with 1 Axes>"
      ]
     },
     "metadata": {},
     "output_type": "display_data"
    },
    {
     "data": {
      "image/png": "[encoded data removed]",
      "text/plain": [
       "<Figure size 432x288 with 1 Axes>"
      ]
     },
     "metadata": {},
     "output_type": "display_data"
    }
   ],
   "source": [
    "# dict to hold correlation values \n",
    "corr_dict = {}\n",
    "\n",
    "# plot pairwise interaction between all continuous features and target\n",
    "for column in X_train[continuous_columns]:\n",
    "    # create temp df to merge column and target\n",
    "    df_temp = pd.concat([X_train[column], y_train], axis=1)\n",
    "    # store correlation in variable\n",
    "    correlation = df_temp[[column, target]].corr().values[0,1]\n",
    "    # plot the column and tartget feature\n",
    "    df_temp.plot(kind='scatter', x=column, y=target, label=\"%.3f\" % correlation)\n",
    "    # add correlation to dict\n",
    "    corr_dict[column] = correlation\n",
    "\n",
    "# dataframe holding sorted correlation values to aid in interpreting results\n",
    "corr_df = pd.DataFrame.from_dict(corr_dict, orient='index', columns=[target]).sort_values(target, ascending=False)\n",
    "corr_df"
   ]
  },
  {
   "cell_type": "markdown",
   "metadata": {},
   "source": [
    "#### 1.2.3 Interpretation of the results\n",
    "- Observing the plots, visually there are no clearly defined correlations and this is probably to be expected with a complex problem like this. There are many interactions to take into account.\n",
    "- Reviewing the sorted correlation dataframe we get a better overview of all the correlations. \n",
    "- We will breakdown the correlation values into 3 bins for purposes of interpretation taking only their absolute value into account\n",
    "- Note: The bounds for each bin are arbitrary and for the purpose of splitting up the features only. \n",
    "\n",
    "\n",
    "| Low correlation | High correlation |\n",
    "|-----------------|--------------------|\n",
    "| x <= 0.05      | x > 0.05         |\n",
    "| 0 features      | 6  features        |\n",
    "| 0%             | 100%                |\n",
    "\n",
    "- The strongest correlations are \"PropertySizeDescription\", \"YearMonth\" and \"lng\".\n",
    "    - YearMonth makes sense here as : There will be different economic environments and policies in different periods, and prices will be affected accordingly\n",
    "    - lng also seems like a good predictor. Property prices are most affected by location. \n",
    "- I will decide to keep the features that fall into the high correlation bins. The low correlations values will likely have little effect on the outcome and make the model more complicated.\n",
    "- The impact of this decision will be evaluated in part 5."
   ]
  },
  {
   "cell_type": "markdown",
   "metadata": {},
   "source": [
    "List of low correlation features"
   ]
  },
  {
   "cell_type": "code",
   "execution_count": 169,
   "metadata": {},
   "outputs": [
    {
     "data": {
      "text/plain": [
       "[]"
      ]
     },
     "execution_count": 169,
     "metadata": {},
     "output_type": "execute_result"
    }
   ],
   "source": [
    "# generate list of features for low correlation bin\n",
    "low_correlation_features = []\n",
    "for key, value in corr_dict.items():\n",
    "    if value <= 0.05 and value >= -0.05:\n",
    "        low_correlation_features.append(key)\n",
    "low_correlation_features"
   ]
  },
  {
   "cell_type": "code",
   "execution_count": 170,
   "metadata": {},
   "outputs": [
    {
     "data": {
      "text/plain": [
       "['NotFullMarketPrice',\n",
       " 'VATExclusive',\n",
       " 'DescriptionofProperty',\n",
       " 'PropertySizeDescription',\n",
       " 'lng',\n",
       " 'YearMonth']"
      ]
     },
     "execution_count": 170,
     "metadata": {},
     "output_type": "execute_result"
    }
   ],
   "source": [
    "# generate list of features for high correlation bin\n",
    "high_correlation_features = []\n",
    "for key, value in corr_dict.items():\n",
    "    if value > 0.05 or value < -0.05:\n",
    "        high_correlation_features.append(key)\n",
    "high_correlation_features"
   ]
  },
  {
   "cell_type": "markdown",
   "metadata": {},
   "source": [
    "### 1.2.3 Plot interaction between categorical features and target feature\n",
    "- Here we will plot a pairwise interaction between each categorical feature against the target feature. "
   ]
  },
  {
   "cell_type": "markdown",
   "metadata": {},
   "source": [
    "##### Create stacked bar plots for all categorical features"
   ]
  },
  {
   "cell_type": "code",
   "execution_count": 171,
   "metadata": {},
   "outputs": [
    {
     "name": "stdout",
     "output_type": "stream",
     "text": [
      "\n",
      " County\n"
     ]
    },
    {
     "data": {
      "image/png": "[encoded data removed]",
      "text/plain": [
       "<Figure size 1080x504 with 1 Axes>"
      ]
     },
     "metadata": {},
     "output_type": "display_data"
    }
   ],
   "source": [
    "# for the comparison we will convert the target back to categorical\n",
    "y_train = y_train.astype(\"category\")\n",
    "#X_train[categorical_columns].columns\n",
    "\n",
    "# we will create temp dataframe for these plots, mergeing X_train and y_train\n",
    "df_temp= pd.concat([X_train, y_train], axis=1)\n",
    "\n",
    "\n",
    "# for each categorical feature create a stacked bar plot\n",
    "for categorical_feature in categorical_columns:\n",
    "    # Using code from the module lab\n",
    "    \n",
    "    maxDelqEver = pd.unique(df_temp[categorical_feature].ravel())\n",
    "\n",
    "    # add new column and set values to zero\n",
    "    df_temp['percent'] = 0\n",
    "\n",
    "    #print header\n",
    "    print(\"\\n\", categorical_feature)\n",
    "    # print(\"Index \\t Count\")\n",
    "\n",
    "    # for each category\n",
    "    for i in maxDelqEver:\n",
    "\n",
    "        count = df_temp[df_temp[categorical_feature] == i].count()[target]\n",
    "        count_percentage = (1 / count) * 100\n",
    "\n",
    "        # print out index vs count\n",
    "        # print(i, \"\\t\", count)\n",
    "\n",
    "        index_list = df_temp[df_temp[categorical_feature] == i].index.tolist()\n",
    "        for ind in index_list:\n",
    "            df_temp.loc[ind, 'percent'] = count_percentage\n",
    "\n",
    "    group = df_temp[['percent',categorical_feature,target]].groupby([categorical_feature,target]).sum()\n",
    "\n",
    "    my_plot = group.unstack().plot(kind='bar', stacked=True, title=f\"{target} vs {categorical_feature}\", figsize=(15,7), grid=True)\n",
    "\n",
    "    # add legend\n",
    "    red_patch = mpatches.Patch(color='orange', label='Good')\n",
    "    blue_patch = mpatches.Patch(color='blue', label='Bad')\n",
    "    my_plot.legend(handles=[red_patch, blue_patch], frameon = True)\n",
    "\n",
    "    # add gridlines\n",
    "    plt.grid(b=True, which='major', color='#666666', linestyle='-')\n",
    "    plt.minorticks_on()\n",
    "    plt.grid(b=True, which='minor', color='#999999', linestyle='-', alpha=0.2)\n",
    "\n",
    "    # add labels\n",
    "    my_plot.set_xlabel(\"index\")\n",
    "    my_plot.set_ylabel(f\"{target}\")\n",
    "    my_plot.set_ylim([0,100])\n",
    "    \n",
    "# drop 'percent' that was used only for stacked bar plot\n",
    "df_temp = df_temp.drop(\"percent\", 1)"
   ]
  },
  {
   "cell_type": "markdown",
   "metadata": {},
   "source": [
    "### 1.2.4 Summary & Drop Features\n",
    "\n",
    "1. From Continuous vs Target plots (1.2.2) we identified the following to be dropped"
   ]
  },
  {
   "cell_type": "code",
   "execution_count": 33,
   "metadata": {},
   "outputs": [
    {
     "data": {
      "text/plain": [
       "[]"
      ]
     },
     "execution_count": 33,
     "metadata": {},
     "output_type": "execute_result"
    }
   ],
   "source": [
    "low_correlation_features"
   ]
  },
  {
   "cell_type": "markdown",
   "metadata": {},
   "source": [
    "1. There are equivalent feature pairs in the dataset, for example, YearMonth is calculated from DateofSale, Address has too many non-standardized and non-uniform values, so remove Address and DateofSale"
   ]
  },
  {
   "cell_type": "code",
   "execution_count": 34,
   "metadata": {},
   "outputs": [],
   "source": [
    "low_information_gain = low_information_gain + [\"DateofSale\", \"Address\"]"
   ]
  },
  {
   "cell_type": "code",
   "execution_count": 35,
   "metadata": {},
   "outputs": [
    {
     "name": "stdout",
     "output_type": "stream",
     "text": [
      "\n",
      "Remaining columns: Index(['County', 'Price', 'NotFullMarketPrice', 'VATExclusive', 'PropertySizeDescription', 'lng', 'address_types', 'YearMonth'], dtype='object')\n",
      "\n",
      "New shape: (8995, 8)\n"
     ]
    }
   ],
   "source": [
    "# drop all low correlation features\n",
    "low_value_features = list(set(low_information_gain + low_correlation_features))\n",
    "# before dropping make copy of original\n",
    "df_rev1 = df.copy()\n",
    "# drop low value features\n",
    "df_rev1.drop(low_value_features, 1, inplace=True)\n",
    "print('\\nRemaining columns:', df_rev1.columns)\n",
    "print('\\nNew shape:', df_rev1.shape)"
   ]
  },
  {
   "cell_type": "markdown",
   "metadata": {},
   "source": [
    "## 1.3 Prepare dataset for modeling\n",
    "Now we have picked our descriptive features for the whole dataset, a number of additional steps will need to be taken to prepare the dataset for modeling \n",
    "- We will now convert the categorical variables into dummies variable to allow modeling\n",
    "- We will then remove the redundant dummies which contain no additional information\n",
    "- We will then set up the train test split again based on the dataset with the dummies included"
   ]
  },
  {
   "cell_type": "markdown",
   "metadata": {},
   "source": [
    "#### Set up dummy features. \n",
    "This will split up each categorical feature into a number of dummy features. The data type changes to \"uint8\""
   ]
  },
  {
   "cell_type": "code",
   "execution_count": 36,
   "metadata": {},
   "outputs": [
    {
     "data": {
      "text/plain": [
       "Price                           float64\n",
       "NotFullMarketPrice                int64\n",
       "VATExclusive                      int64\n",
       "PropertySizeDescription           int64\n",
       "lng                             float64\n",
       "                                 ...   \n",
       "address_types_postal_town         uint8\n",
       "address_types_premise             uint8\n",
       "address_types_route               uint8\n",
       "address_types_street_address      uint8\n",
       "address_types_subpremise          uint8\n",
       "Length: 87, dtype: object"
      ]
     },
     "execution_count": 36,
     "metadata": {},
     "output_type": "execute_result"
    }
   ],
   "source": [
    "# set up dummies features\n",
    "df_rev1 = pd.get_dummies(df_rev1)\n",
    "df_rev1.dtypes"
   ]
  },
  {
   "cell_type": "markdown",
   "metadata": {},
   "source": [
    "#### Continuous columns are:"
   ]
  },
  {
   "cell_type": "code",
   "execution_count": 37,
   "metadata": {},
   "outputs": [
    {
     "data": {
      "text/plain": [
       "['NotFullMarketPrice',\n",
       " 'VATExclusive',\n",
       " 'PropertySizeDescription',\n",
       " 'lng',\n",
       " 'YearMonth']"
      ]
     },
     "execution_count": 37,
     "metadata": {},
     "output_type": "execute_result"
    }
   ],
   "source": [
    "# remove the target\n",
    "continuous_columns = df_rev1.drop(columns=target).select_dtypes(include=['int64', 'float64']).columns.tolist()\n",
    "continuous_columns"
   ]
  },
  {
   "cell_type": "markdown",
   "metadata": {},
   "source": [
    "#### Categorical columns are:"
   ]
  },
  {
   "cell_type": "code",
   "execution_count": 38,
   "metadata": {},
   "outputs": [
    {
     "data": {
      "text/plain": [
       "['County_Carlow',\n",
       " 'County_Cavan',\n",
       " 'County_Clare',\n",
       " 'County_Cork',\n",
       " 'County_Donegal',\n",
       " 'County_Dublin',\n",
       " 'County_Galway',\n",
       " 'County_Kerry',\n",
       " 'County_Kildare',\n",
       " 'County_Kilkenny',\n",
       " 'County_Laois',\n",
       " 'County_Leitrim',\n",
       " 'County_Limerick',\n",
       " 'County_Longford',\n",
       " 'County_Louth',\n",
       " 'County_Mayo',\n",
       " 'County_Meath',\n",
       " 'County_Monaghan',\n",
       " 'County_Offaly',\n",
       " 'County_Roscommon',\n",
       " 'County_Sligo',\n",
       " 'County_Tipperary',\n",
       " 'County_Waterford',\n",
       " 'County_Westmeath',\n",
       " 'County_Wexford',\n",
       " 'County_Wicklow',\n",
       " 'address_types_administrative_area_level_1-political',\n",
       " 'address_types_administrative_area_level_2-political',\n",
       " 'address_types_amusement_park-establishment-park-point_of_interest-tourist_attraction',\n",
       " 'address_types_art_gallery-establishment-point_of_interest',\n",
       " 'address_types_bar-cafe-establishment-food-point_of_interest-restaurant-store',\n",
       " 'address_types_bar-establishment-food-lodging-point_of_interest-restaurant',\n",
       " 'address_types_bar-establishment-food-point_of_interest-restaurant',\n",
       " 'address_types_bus_station-establishment-point_of_interest-transit_station',\n",
       " 'address_types_cafe-establishment-food-point_of_interest',\n",
       " 'address_types_campground-establishment-lodging-park-point_of_interest',\n",
       " 'address_types_campground-establishment-lodging-park-point_of_interest-rv_park',\n",
       " 'address_types_cemetery-establishment-park-point_of_interest',\n",
       " 'address_types_church-establishment-place_of_worship-point_of_interest',\n",
       " 'address_types_clothing_store-establishment-point_of_interest-store',\n",
       " 'address_types_colloquial_area-political',\n",
       " 'address_types_department_store-establishment-point_of_interest-store',\n",
       " 'address_types_establishment-food-lodging-point_of_interest-restaurant',\n",
       " 'address_types_establishment-food-lodging-point_of_interest-restaurant-spa',\n",
       " 'address_types_establishment-food-lodging-point_of_interest-restaurant-spa-store',\n",
       " 'address_types_establishment-food-meal_delivery-meal_takeaway-point_of_interest-restaurant',\n",
       " 'address_types_establishment-food-point_of_interest-restaurant',\n",
       " 'address_types_establishment-general_contractor-point_of_interest',\n",
       " 'address_types_establishment-health-hospital-point_of_interest',\n",
       " 'address_types_establishment-health-lodging-point_of_interest',\n",
       " 'address_types_establishment-health-point_of_interest',\n",
       " 'address_types_establishment-jewelry_store-point_of_interest-store',\n",
       " 'address_types_establishment-light_rail_station-point_of_interest-transit_station',\n",
       " 'address_types_establishment-local_government_office-point_of_interest',\n",
       " 'address_types_establishment-lodging-point_of_interest',\n",
       " 'address_types_establishment-lodging-point_of_interest-rv_park',\n",
       " 'address_types_establishment-lodging-point_of_interest-shopping_mall',\n",
       " 'address_types_establishment-museum-point_of_interest-tourist_attraction',\n",
       " 'address_types_establishment-natural_feature',\n",
       " 'address_types_establishment-park-point_of_interest',\n",
       " 'address_types_establishment-parking-point_of_interest',\n",
       " 'address_types_establishment-point_of_interest',\n",
       " 'address_types_establishment-point_of_interest-primary_school-school',\n",
       " 'address_types_establishment-point_of_interest-real_estate_agency',\n",
       " 'address_types_establishment-point_of_interest-school',\n",
       " 'address_types_establishment-point_of_interest-school-university',\n",
       " 'address_types_establishment-point_of_interest-shopping_mall',\n",
       " 'address_types_establishment-point_of_interest-store',\n",
       " 'address_types_establishment-point_of_interest-tourist_attraction',\n",
       " 'address_types_establishment-point_of_interest-train_station-transit_station',\n",
       " 'address_types_establishment-point_of_interest-transit_station',\n",
       " 'address_types_establishment-premise',\n",
       " 'address_types_intersection',\n",
       " 'address_types_locality-political',\n",
       " 'address_types_neighborhood-political',\n",
       " 'address_types_political-sublocality-sublocality_level_1',\n",
       " 'address_types_postal_town',\n",
       " 'address_types_premise',\n",
       " 'address_types_route',\n",
       " 'address_types_street_address',\n",
       " 'address_types_subpremise']"
      ]
     },
     "execution_count": 38,
     "metadata": {},
     "output_type": "execute_result"
    }
   ],
   "source": [
    "categorical_columns = df_rev1.select_dtypes(include=['uint8']).columns.tolist()\n",
    "categorical_columns"
   ]
  },
  {
   "cell_type": "markdown",
   "metadata": {},
   "source": [
    "#### Total features are:"
   ]
  },
  {
   "cell_type": "code",
   "execution_count": 39,
   "metadata": {},
   "outputs": [
    {
     "data": {
      "text/plain": [
       "['NotFullMarketPrice',\n",
       " 'VATExclusive',\n",
       " 'PropertySizeDescription',\n",
       " 'lng',\n",
       " 'YearMonth',\n",
       " 'County_Carlow',\n",
       " 'County_Cavan',\n",
       " 'County_Clare',\n",
       " 'County_Cork',\n",
       " 'County_Donegal',\n",
       " 'County_Dublin',\n",
       " 'County_Galway',\n",
       " 'County_Kerry',\n",
       " 'County_Kildare',\n",
       " 'County_Kilkenny',\n",
       " 'County_Laois',\n",
       " 'County_Leitrim',\n",
       " 'County_Limerick',\n",
       " 'County_Longford',\n",
       " 'County_Louth',\n",
       " 'County_Mayo',\n",
       " 'County_Meath',\n",
       " 'County_Monaghan',\n",
       " 'County_Offaly',\n",
       " 'County_Roscommon',\n",
       " 'County_Sligo',\n",
       " 'County_Tipperary',\n",
       " 'County_Waterford',\n",
       " 'County_Westmeath',\n",
       " 'County_Wexford',\n",
       " 'County_Wicklow',\n",
       " 'address_types_administrative_area_level_1-political',\n",
       " 'address_types_administrative_area_level_2-political',\n",
       " 'address_types_amusement_park-establishment-park-point_of_interest-tourist_attraction',\n",
       " 'address_types_art_gallery-establishment-point_of_interest',\n",
       " 'address_types_bar-cafe-establishment-food-point_of_interest-restaurant-store',\n",
       " 'address_types_bar-establishment-food-lodging-point_of_interest-restaurant',\n",
       " 'address_types_bar-establishment-food-point_of_interest-restaurant',\n",
       " 'address_types_bus_station-establishment-point_of_interest-transit_station',\n",
       " 'address_types_cafe-establishment-food-point_of_interest',\n",
       " 'address_types_campground-establishment-lodging-park-point_of_interest',\n",
       " 'address_types_campground-establishment-lodging-park-point_of_interest-rv_park',\n",
       " 'address_types_cemetery-establishment-park-point_of_interest',\n",
       " 'address_types_church-establishment-place_of_worship-point_of_interest',\n",
       " 'address_types_clothing_store-establishment-point_of_interest-store',\n",
       " 'address_types_colloquial_area-political',\n",
       " 'address_types_department_store-establishment-point_of_interest-store',\n",
       " 'address_types_establishment-food-lodging-point_of_interest-restaurant',\n",
       " 'address_types_establishment-food-lodging-point_of_interest-restaurant-spa',\n",
       " 'address_types_establishment-food-lodging-point_of_interest-restaurant-spa-store',\n",
       " 'address_types_establishment-food-meal_delivery-meal_takeaway-point_of_interest-restaurant',\n",
       " 'address_types_establishment-food-point_of_interest-restaurant',\n",
       " 'address_types_establishment-general_contractor-point_of_interest',\n",
       " 'address_types_establishment-health-hospital-point_of_interest',\n",
       " 'address_types_establishment-health-lodging-point_of_interest',\n",
       " 'address_types_establishment-health-point_of_interest',\n",
       " 'address_types_establishment-jewelry_store-point_of_interest-store',\n",
       " 'address_types_establishment-light_rail_station-point_of_interest-transit_station',\n",
       " 'address_types_establishment-local_government_office-point_of_interest',\n",
       " 'address_types_establishment-lodging-point_of_interest',\n",
       " 'address_types_establishment-lodging-point_of_interest-rv_park',\n",
       " 'address_types_establishment-lodging-point_of_interest-shopping_mall',\n",
       " 'address_types_establishment-museum-point_of_interest-tourist_attraction',\n",
       " 'address_types_establishment-natural_feature',\n",
       " 'address_types_establishment-park-point_of_interest',\n",
       " 'address_types_establishment-parking-point_of_interest',\n",
       " 'address_types_establishment-point_of_interest',\n",
       " 'address_types_establishment-point_of_interest-primary_school-school',\n",
       " 'address_types_establishment-point_of_interest-real_estate_agency',\n",
       " 'address_types_establishment-point_of_interest-school',\n",
       " 'address_types_establishment-point_of_interest-school-university',\n",
       " 'address_types_establishment-point_of_interest-shopping_mall',\n",
       " 'address_types_establishment-point_of_interest-store',\n",
       " 'address_types_establishment-point_of_interest-tourist_attraction',\n",
       " 'address_types_establishment-point_of_interest-train_station-transit_station',\n",
       " 'address_types_establishment-point_of_interest-transit_station',\n",
       " 'address_types_establishment-premise',\n",
       " 'address_types_intersection',\n",
       " 'address_types_locality-political',\n",
       " 'address_types_neighborhood-political',\n",
       " 'address_types_political-sublocality-sublocality_level_1',\n",
       " 'address_types_postal_town',\n",
       " 'address_types_premise',\n",
       " 'address_types_route',\n",
       " 'address_types_street_address',\n",
       " 'address_types_subpremise']"
      ]
     },
     "execution_count": 39,
     "metadata": {},
     "output_type": "execute_result"
    }
   ],
   "source": [
    "features = continuous_columns + categorical_columns\n",
    "features"
   ]
  },
  {
   "cell_type": "code",
   "execution_count": 40,
   "metadata": {},
   "outputs": [],
   "source": [
    "# normalize features\n",
    "from sklearn_pandas import DataFrameMapper\n",
    "from sklearn.preprocessing import StandardScaler\n",
    "# mapper = DataFrameMapper([(df_rev1[features].columns, StandardScaler())])\n",
    "# scaled_features = mapper.fit_transform(df_rev1[features].copy())\n",
    "# scaled_features_df_rev1 = pd.DataFrame(scaled_features, index=df_rev1.index, columns=df_rev1[features].columns)\n",
    "\n",
    "\n",
    "mapper = DataFrameMapper([(df_rev1.columns, StandardScaler())])\n",
    "scaled_features = mapper.fit_transform(df_rev1.copy())\n",
    "scaled_features_df_rev1 = pd.DataFrame(scaled_features, index=df_rev1.index, columns=df_rev1.columns)"
   ]
  },
  {
   "cell_type": "markdown",
   "metadata": {},
   "source": [
    "### Setting up the train/test split\n",
    "- This is based on the dataset with dummy values\n",
    "- The Target is stored in dataframe \"y\"\n",
    "- The remaining features are stored in dataframe \"X\"\n",
    "- Both are split into training and test subsets"
   ]
  },
  {
   "cell_type": "code",
   "execution_count": 41,
   "metadata": {},
   "outputs": [
    {
     "name": "stdout",
     "output_type": "stream",
     "text": [
      "original range is:  8995\n",
      "training range (70%):\t rows 0 to 6296\n",
      "test range (30%): \t rows 6296 to 8995\n"
     ]
    }
   ],
   "source": [
    "# # y is the target\n",
    "# y = df_rev1[target] # scaled_features_df_rev1[target]\n",
    "# # X is everything else\n",
    "# X = scaled_features_df_rev1.drop([target],1) # scaled_features_df_rev1.copy() # scaled_features_df_rev1.drop([target],1)\n",
    "# # Split the dataset into two datasets: 70% training and 30% test\n",
    "# X_train, X_test, y_train, y_test = train_test_split(X, y, random_state=1,  test_size=0.3)\n",
    "\n",
    "# y is the target\n",
    "y = df_rev1[target]\n",
    "# X is everything else\n",
    "X = df_rev1[features]\n",
    "# Split the dataset into two datasets: 70% training and 30% test\n",
    "X_train, X_test, y_train, y_test = train_test_split(X, y, random_state=1,  test_size=0.3)\n",
    "\n",
    "print(\"original range is: \", df_rev1.shape[0])\n",
    "print(\"training range (70%):\\t rows 0 to\", round(X_train.shape[0]))\n",
    "print(\"test range (30%): \\t rows\", round(X_train.shape[0]), \"to\", round(X_train.shape[0]) + X_test.shape[0])"
   ]
  },
  {
   "cell_type": "code",
   "execution_count": 42,
   "metadata": {},
   "outputs": [
    {
     "name": "stdout",
     "output_type": "stream",
     "text": [
      "\n",
      "Descriptive features in X:\n",
      "       NotFullMarketPrice  VATExclusive  PropertySizeDescription       lng  YearMonth  County_Carlow  County_Cavan  County_Clare  County_Cork  County_Donegal  County_Dublin  County_Galway  County_Kerry  County_Kildare  County_Kilkenny  County_Laois  County_Leitrim  County_Limerick  County_Longford  County_Louth  County_Mayo  County_Meath  County_Monaghan  County_Offaly  County_Roscommon  County_Sligo  County_Tipperary  County_Waterford  County_Westmeath  County_Wexford  County_Wicklow  address_types_administrative_area_level_1-political  address_types_administrative_area_level_2-political  address_types_amusement_park-establishment-park-point_of_interest-tourist_attraction  address_types_art_gallery-establishment-point_of_interest  address_types_bar-cafe-establishment-food-point_of_interest-restaurant-store  address_types_bar-establishment-food-lodging-point_of_interest-restaurant  address_types_bar-establishment-food-point_of_interest-restaurant  \\\n",
      "2418                   0             0                        1 -6.378276     202107              0             0             0            0               0              1              0             0               0                0             0               0                0                0             0            0             0                0              0                 0             0                 0                 0                 0               0               0                                                    0                                                    0                                                                                     0                                                          0                                                                             0                                                                          0                                                                  0   \n",
      "\n",
      "      address_types_bus_station-establishment-point_of_interest-transit_station  address_types_cafe-establishment-food-point_of_interest  address_types_campground-establishment-lodging-park-point_of_interest  address_types_campground-establishment-lodging-park-point_of_interest-rv_park  address_types_cemetery-establishment-park-point_of_interest  address_types_church-establishment-place_of_worship-point_of_interest  address_types_clothing_store-establishment-point_of_interest-store  address_types_colloquial_area-political  address_types_department_store-establishment-point_of_interest-store  address_types_establishment-food-lodging-point_of_interest-restaurant  address_types_establishment-food-lodging-point_of_interest-restaurant-spa  address_types_establishment-food-lodging-point_of_interest-restaurant-spa-store  address_types_establishment-food-meal_delivery-meal_takeaway-point_of_interest-restaurant  address_types_establishment-food-point_of_interest-restaurant  \\\n",
      "2418                                                                          0                                                        0                                                                      0                                                                              0                                                            0                                                                      0                                                                   0                                        0                                                                     0                                                                      0                                                                          0                                                                                0                                                                                          0                                                              0   \n",
      "\n",
      "      address_types_establishment-general_contractor-point_of_interest  address_types_establishment-health-hospital-point_of_interest  address_types_establishment-health-lodging-point_of_interest  address_types_establishment-health-point_of_interest  address_types_establishment-jewelry_store-point_of_interest-store  address_types_establishment-light_rail_station-point_of_interest-transit_station  address_types_establishment-local_government_office-point_of_interest  address_types_establishment-lodging-point_of_interest  address_types_establishment-lodging-point_of_interest-rv_park  address_types_establishment-lodging-point_of_interest-shopping_mall  address_types_establishment-museum-point_of_interest-tourist_attraction  address_types_establishment-natural_feature  address_types_establishment-park-point_of_interest  address_types_establishment-parking-point_of_interest  address_types_establishment-point_of_interest  address_types_establishment-point_of_interest-primary_school-school  \\\n",
      "2418                                                                 0                                                              0                                                             0                                                     0                                                                  0                                                                                 0                                                                      0                                                      0                                                              0                                                                    0                                                                        0                                            0                                                   0                                                      0                                              0                                                                    0   \n",
      "\n",
      "      address_types_establishment-point_of_interest-real_estate_agency  address_types_establishment-point_of_interest-school  address_types_establishment-point_of_interest-school-university  address_types_establishment-point_of_interest-shopping_mall  address_types_establishment-point_of_interest-store  address_types_establishment-point_of_interest-tourist_attraction  address_types_establishment-point_of_interest-train_station-transit_station  address_types_establishment-point_of_interest-transit_station  address_types_establishment-premise  address_types_intersection  address_types_locality-political  address_types_neighborhood-political  address_types_political-sublocality-sublocality_level_1  address_types_postal_town  address_types_premise  address_types_route  address_types_street_address  address_types_subpremise  \n",
      "2418                                                                 0                                                     0                                                                0                                                            0                                                    0                                                                 0                                                                            0                                                              0                                    0                           0                                 0                                     0                                                        0                          0                      0                    1                             0                         0  \n",
      "\n",
      "Target feature in y:\n",
      " 2418    100000.0\n",
      "Name: Price, dtype: float64\n"
     ]
    }
   ],
   "source": [
    "print(\"\\nDescriptive features in X:\\n\", X_train.head(1))\n",
    "print(\"\\nTarget feature in y:\\n\", y_train.head(1))"
   ]
  },
  {
   "cell_type": "markdown",
   "metadata": {},
   "source": [
    "#### Reset the indexes of the training and test splits\n",
    "- We can see from the X_train printout below that the indexes are no longer consecutive\n",
    "- This is the same for y_train, X_test, y_test\n",
    "- This will need to be dealt with next as it will effect merging of dataframes in the coming sections"
   ]
  },
  {
   "cell_type": "code",
   "execution_count": 43,
   "metadata": {},
   "outputs": [
    {
     "data": {
      "text/html": [
       "<div>\n",
       "<style scoped>\n",
       "    .dataframe tbody tr th:only-of-type {\n",
       "        vertical-align: middle;\n",
       "    }\n",
       "\n",
       "    .dataframe tbody tr th {\n",
       "        vertical-align: top;\n",
       "    }\n",
       "\n",
       "    .dataframe thead th {\n",
       "        text-align: right;\n",
       "    }\n",
       "</style>\n",
       "<table border=\"1\" class=\"dataframe\">\n",
       "  <thead>\n",
       "    <tr style=\"text-align: right;\">\n",
       "      <th></th>\n",
       "      <th>NotFullMarketPrice</th>\n",
       "      <th>VATExclusive</th>\n",
       "      <th>PropertySizeDescription</th>\n",
       "      <th>lng</th>\n",
       "      <th>YearMonth</th>\n",
       "      <th>County_Carlow</th>\n",
       "      <th>County_Cavan</th>\n",
       "      <th>County_Clare</th>\n",
       "      <th>County_Cork</th>\n",
       "      <th>County_Donegal</th>\n",
       "      <th>County_Dublin</th>\n",
       "      <th>County_Galway</th>\n",
       "      <th>County_Kerry</th>\n",
       "      <th>County_Kildare</th>\n",
       "      <th>County_Kilkenny</th>\n",
       "      <th>County_Laois</th>\n",
       "      <th>County_Leitrim</th>\n",
       "      <th>County_Limerick</th>\n",
       "      <th>County_Longford</th>\n",
       "      <th>County_Louth</th>\n",
       "      <th>County_Mayo</th>\n",
       "      <th>County_Meath</th>\n",
       "      <th>County_Monaghan</th>\n",
       "      <th>County_Offaly</th>\n",
       "      <th>County_Roscommon</th>\n",
       "      <th>County_Sligo</th>\n",
       "      <th>County_Tipperary</th>\n",
       "      <th>County_Waterford</th>\n",
       "      <th>County_Westmeath</th>\n",
       "      <th>County_Wexford</th>\n",
       "      <th>County_Wicklow</th>\n",
       "      <th>address_types_administrative_area_level_1-political</th>\n",
       "      <th>address_types_administrative_area_level_2-political</th>\n",
       "      <th>address_types_amusement_park-establishment-park-point_of_interest-tourist_attraction</th>\n",
       "      <th>address_types_art_gallery-establishment-point_of_interest</th>\n",
       "      <th>address_types_bar-cafe-establishment-food-point_of_interest-restaurant-store</th>\n",
       "      <th>address_types_bar-establishment-food-lodging-point_of_interest-restaurant</th>\n",
       "      <th>address_types_bar-establishment-food-point_of_interest-restaurant</th>\n",
       "      <th>address_types_bus_station-establishment-point_of_interest-transit_station</th>\n",
       "      <th>address_types_cafe-establishment-food-point_of_interest</th>\n",
       "      <th>address_types_campground-establishment-lodging-park-point_of_interest</th>\n",
       "      <th>address_types_campground-establishment-lodging-park-point_of_interest-rv_park</th>\n",
       "      <th>address_types_cemetery-establishment-park-point_of_interest</th>\n",
       "      <th>address_types_church-establishment-place_of_worship-point_of_interest</th>\n",
       "      <th>address_types_clothing_store-establishment-point_of_interest-store</th>\n",
       "      <th>address_types_colloquial_area-political</th>\n",
       "      <th>address_types_department_store-establishment-point_of_interest-store</th>\n",
       "      <th>address_types_establishment-food-lodging-point_of_interest-restaurant</th>\n",
       "      <th>address_types_establishment-food-lodging-point_of_interest-restaurant-spa</th>\n",
       "      <th>address_types_establishment-food-lodging-point_of_interest-restaurant-spa-store</th>\n",
       "      <th>address_types_establishment-food-meal_delivery-meal_takeaway-point_of_interest-restaurant</th>\n",
       "      <th>address_types_establishment-food-point_of_interest-restaurant</th>\n",
       "      <th>address_types_establishment-general_contractor-point_of_interest</th>\n",
       "      <th>address_types_establishment-health-hospital-point_of_interest</th>\n",
       "      <th>address_types_establishment-health-lodging-point_of_interest</th>\n",
       "      <th>address_types_establishment-health-point_of_interest</th>\n",
       "      <th>address_types_establishment-jewelry_store-point_of_interest-store</th>\n",
       "      <th>address_types_establishment-light_rail_station-point_of_interest-transit_station</th>\n",
       "      <th>address_types_establishment-local_government_office-point_of_interest</th>\n",
       "      <th>address_types_establishment-lodging-point_of_interest</th>\n",
       "      <th>address_types_establishment-lodging-point_of_interest-rv_park</th>\n",
       "      <th>address_types_establishment-lodging-point_of_interest-shopping_mall</th>\n",
       "      <th>address_types_establishment-museum-point_of_interest-tourist_attraction</th>\n",
       "      <th>address_types_establishment-natural_feature</th>\n",
       "      <th>address_types_establishment-park-point_of_interest</th>\n",
       "      <th>address_types_establishment-parking-point_of_interest</th>\n",
       "      <th>address_types_establishment-point_of_interest</th>\n",
       "      <th>address_types_establishment-point_of_interest-primary_school-school</th>\n",
       "      <th>address_types_establishment-point_of_interest-real_estate_agency</th>\n",
       "      <th>address_types_establishment-point_of_interest-school</th>\n",
       "      <th>address_types_establishment-point_of_interest-school-university</th>\n",
       "      <th>address_types_establishment-point_of_interest-shopping_mall</th>\n",
       "      <th>address_types_establishment-point_of_interest-store</th>\n",
       "      <th>address_types_establishment-point_of_interest-tourist_attraction</th>\n",
       "      <th>address_types_establishment-point_of_interest-train_station-transit_station</th>\n",
       "      <th>address_types_establishment-point_of_interest-transit_station</th>\n",
       "      <th>address_types_establishment-premise</th>\n",
       "      <th>address_types_intersection</th>\n",
       "      <th>address_types_locality-political</th>\n",
       "      <th>address_types_neighborhood-political</th>\n",
       "      <th>address_types_political-sublocality-sublocality_level_1</th>\n",
       "      <th>address_types_postal_town</th>\n",
       "      <th>address_types_premise</th>\n",
       "      <th>address_types_route</th>\n",
       "      <th>address_types_street_address</th>\n",
       "      <th>address_types_subpremise</th>\n",
       "    </tr>\n",
       "  </thead>\n",
       "  <tbody>\n",
       "    <tr>\n",
       "      <th>0</th>\n",
       "      <td>0</td>\n",
       "      <td>0</td>\n",
       "      <td>1</td>\n",
       "      <td>-6.378276</td>\n",
       "      <td>202107</td>\n",
       "      <td>0</td>\n",
       "      <td>0</td>\n",
       "      <td>0</td>\n",
       "      <td>0</td>\n",
       "      <td>0</td>\n",
       "      <td>1</td>\n",
       "      <td>0</td>\n",
       "      <td>0</td>\n",
       "      <td>0</td>\n",
       "      <td>0</td>\n",
       "      <td>0</td>\n",
       "      <td>0</td>\n",
       "      <td>0</td>\n",
       "      <td>0</td>\n",
       "      <td>0</td>\n",
       "      <td>0</td>\n",
       "      <td>0</td>\n",
       "      <td>0</td>\n",
       "      <td>0</td>\n",
       "      <td>0</td>\n",
       "      <td>0</td>\n",
       "      <td>0</td>\n",
       "      <td>0</td>\n",
       "      <td>0</td>\n",
       "      <td>0</td>\n",
       "      <td>0</td>\n",
       "      <td>0</td>\n",
       "      <td>0</td>\n",
       "      <td>0</td>\n",
       "      <td>0</td>\n",
       "      <td>0</td>\n",
       "      <td>0</td>\n",
       "      <td>0</td>\n",
       "      <td>0</td>\n",
       "      <td>0</td>\n",
       "      <td>0</td>\n",
       "      <td>0</td>\n",
       "      <td>0</td>\n",
       "      <td>0</td>\n",
       "      <td>0</td>\n",
       "      <td>0</td>\n",
       "      <td>0</td>\n",
       "      <td>0</td>\n",
       "      <td>0</td>\n",
       "      <td>0</td>\n",
       "      <td>0</td>\n",
       "      <td>0</td>\n",
       "      <td>0</td>\n",
       "      <td>0</td>\n",
       "      <td>0</td>\n",
       "      <td>0</td>\n",
       "      <td>0</td>\n",
       "      <td>0</td>\n",
       "      <td>0</td>\n",
       "      <td>0</td>\n",
       "      <td>0</td>\n",
       "      <td>0</td>\n",
       "      <td>0</td>\n",
       "      <td>0</td>\n",
       "      <td>0</td>\n",
       "      <td>0</td>\n",
       "      <td>0</td>\n",
       "      <td>0</td>\n",
       "      <td>0</td>\n",
       "      <td>0</td>\n",
       "      <td>0</td>\n",
       "      <td>0</td>\n",
       "      <td>0</td>\n",
       "      <td>0</td>\n",
       "      <td>0</td>\n",
       "      <td>0</td>\n",
       "      <td>0</td>\n",
       "      <td>0</td>\n",
       "      <td>0</td>\n",
       "      <td>0</td>\n",
       "      <td>0</td>\n",
       "      <td>0</td>\n",
       "      <td>0</td>\n",
       "      <td>1</td>\n",
       "      <td>0</td>\n",
       "      <td>0</td>\n",
       "    </tr>\n",
       "    <tr>\n",
       "      <th>1</th>\n",
       "      <td>0</td>\n",
       "      <td>0</td>\n",
       "      <td>2</td>\n",
       "      <td>-8.620254</td>\n",
       "      <td>201807</td>\n",
       "      <td>0</td>\n",
       "      <td>0</td>\n",
       "      <td>0</td>\n",
       "      <td>0</td>\n",
       "      <td>0</td>\n",
       "      <td>0</td>\n",
       "      <td>0</td>\n",
       "      <td>0</td>\n",
       "      <td>0</td>\n",
       "      <td>0</td>\n",
       "      <td>0</td>\n",
       "      <td>0</td>\n",
       "      <td>1</td>\n",
       "      <td>0</td>\n",
       "      <td>0</td>\n",
       "      <td>0</td>\n",
       "      <td>0</td>\n",
       "      <td>0</td>\n",
       "      <td>0</td>\n",
       "      <td>0</td>\n",
       "      <td>0</td>\n",
       "      <td>0</td>\n",
       "      <td>0</td>\n",
       "      <td>0</td>\n",
       "      <td>0</td>\n",
       "      <td>0</td>\n",
       "      <td>0</td>\n",
       "      <td>0</td>\n",
       "      <td>0</td>\n",
       "      <td>0</td>\n",
       "      <td>0</td>\n",
       "      <td>0</td>\n",
       "      <td>0</td>\n",
       "      <td>0</td>\n",
       "      <td>0</td>\n",
       "      <td>0</td>\n",
       "      <td>0</td>\n",
       "      <td>0</td>\n",
       "      <td>0</td>\n",
       "      <td>0</td>\n",
       "      <td>0</td>\n",
       "      <td>0</td>\n",
       "      <td>0</td>\n",
       "      <td>0</td>\n",
       "      <td>0</td>\n",
       "      <td>0</td>\n",
       "      <td>0</td>\n",
       "      <td>0</td>\n",
       "      <td>0</td>\n",
       "      <td>0</td>\n",
       "      <td>0</td>\n",
       "      <td>0</td>\n",
       "      <td>0</td>\n",
       "      <td>0</td>\n",
       "      <td>0</td>\n",
       "      <td>0</td>\n",
       "      <td>0</td>\n",
       "      <td>0</td>\n",
       "      <td>0</td>\n",
       "      <td>0</td>\n",
       "      <td>0</td>\n",
       "      <td>0</td>\n",
       "      <td>0</td>\n",
       "      <td>0</td>\n",
       "      <td>0</td>\n",
       "      <td>0</td>\n",
       "      <td>0</td>\n",
       "      <td>0</td>\n",
       "      <td>0</td>\n",
       "      <td>0</td>\n",
       "      <td>0</td>\n",
       "      <td>0</td>\n",
       "      <td>0</td>\n",
       "      <td>0</td>\n",
       "      <td>0</td>\n",
       "      <td>1</td>\n",
       "      <td>0</td>\n",
       "      <td>0</td>\n",
       "      <td>0</td>\n",
       "      <td>0</td>\n",
       "      <td>0</td>\n",
       "    </tr>\n",
       "    <tr>\n",
       "      <th>2</th>\n",
       "      <td>0</td>\n",
       "      <td>1</td>\n",
       "      <td>2</td>\n",
       "      <td>-6.443574</td>\n",
       "      <td>201608</td>\n",
       "      <td>0</td>\n",
       "      <td>0</td>\n",
       "      <td>0</td>\n",
       "      <td>0</td>\n",
       "      <td>0</td>\n",
       "      <td>1</td>\n",
       "      <td>0</td>\n",
       "      <td>0</td>\n",
       "      <td>0</td>\n",
       "      <td>0</td>\n",
       "      <td>0</td>\n",
       "      <td>0</td>\n",
       "      <td>0</td>\n",
       "      <td>0</td>\n",
       "      <td>0</td>\n",
       "      <td>0</td>\n",
       "      <td>0</td>\n",
       "      <td>0</td>\n",
       "      <td>0</td>\n",
       "      <td>0</td>\n",
       "      <td>0</td>\n",
       "      <td>0</td>\n",
       "      <td>0</td>\n",
       "      <td>0</td>\n",
       "      <td>0</td>\n",
       "      <td>0</td>\n",
       "      <td>0</td>\n",
       "      <td>0</td>\n",
       "      <td>0</td>\n",
       "      <td>0</td>\n",
       "      <td>0</td>\n",
       "      <td>0</td>\n",
       "      <td>0</td>\n",
       "      <td>0</td>\n",
       "      <td>0</td>\n",
       "      <td>0</td>\n",
       "      <td>0</td>\n",
       "      <td>0</td>\n",
       "      <td>0</td>\n",
       "      <td>0</td>\n",
       "      <td>0</td>\n",
       "      <td>0</td>\n",
       "      <td>0</td>\n",
       "      <td>0</td>\n",
       "      <td>0</td>\n",
       "      <td>0</td>\n",
       "      <td>0</td>\n",
       "      <td>0</td>\n",
       "      <td>0</td>\n",
       "      <td>0</td>\n",
       "      <td>0</td>\n",
       "      <td>0</td>\n",
       "      <td>0</td>\n",
       "      <td>0</td>\n",
       "      <td>0</td>\n",
       "      <td>0</td>\n",
       "      <td>0</td>\n",
       "      <td>0</td>\n",
       "      <td>0</td>\n",
       "      <td>0</td>\n",
       "      <td>0</td>\n",
       "      <td>0</td>\n",
       "      <td>0</td>\n",
       "      <td>0</td>\n",
       "      <td>0</td>\n",
       "      <td>0</td>\n",
       "      <td>0</td>\n",
       "      <td>0</td>\n",
       "      <td>0</td>\n",
       "      <td>0</td>\n",
       "      <td>0</td>\n",
       "      <td>0</td>\n",
       "      <td>0</td>\n",
       "      <td>0</td>\n",
       "      <td>0</td>\n",
       "      <td>0</td>\n",
       "      <td>0</td>\n",
       "      <td>0</td>\n",
       "      <td>0</td>\n",
       "      <td>1</td>\n",
       "      <td>0</td>\n",
       "    </tr>\n",
       "    <tr>\n",
       "      <th>3</th>\n",
       "      <td>0</td>\n",
       "      <td>1</td>\n",
       "      <td>2</td>\n",
       "      <td>-6.857360</td>\n",
       "      <td>201612</td>\n",
       "      <td>0</td>\n",
       "      <td>0</td>\n",
       "      <td>0</td>\n",
       "      <td>0</td>\n",
       "      <td>0</td>\n",
       "      <td>0</td>\n",
       "      <td>0</td>\n",
       "      <td>0</td>\n",
       "      <td>1</td>\n",
       "      <td>0</td>\n",
       "      <td>0</td>\n",
       "      <td>0</td>\n",
       "      <td>0</td>\n",
       "      <td>0</td>\n",
       "      <td>0</td>\n",
       "      <td>0</td>\n",
       "      <td>0</td>\n",
       "      <td>0</td>\n",
       "      <td>0</td>\n",
       "      <td>0</td>\n",
       "      <td>0</td>\n",
       "      <td>0</td>\n",
       "      <td>0</td>\n",
       "      <td>0</td>\n",
       "      <td>0</td>\n",
       "      <td>0</td>\n",
       "      <td>0</td>\n",
       "      <td>0</td>\n",
       "      <td>0</td>\n",
       "      <td>0</td>\n",
       "      <td>0</td>\n",
       "      <td>0</td>\n",
       "      <td>0</td>\n",
       "      <td>0</td>\n",
       "      <td>0</td>\n",
       "      <td>0</td>\n",
       "      <td>0</td>\n",
       "      <td>0</td>\n",
       "      <td>0</td>\n",
       "      <td>0</td>\n",
       "      <td>0</td>\n",
       "      <td>0</td>\n",
       "      <td>0</td>\n",
       "      <td>0</td>\n",
       "      <td>0</td>\n",
       "      <td>0</td>\n",
       "      <td>0</td>\n",
       "      <td>0</td>\n",
       "      <td>0</td>\n",
       "      <td>0</td>\n",
       "      <td>0</td>\n",
       "      <td>0</td>\n",
       "      <td>0</td>\n",
       "      <td>0</td>\n",
       "      <td>0</td>\n",
       "      <td>0</td>\n",
       "      <td>0</td>\n",
       "      <td>0</td>\n",
       "      <td>0</td>\n",
       "      <td>0</td>\n",
       "      <td>0</td>\n",
       "      <td>0</td>\n",
       "      <td>0</td>\n",
       "      <td>0</td>\n",
       "      <td>0</td>\n",
       "      <td>0</td>\n",
       "      <td>0</td>\n",
       "      <td>0</td>\n",
       "      <td>0</td>\n",
       "      <td>0</td>\n",
       "      <td>0</td>\n",
       "      <td>0</td>\n",
       "      <td>0</td>\n",
       "      <td>0</td>\n",
       "      <td>0</td>\n",
       "      <td>0</td>\n",
       "      <td>0</td>\n",
       "      <td>0</td>\n",
       "      <td>0</td>\n",
       "      <td>1</td>\n",
       "      <td>0</td>\n",
       "    </tr>\n",
       "    <tr>\n",
       "      <th>4</th>\n",
       "      <td>0</td>\n",
       "      <td>0</td>\n",
       "      <td>3</td>\n",
       "      <td>-6.984647</td>\n",
       "      <td>202011</td>\n",
       "      <td>1</td>\n",
       "      <td>0</td>\n",
       "      <td>0</td>\n",
       "      <td>0</td>\n",
       "      <td>0</td>\n",
       "      <td>0</td>\n",
       "      <td>0</td>\n",
       "      <td>0</td>\n",
       "      <td>0</td>\n",
       "      <td>0</td>\n",
       "      <td>0</td>\n",
       "      <td>0</td>\n",
       "      <td>0</td>\n",
       "      <td>0</td>\n",
       "      <td>0</td>\n",
       "      <td>0</td>\n",
       "      <td>0</td>\n",
       "      <td>0</td>\n",
       "      <td>0</td>\n",
       "      <td>0</td>\n",
       "      <td>0</td>\n",
       "      <td>0</td>\n",
       "      <td>0</td>\n",
       "      <td>0</td>\n",
       "      <td>0</td>\n",
       "      <td>0</td>\n",
       "      <td>0</td>\n",
       "      <td>0</td>\n",
       "      <td>0</td>\n",
       "      <td>0</td>\n",
       "      <td>0</td>\n",
       "      <td>0</td>\n",
       "      <td>0</td>\n",
       "      <td>0</td>\n",
       "      <td>0</td>\n",
       "      <td>0</td>\n",
       "      <td>0</td>\n",
       "      <td>0</td>\n",
       "      <td>0</td>\n",
       "      <td>0</td>\n",
       "      <td>0</td>\n",
       "      <td>0</td>\n",
       "      <td>0</td>\n",
       "      <td>0</td>\n",
       "      <td>0</td>\n",
       "      <td>0</td>\n",
       "      <td>0</td>\n",
       "      <td>0</td>\n",
       "      <td>0</td>\n",
       "      <td>0</td>\n",
       "      <td>0</td>\n",
       "      <td>0</td>\n",
       "      <td>0</td>\n",
       "      <td>0</td>\n",
       "      <td>0</td>\n",
       "      <td>0</td>\n",
       "      <td>0</td>\n",
       "      <td>0</td>\n",
       "      <td>0</td>\n",
       "      <td>0</td>\n",
       "      <td>0</td>\n",
       "      <td>0</td>\n",
       "      <td>0</td>\n",
       "      <td>0</td>\n",
       "      <td>0</td>\n",
       "      <td>0</td>\n",
       "      <td>0</td>\n",
       "      <td>0</td>\n",
       "      <td>0</td>\n",
       "      <td>0</td>\n",
       "      <td>0</td>\n",
       "      <td>0</td>\n",
       "      <td>0</td>\n",
       "      <td>0</td>\n",
       "      <td>0</td>\n",
       "      <td>0</td>\n",
       "      <td>0</td>\n",
       "      <td>0</td>\n",
       "      <td>1</td>\n",
       "      <td>0</td>\n",
       "      <td>0</td>\n",
       "    </tr>\n",
       "  </tbody>\n",
       "</table>\n",
       "</div>"
      ],
      "text/plain": [
       "   NotFullMarketPrice  VATExclusive  PropertySizeDescription       lng  YearMonth  County_Carlow  County_Cavan  County_Clare  County_Cork  County_Donegal  County_Dublin  County_Galway  County_Kerry  County_Kildare  County_Kilkenny  County_Laois  County_Leitrim  County_Limerick  County_Longford  County_Louth  County_Mayo  County_Meath  County_Monaghan  County_Offaly  County_Roscommon  County_Sligo  County_Tipperary  County_Waterford  County_Westmeath  County_Wexford  County_Wicklow  address_types_administrative_area_level_1-political  address_types_administrative_area_level_2-political  address_types_amusement_park-establishment-park-point_of_interest-tourist_attraction  address_types_art_gallery-establishment-point_of_interest  address_types_bar-cafe-establishment-food-point_of_interest-restaurant-store  address_types_bar-establishment-food-lodging-point_of_interest-restaurant  address_types_bar-establishment-food-point_of_interest-restaurant  \\\n",
       "0                   0             0                        1 -6.378276     202107              0             0             0            0               0              1              0             0               0                0             0               0                0                0             0            0             0                0              0                 0             0                 0                 0                 0               0               0                                                    0                                                    0                                                                                     0                                                          0                                                                             0                                                                          0                                                                  0   \n",
       "1                   0             0                        2 -8.620254     201807              0             0             0            0               0              0              0             0               0                0             0               0                1                0             0            0             0                0              0                 0             0                 0                 0                 0               0               0                                                    0                                                    0                                                                                     0                                                          0                                                                             0                                                                          0                                                                  0   \n",
       "2                   0             1                        2 -6.443574     201608              0             0             0            0               0              1              0             0               0                0             0               0                0                0             0            0             0                0              0                 0             0                 0                 0                 0               0               0                                                    0                                                    0                                                                                     0                                                          0                                                                             0                                                                          0                                                                  0   \n",
       "3                   0             1                        2 -6.857360     201612              0             0             0            0               0              0              0             0               1                0             0               0                0                0             0            0             0                0              0                 0             0                 0                 0                 0               0               0                                                    0                                                    0                                                                                     0                                                          0                                                                             0                                                                          0                                                                  0   \n",
       "4                   0             0                        3 -6.984647     202011              1             0             0            0               0              0              0             0               0                0             0               0                0                0             0            0             0                0              0                 0             0                 0                 0                 0               0               0                                                    0                                                    0                                                                                     0                                                          0                                                                             0                                                                          0                                                                  0   \n",
       "\n",
       "   address_types_bus_station-establishment-point_of_interest-transit_station  address_types_cafe-establishment-food-point_of_interest  address_types_campground-establishment-lodging-park-point_of_interest  address_types_campground-establishment-lodging-park-point_of_interest-rv_park  address_types_cemetery-establishment-park-point_of_interest  address_types_church-establishment-place_of_worship-point_of_interest  address_types_clothing_store-establishment-point_of_interest-store  address_types_colloquial_area-political  address_types_department_store-establishment-point_of_interest-store  address_types_establishment-food-lodging-point_of_interest-restaurant  address_types_establishment-food-lodging-point_of_interest-restaurant-spa  address_types_establishment-food-lodging-point_of_interest-restaurant-spa-store  address_types_establishment-food-meal_delivery-meal_takeaway-point_of_interest-restaurant  address_types_establishment-food-point_of_interest-restaurant  \\\n",
       "0                                                                          0                                                        0                                                                      0                                                                              0                                                            0                                                                      0                                                                   0                                        0                                                                     0                                                                      0                                                                          0                                                                                0                                                                                          0                                                              0   \n",
       "1                                                                          0                                                        0                                                                      0                                                                              0                                                            0                                                                      0                                                                   0                                        0                                                                     0                                                                      0                                                                          0                                                                                0                                                                                          0                                                              0   \n",
       "2                                                                          0                                                        0                                                                      0                                                                              0                                                            0                                                                      0                                                                   0                                        0                                                                     0                                                                      0                                                                          0                                                                                0                                                                                          0                                                              0   \n",
       "3                                                                          0                                                        0                                                                      0                                                                              0                                                            0                                                                      0                                                                   0                                        0                                                                     0                                                                      0                                                                          0                                                                                0                                                                                          0                                                              0   \n",
       "4                                                                          0                                                        0                                                                      0                                                                              0                                                            0                                                                      0                                                                   0                                        0                                                                     0                                                                      0                                                                          0                                                                                0                                                                                          0                                                              0   \n",
       "\n",
       "   address_types_establishment-general_contractor-point_of_interest  address_types_establishment-health-hospital-point_of_interest  address_types_establishment-health-lodging-point_of_interest  address_types_establishment-health-point_of_interest  address_types_establishment-jewelry_store-point_of_interest-store  address_types_establishment-light_rail_station-point_of_interest-transit_station  address_types_establishment-local_government_office-point_of_interest  address_types_establishment-lodging-point_of_interest  address_types_establishment-lodging-point_of_interest-rv_park  address_types_establishment-lodging-point_of_interest-shopping_mall  address_types_establishment-museum-point_of_interest-tourist_attraction  address_types_establishment-natural_feature  address_types_establishment-park-point_of_interest  address_types_establishment-parking-point_of_interest  address_types_establishment-point_of_interest  address_types_establishment-point_of_interest-primary_school-school  \\\n",
       "0                                                                 0                                                              0                                                             0                                                     0                                                                  0                                                                                 0                                                                      0                                                      0                                                              0                                                                    0                                                                        0                                            0                                                   0                                                      0                                              0                                                                    0   \n",
       "1                                                                 0                                                              0                                                             0                                                     0                                                                  0                                                                                 0                                                                      0                                                      0                                                              0                                                                    0                                                                        0                                            0                                                   0                                                      0                                              0                                                                    0   \n",
       "2                                                                 0                                                              0                                                             0                                                     0                                                                  0                                                                                 0                                                                      0                                                      0                                                              0                                                                    0                                                                        0                                            0                                                   0                                                      0                                              0                                                                    0   \n",
       "3                                                                 0                                                              0                                                             0                                                     0                                                                  0                                                                                 0                                                                      0                                                      0                                                              0                                                                    0                                                                        0                                            0                                                   0                                                      0                                              0                                                                    0   \n",
       "4                                                                 0                                                              0                                                             0                                                     0                                                                  0                                                                                 0                                                                      0                                                      0                                                              0                                                                    0                                                                        0                                            0                                                   0                                                      0                                              0                                                                    0   \n",
       "\n",
       "   address_types_establishment-point_of_interest-real_estate_agency  address_types_establishment-point_of_interest-school  address_types_establishment-point_of_interest-school-university  address_types_establishment-point_of_interest-shopping_mall  address_types_establishment-point_of_interest-store  address_types_establishment-point_of_interest-tourist_attraction  address_types_establishment-point_of_interest-train_station-transit_station  address_types_establishment-point_of_interest-transit_station  address_types_establishment-premise  address_types_intersection  address_types_locality-political  address_types_neighborhood-political  address_types_political-sublocality-sublocality_level_1  address_types_postal_town  address_types_premise  address_types_route  address_types_street_address  address_types_subpremise  \n",
       "0                                                                 0                                                     0                                                                0                                                            0                                                    0                                                                 0                                                                            0                                                              0                                    0                           0                                 0                                     0                                                        0                          0                      0                    1                             0                         0  \n",
       "1                                                                 0                                                     0                                                                0                                                            0                                                    0                                                                 0                                                                            0                                                              0                                    0                           0                                 0                                     0                                                        1                          0                      0                    0                             0                         0  \n",
       "2                                                                 0                                                     0                                                                0                                                            0                                                    0                                                                 0                                                                            0                                                              0                                    0                           0                                 0                                     0                                                        0                          0                      0                    0                             1                         0  \n",
       "3                                                                 0                                                     0                                                                0                                                            0                                                    0                                                                 0                                                                            0                                                              0                                    0                           0                                 0                                     0                                                        0                          0                      0                    0                             1                         0  \n",
       "4                                                                 0                                                     0                                                                0                                                            0                                                    0                                                                 0                                                                            0                                                              0                                    0                           0                                 0                                     0                                                        0                          0                      0                    1                             0                         0  "
      ]
     },
     "execution_count": 43,
     "metadata": {},
     "output_type": "execute_result"
    }
   ],
   "source": [
    "# need to reset the index to allow contatenation with predicted values otherwise not joining on same index...\n",
    "X_train.reset_index(drop=True, inplace=True)\n",
    "y_train.reset_index(drop=True, inplace=True)\n",
    "X_test.reset_index(drop=True, inplace=True)\n",
    "y_test.reset_index(drop=True, inplace=True)\n",
    "X_train.head(5)"
   ]
  },
  {
   "cell_type": "markdown",
   "metadata": {},
   "source": [
    "The datasets are now ready for modeling"
   ]
  },
  {
   "cell_type": "markdown",
   "metadata": {},
   "source": [
    "## (2) Linear Regression Model\n",
    "#### 2.1 Train a linear regression model using only the descriptive features selected from part 1 above"
   ]
  },
  {
   "cell_type": "code",
   "execution_count": 44,
   "metadata": {},
   "outputs": [
    {
     "name": "stdout",
     "output_type": "stream",
     "text": [
      "Wall time: 106 ms\n"
     ]
    }
   ],
   "source": [
    "%%time\n",
    "# Train aka fit, a model using all continuous and categorical features.\n",
    "multiple_linreg = LinearRegression(normalize=True).fit(X_train, y_train)"
   ]
  },
  {
   "cell_type": "markdown",
   "metadata": {},
   "source": [
    "#### 2.2 Print out the coefficients learned by the model"
   ]
  },
  {
   "cell_type": "code",
   "execution_count": 45,
   "metadata": {},
   "outputs": [
    {
     "name": "stdout",
     "output_type": "stream",
     "text": [
      "\n",
      "Features are: \n",
      " Index(['NotFullMarketPrice', 'VATExclusive', 'PropertySizeDescription', 'lng', 'YearMonth', 'County_Carlow', 'County_Cavan', 'County_Clare', 'County_Cork', 'County_Donegal', 'County_Dublin', 'County_Galway', 'County_Kerry', 'County_Kildare', 'County_Kilkenny', 'County_Laois', 'County_Leitrim', 'County_Limerick', 'County_Longford', 'County_Louth', 'County_Mayo', 'County_Meath', 'County_Monaghan', 'County_Offaly', 'County_Roscommon', 'County_Sligo', 'County_Tipperary', 'County_Waterford', 'County_Westmeath', 'County_Wexford', 'County_Wicklow', 'address_types_administrative_area_level_1-political', 'address_types_administrative_area_level_2-political', 'address_types_amusement_park-establishment-park-point_of_interest-tourist_attraction', 'address_types_art_gallery-establishment-point_of_interest', 'address_types_bar-cafe-establishment-food-point_of_interest-restaurant-store', 'address_types_bar-establishment-food-lodging-point_of_interest-restaurant',\n",
      "       'address_types_bar-establishment-food-point_of_interest-restaurant', 'address_types_bus_station-establishment-point_of_interest-transit_station', 'address_types_cafe-establishment-food-point_of_interest', 'address_types_campground-establishment-lodging-park-point_of_interest', 'address_types_campground-establishment-lodging-park-point_of_interest-rv_park', 'address_types_cemetery-establishment-park-point_of_interest', 'address_types_church-establishment-place_of_worship-point_of_interest', 'address_types_clothing_store-establishment-point_of_interest-store', 'address_types_colloquial_area-political', 'address_types_department_store-establishment-point_of_interest-store', 'address_types_establishment-food-lodging-point_of_interest-restaurant', 'address_types_establishment-food-lodging-point_of_interest-restaurant-spa', 'address_types_establishment-food-lodging-point_of_interest-restaurant-spa-store',\n",
      "       'address_types_establishment-food-meal_delivery-meal_takeaway-point_of_interest-restaurant', 'address_types_establishment-food-point_of_interest-restaurant', 'address_types_establishment-general_contractor-point_of_interest', 'address_types_establishment-health-hospital-point_of_interest', 'address_types_establishment-health-lodging-point_of_interest', 'address_types_establishment-health-point_of_interest', 'address_types_establishment-jewelry_store-point_of_interest-store', 'address_types_establishment-light_rail_station-point_of_interest-transit_station', 'address_types_establishment-local_government_office-point_of_interest', 'address_types_establishment-lodging-point_of_interest', 'address_types_establishment-lodging-point_of_interest-rv_park', 'address_types_establishment-lodging-point_of_interest-shopping_mall', 'address_types_establishment-museum-point_of_interest-tourist_attraction', 'address_types_establishment-natural_feature',\n",
      "       'address_types_establishment-park-point_of_interest', 'address_types_establishment-parking-point_of_interest', 'address_types_establishment-point_of_interest', 'address_types_establishment-point_of_interest-primary_school-school', 'address_types_establishment-point_of_interest-real_estate_agency', 'address_types_establishment-point_of_interest-school', 'address_types_establishment-point_of_interest-school-university', 'address_types_establishment-point_of_interest-shopping_mall', 'address_types_establishment-point_of_interest-store', 'address_types_establishment-point_of_interest-tourist_attraction', 'address_types_establishment-point_of_interest-train_station-transit_station', 'address_types_establishment-point_of_interest-transit_station', 'address_types_establishment-premise', 'address_types_intersection', 'address_types_locality-political', 'address_types_neighborhood-political', 'address_types_political-sublocality-sublocality_level_1', 'address_types_postal_town',\n",
      "       'address_types_premise', 'address_types_route', 'address_types_street_address', 'address_types_subpremise'],\n",
      "      dtype='object')\n",
      "\n",
      "Coeficients are: \n",
      " [-1.66305595e+04  1.14733754e+04  8.66878611e+04  1.03895334e+01\n",
      "  2.32992046e+01  6.07012479e+17  6.07012479e+17  6.07012479e+17\n",
      "  6.07012479e+17  6.07012479e+17  6.07012479e+17  6.07012479e+17\n",
      "  6.07012479e+17  6.07012479e+17  6.07012479e+17  6.07012479e+17\n",
      "  6.07012479e+17  6.07012479e+17  6.07012479e+17  6.07012479e+17\n",
      "  6.07012479e+17  6.07012479e+17  6.07012479e+17  6.07012479e+17\n",
      "  6.07012479e+17  6.07012479e+17  6.07012479e+17  6.07012479e+17\n",
      "  6.07012479e+17  6.07012479e+17  6.07012479e+17 -9.28371438e+03\n",
      " -1.06456645e+03 -2.47483788e+04 -2.21873763e+04  2.23593900e+03\n",
      "  8.52913739e+03  6.39516747e+04 -2.26698456e+04  5.67377755e+18\n",
      "  3.44794157e+02  1.72811290e+03  2.26280001e+18 -8.76222772e+03\n",
      " -2.23814254e+04 -7.17744088e+04  1.28413999e+18 -5.84794510e+04\n",
      " -2.29346339e+03 -3.32101375e+04 -1.53452187e+04 -2.21510377e+04\n",
      " -8.01534658e+04 -2.57088294e+04  1.60281529e+18  1.49347039e+04\n",
      " -2.77548943e+18  3.28334914e+18 -4.88391517e+04  5.88671087e+03\n",
      "  4.15056914e+03 -2.70063978e+04 -1.25481362e+02 -1.72003881e+04\n",
      " -2.59420462e+04 -1.70253521e+04  5.10950481e+03 -3.59826015e+04\n",
      " -3.37946839e+04  2.29446192e+04  2.04816266e+04 -6.54178259e+04\n",
      "  5.43144283e+02  2.34478933e+04 -6.56053554e+02 -5.19608031e+04\n",
      " -2.68323964e+04  2.88214310e+03 -5.76407589e+03 -1.72651709e+03\n",
      " -8.01169222e+03 -2.82199706e+04 -4.87638101e+03 -3.69817450e+03\n",
      " -7.02458879e+03 -4.19633747e+03]\n",
      "\n",
      "Intercept is: \n",
      " -6.070124789670193e+17\n",
      "\n",
      "Features and coeficients: \n",
      " [('NotFullMarketPrice', -16630.55953061609), ('VATExclusive', 11473.375443491483), ('PropertySizeDescription', 86687.86110779418), ('lng', 10.38953340937746), ('YearMonth', 23.29920456623217), ('County_Carlow', 6.070124789623058e+17), ('County_Cavan', 6.0701247896229e+17), ('County_Clare', 6.070124789623112e+17), ('County_Cork', 6.070124789623276e+17), ('County_Donegal', 6.070124789623084e+17), ('County_Dublin', 6.070124789623622e+17), ('County_Galway', 6.070124789623215e+17), ('County_Kerry', 6.070124789623181e+17), ('County_Kildare', 6.070124789623305e+17), ('County_Kilkenny', 6.07012478962313e+17), ('County_Laois', 6.070124789623169e+17), ('County_Leitrim', 6.070124789623112e+17), ('County_Limerick', 6.07012478962315e+17), ('County_Longford', 6.07012478962307e+17), ('County_Louth', 6.07012478962318e+17), ('County_Mayo', 6.07012478962314e+17), ('County_Meath', 6.070124789623302e+17), ('County_Monaghan', 6.070124789623077e+17), ('County_Offaly', 6.070124789623114e+17), ('County_Roscommon', 6.070124789623167e+17), ('County_Sligo', 6.070124789623099e+17), ('County_Tipperary', 6.070124789623141e+17), ('County_Waterford', 6.070124789623151e+17), ('County_Westmeath', 6.070124789623045e+17), ('County_Wexford', 6.070124789623101e+17), ('County_Wicklow', 6.070124789623496e+17), ('address_types_administrative_area_level_1-political', -9283.714383446943), ('address_types_administrative_area_level_2-political', -1064.5664479224583), ('address_types_amusement_park-establishment-park-point_of_interest-tourist_attraction', -24748.378793975928), ('address_types_art_gallery-establishment-point_of_interest', -22187.376271145622), ('address_types_bar-cafe-establishment-food-point_of_interest-restaurant-store', 2235.938996591862), ('address_types_bar-establishment-food-lodging-point_of_interest-restaurant', 8529.137386894348), ('address_types_bar-establishment-food-point_of_interest-restaurant', 63951.67466561639), ('address_types_bus_station-establishment-point_of_interest-transit_station', -22669.84555352666), ('address_types_cafe-establishment-food-point_of_interest', 5.673777547958279e+18), ('address_types_campground-establishment-lodging-park-point_of_interest', 344.7941571467501), ('address_types_campground-establishment-lodging-park-point_of_interest-rv_park', 1728.1128993032053), ('address_types_cemetery-establishment-park-point_of_interest', 2.2628000104006036e+18), ('address_types_church-establishment-place_of_worship-point_of_interest', -8762.227720616633), ('address_types_clothing_store-establishment-point_of_interest-store', -22381.42542141782), ('address_types_colloquial_area-political', -71774.4087994387), ('address_types_department_store-establishment-point_of_interest-store', 1.2841399855304934e+18), ('address_types_establishment-food-lodging-point_of_interest-restaurant', -58479.45100000174), ('address_types_establishment-food-lodging-point_of_interest-restaurant-spa', -2293.463393779327), ('address_types_establishment-food-lodging-point_of_interest-restaurant-spa-store', -33210.137504471815), ('address_types_establishment-food-meal_delivery-meal_takeaway-point_of_interest-restaurant', -15345.218696638274), ('address_types_establishment-food-point_of_interest-restaurant', -22151.03766107074), ('address_types_establishment-general_contractor-point_of_interest', -80153.4657562444), ('address_types_establishment-health-hospital-point_of_interest', -25708.82939320627), ('address_types_establishment-health-lodging-point_of_interest', 1.6028152865006953e+18), ('address_types_establishment-health-point_of_interest', 14934.703854442032), ('address_types_establishment-jewelry_store-point_of_interest-store', -2.7754894311544576e+18), ('address_types_establishment-light_rail_station-point_of_interest-transit_station', 3.283349136774625e+18), ('address_types_establishment-local_government_office-point_of_interest', -48839.15166609494), ('address_types_establishment-lodging-point_of_interest', 5886.710868808967), ('address_types_establishment-lodging-point_of_interest-rv_park', 4150.56914028123), ('address_types_establishment-lodging-point_of_interest-shopping_mall', -27006.397803915206), ('address_types_establishment-museum-point_of_interest-tourist_attraction', -125.48136164964113), ('address_types_establishment-natural_feature', -17200.388142306885), ('address_types_establishment-park-point_of_interest', -25942.046206336592), ('address_types_establishment-parking-point_of_interest', -17025.35213057677), ('address_types_establishment-point_of_interest', 5109.504808158319), ('address_types_establishment-point_of_interest-primary_school-school', -35982.60152665443), ('address_types_establishment-point_of_interest-real_estate_agency', -33794.683928362916), ('address_types_establishment-point_of_interest-school', 22944.619162852985), ('address_types_establishment-point_of_interest-school-university', 20481.626623250246), ('address_types_establishment-point_of_interest-shopping_mall', -65417.825919283794), ('address_types_establishment-point_of_interest-store', 543.144282955062), ('address_types_establishment-point_of_interest-tourist_attraction', 23447.893279369462), ('address_types_establishment-point_of_interest-train_station-transit_station', -656.053554464459), ('address_types_establishment-point_of_interest-transit_station', -51960.803069367605), ('address_types_establishment-premise', -26832.396394011317), ('address_types_intersection', 2882.1431015888925), ('address_types_locality-political', -5764.075885722257), ('address_types_neighborhood-political', -1726.5170944216843), ('address_types_political-sublocality-sublocality_level_1', -8011.692222846765), ('address_types_postal_town', -28219.97061210177), ('address_types_premise', -4876.381013957028), ('address_types_route', -3698.174499625157), ('address_types_street_address', -7024.58878838633), ('address_types_subpremise', -4196.337465847553)]\n"
     ]
    }
   ],
   "source": [
    "# Print the weights learned for each feature.\n",
    "print(\"\\nFeatures are: \\n\", X_train.columns)\n",
    "print(\"\\nCoeficients are: \\n\", multiple_linreg.coef_)\n",
    "print(\"\\nIntercept is: \\n\", multiple_linreg.intercept_)\n",
    "print(\"\\nFeatures and coeficients: \\n\", list(zip(X_train.columns, multiple_linreg.coef_)))"
   ]
  },
  {
   "cell_type": "markdown",
   "metadata": {},
   "source": [
    "#### 2.3 Interpreting the linear regression model\n",
    "\n",
    "- Linear regression is a modeling tool that is used to make predictions based on linear relationship between the target (dependent variable) and any number of predictors (independent variables)\n",
    "    - It finds the line of best fit the describes the relationship between the target and predictors \n",
    "    - This line is calculated by minimising the overall error\n",
    "- The linear regression formula takes the following form:\n",
    "    - $target\\_feature = w_0 + w_1 * feature_1 + w_2*feature_2 + ...+ w_n*feature_n $\n",
    "    - The output of this formula will be a continuous value that can be less than 0 and higher than 1\n",
    "- We can see the calculated intercept is -6.070124789670193e+17 (w_0)\n",
    "    - This is the starting point. i.e. if all other coefficients are zero then the model result will be -6.070124789670193e+17\n",
    "    - Can be thought of as where the model line intercepts the y axis\n",
    "- We can see all the coefficients for each feature\n",
    "    - These are zipped together in a single list for ease of inspection.\n",
    "    - The sum of all the feature*coefficients + intercept will result in the model prediction  "
   ]
  },
  {
   "cell_type": "markdown",
   "metadata": {},
   "source": [
    "#### 2.4 Printing 10 predicted target features and evaluate the prediction\n",
    "- Here we will print the predicted target feature value for the first 10 training examples. \n",
    "- We will round the predicted target feature value given by the linear regression model, to get the predicted class for each example. "
   ]
  },
  {
   "cell_type": "code",
   "execution_count": 46,
   "metadata": {},
   "outputs": [
    {
     "name": "stdout",
     "output_type": "stream",
     "text": [
      "\n",
      "Predictions with multiple linear regression: \n",
      "\n",
      "       Price  Predicted\n",
      "0  100000.00   134784.0\n",
      "1  130000.00   162944.0\n",
      "2  263777.54   217984.0\n",
      "3  190308.00   186368.0\n",
      "4  275000.00   249472.0\n",
      "5   92500.00    64000.0\n",
      "6  300000.00   356736.0\n",
      "7  395000.00   387072.0\n",
      "8  156000.00   139392.0\n",
      "9  105000.00    85120.0\n"
     ]
    }
   ],
   "source": [
    "multiple_linreg_predictions_train = multiple_linreg.predict(X_train).round(2) # (multiple_linreg.predict(X_train) >= 0.5) * 1.0\n",
    "# multiple_linreg_predictions_train = multiple_linreg_predictions_train.astype('int64')\n",
    "\n",
    "print(\"\\nPredictions with multiple linear regression: \\n\")\n",
    "actual_vs_predicted_multiplelinreg = pd.concat([y_train, pd.DataFrame(multiple_linreg_predictions_train, columns=['Predicted'])], axis=1)\n",
    "print(actual_vs_predicted_multiplelinreg.head(10))"
   ]
  },
  {
   "cell_type": "code",
   "execution_count": 47,
   "metadata": {},
   "outputs": [
    {
     "name": "stdout",
     "output_type": "stream",
     "text": [
      "\n",
      "Predictions with multiple linear regression: \n",
      "\n",
      "       Price  Predicted\n",
      "0  445000.00   332160.0\n",
      "1   82000.00    63360.0\n",
      "2  190000.00   213504.0\n",
      "3   77000.00    67200.0\n",
      "4  259200.71   300160.0\n",
      "5  144000.00   176768.0\n",
      "6  255000.00   246528.0\n",
      "7  193000.00   166784.0\n",
      "8  150000.00    77952.0\n",
      "9  136000.00   153216.0\n"
     ]
    }
   ],
   "source": [
    "multiple_linreg_predictions_test = multiple_linreg.predict(X_test).round(2) # (multiple_linreg.predict(X_train) >= 0.5) * 1.0\n",
    "# multiple_linreg_predictions_test = multiple_linreg_predictions_test.astype('int64')\n",
    "\n",
    "print(\"\\nPredictions with multiple linear regression: \\n\")\n",
    "actual_vs_predicted_multiplelinreg = pd.concat([y_test, pd.DataFrame(multiple_linreg_predictions_test, columns=['Predicted'])], axis=1)\n",
    "print(actual_vs_predicted_multiplelinreg.head(10))"
   ]
  },
  {
   "cell_type": "markdown",
   "metadata": {},
   "source": [
    "#### 2.5 Evaluation metrics based on training data and test data\n",
    "- We will print the classification evaluation measures computed on the data set (e.g. Mean absolute error, R2)\n",
    "- We will discuss findings based on these measures"
   ]
  },
  {
   "cell_type": "code",
   "execution_count": 48,
   "metadata": {},
   "outputs": [],
   "source": [
    "# Some more evaluation metrics.\n",
    "def evaluate_regressor(y_true, y_pred):\n",
    "    print(\"==================== evaluate regressor =======================\")\n",
    "    print(\"Mean absolute error: \", metrics.mean_absolute_error(y_true, y_pred))\n",
    "    print(\"Mean squared error: \", metrics.mean_squared_error(y_true, y_pred))\n",
    "    print(\"R2: \", metrics.r2_score(y_true, y_pred))\n",
    "    print(\"======================================================\")"
   ]
  },
  {
   "cell_type": "code",
   "execution_count": 49,
   "metadata": {},
   "outputs": [],
   "source": [
    "def evaluate_classification(y_true, y_pred):\n",
    "    print(\"==================== evaluate regressor =======================\")\n",
    "    print(\"Accuracy: \", metrics.accuracy_score(y_true, y_pred))\n",
    "    print(\"Confusion matrix: \\n\", metrics.confusion_matrix(y_true, y_pred))\n",
    "    print(\"Classification report:\\n \", metrics.classification_report(y_true, y_pred))\n",
    "    print(\"======================================================\")"
   ]
  },
  {
   "cell_type": "code",
   "execution_count": 50,
   "metadata": {},
   "outputs": [
    {
     "name": "stdout",
     "output_type": "stream",
     "text": [
      "==================== evaluate regressor =======================\n",
      "Mean absolute error:  42375.889243964426\n",
      "Mean squared error:  3963039142.1946487\n",
      "R2:  0.7468401415353675\n",
      "======================================================\n"
     ]
    }
   ],
   "source": [
    "evaluate_regressor(y_train, multiple_linreg_predictions_train)"
   ]
  },
  {
   "cell_type": "code",
   "execution_count": 51,
   "metadata": {},
   "outputs": [
    {
     "name": "stdout",
     "output_type": "stream",
     "text": [
      "==================== evaluate regressor =======================\n",
      "Mean absolute error:  6255046831578936.0\n",
      "Mean squared error:  2.2235557996394696e+34\n",
      "R2:  -1.425806396945729e+24\n",
      "======================================================\n"
     ]
    }
   ],
   "source": [
    "evaluate_regressor(y_test, multiple_linreg_predictions_test)"
   ]
  },
  {
   "cell_type": "markdown",
   "metadata": {},
   "source": [
    "##### Interpretation of results\n",
    "- Todo \n",
    "- Negative R2 values for the test set indicate that perhaps this is nonlinear and that fitting by least squares OLS is not appropriate: https://zhuanlan.zhihu.com/p/353112893"
   ]
  },
  {
   "cell_type": "markdown",
   "metadata": {},
   "source": [
    "#### 2.6 Cross validation\n",
    "- We will now perform cross validation on the linear regression model. \n",
    "- Here we perform the same evaluation as above but multiple times\n",
    "- Each time the data is shuffled so we get a slightly different view of the data for training and testing\n",
    "- This works well for evaluating on a limited set of data\n",
    "- We will store the results in a dictionary for later use\n",
    "\n",
    "First we need to create a function to perform this cross validation. Sklearn does not provide one for linear regression. However it does for logistic and random forests models\n",
    "- Cross validation Function can be seen below"
   ]
  },
  {
   "cell_type": "code",
   "execution_count": 52,
   "metadata": {},
   "outputs": [],
   "source": [
    "def k_fold_cross_validation(model, tmp_x=X_train, tmp_y=y_train, k_fold=10, is_regress=True, col_postfix=\"\"):\n",
    "    results = {}\n",
    "    metric_list = list()\n",
    "    # Although MAE, RMSE, MSE and other indicators are always positive, but under the parameter scoring in sklearn, it is a negative number.\n",
    "    # This is because when sklearn calculates the model evaluation index, it will consider the nature of the index itself, which is an error in itself.\n",
    "    # So it is divided into a loss of the model by sklearn. In sklearn, all losses are represented by negative numbers,\n",
    "    # therefore also displayed as a negative number. The real value is actually the number with the minus sign removed.\n",
    "    if is_regress:\n",
    "        metric_list=[\"r2\", \"neg_mean_absolute_error\", ]\n",
    "    for test_metric in metric_list:\n",
    "        scores = cross_val_score(model, tmp_x, tmp_y, cv=k_fold, scoring=test_metric)\n",
    "        results[test_metric] = scores.mean()\n",
    "    \n",
    "    rst_df = pd.DataFrame.from_dict(results, orient='index', columns=[f\"{model.__class__.__name__}{col_postfix}\"])\n",
    "    print(f'Mean results from {k_fold}-fold cross validation are:')\n",
    "    # print(rst_df)\n",
    "\n",
    "    return rst_df"
   ]
  },
  {
   "cell_type": "markdown",
   "metadata": {},
   "source": [
    "Preform 10 fold cross validation using k_fold_cross_validation function\n",
    "- Results summarised below"
   ]
  },
  {
   "cell_type": "code",
   "execution_count": 53,
   "metadata": {},
   "outputs": [
    {
     "name": "stdout",
     "output_type": "stream",
     "text": [
      "Mean results from 10-fold cross validation are:\n"
     ]
    },
    {
     "data": {
      "text/html": [
       "<div>\n",
       "<style scoped>\n",
       "    .dataframe tbody tr th:only-of-type {\n",
       "        vertical-align: middle;\n",
       "    }\n",
       "\n",
       "    .dataframe tbody tr th {\n",
       "        vertical-align: top;\n",
       "    }\n",
       "\n",
       "    .dataframe thead th {\n",
       "        text-align: right;\n",
       "    }\n",
       "</style>\n",
       "<table border=\"1\" class=\"dataframe\">\n",
       "  <thead>\n",
       "    <tr style=\"text-align: right;\">\n",
       "      <th></th>\n",
       "      <th>LinearRegression</th>\n",
       "    </tr>\n",
       "  </thead>\n",
       "  <tbody>\n",
       "    <tr>\n",
       "      <th>r2</th>\n",
       "      <td>-3.663692e+24</td>\n",
       "    </tr>\n",
       "    <tr>\n",
       "      <th>neg_mean_absolute_error</th>\n",
       "      <td>-5.832197e+15</td>\n",
       "    </tr>\n",
       "  </tbody>\n",
       "</table>\n",
       "</div>"
      ],
      "text/plain": [
       "                         LinearRegression\n",
       "r2                          -3.663692e+24\n",
       "neg_mean_absolute_error     -5.832197e+15"
      ]
     },
     "execution_count": 53,
     "metadata": {},
     "output_type": "execute_result"
    }
   ],
   "source": [
    "line_all_score_df = k_fold_cross_validation(model=multiple_linreg, tmp_x=X, tmp_y=y)\n",
    "line_all_score_df"
   ]
  },
  {
   "cell_type": "code",
   "execution_count": 54,
   "metadata": {},
   "outputs": [
    {
     "name": "stdout",
     "output_type": "stream",
     "text": [
      "Mean results from 10-fold cross validation are:\n"
     ]
    },
    {
     "data": {
      "text/html": [
       "<div>\n",
       "<style scoped>\n",
       "    .dataframe tbody tr th:only-of-type {\n",
       "        vertical-align: middle;\n",
       "    }\n",
       "\n",
       "    .dataframe tbody tr th {\n",
       "        vertical-align: top;\n",
       "    }\n",
       "\n",
       "    .dataframe thead th {\n",
       "        text-align: right;\n",
       "    }\n",
       "</style>\n",
       "<table border=\"1\" class=\"dataframe\">\n",
       "  <thead>\n",
       "    <tr style=\"text-align: right;\">\n",
       "      <th></th>\n",
       "      <th>LinearRegression</th>\n",
       "    </tr>\n",
       "  </thead>\n",
       "  <tbody>\n",
       "    <tr>\n",
       "      <th>r2</th>\n",
       "      <td>-1.030822e+26</td>\n",
       "    </tr>\n",
       "    <tr>\n",
       "      <th>neg_mean_absolute_error</th>\n",
       "      <td>-3.329219e+16</td>\n",
       "    </tr>\n",
       "  </tbody>\n",
       "</table>\n",
       "</div>"
      ],
      "text/plain": [
       "                         LinearRegression\n",
       "r2                          -1.030822e+26\n",
       "neg_mean_absolute_error     -3.329219e+16"
      ]
     },
     "execution_count": 54,
     "metadata": {},
     "output_type": "execute_result"
    }
   ],
   "source": [
    "line_train_score_df = k_fold_cross_validation(model=multiple_linreg, tmp_x=X_train, tmp_y=y_train)\n",
    "line_train_score_df"
   ]
  },
  {
   "cell_type": "code",
   "execution_count": 55,
   "metadata": {},
   "outputs": [
    {
     "name": "stdout",
     "output_type": "stream",
     "text": [
      "Mean results from 10-fold cross validation are:\n"
     ]
    },
    {
     "data": {
      "text/html": [
       "<div>\n",
       "<style scoped>\n",
       "    .dataframe tbody tr th:only-of-type {\n",
       "        vertical-align: middle;\n",
       "    }\n",
       "\n",
       "    .dataframe tbody tr th {\n",
       "        vertical-align: top;\n",
       "    }\n",
       "\n",
       "    .dataframe thead th {\n",
       "        text-align: right;\n",
       "    }\n",
       "</style>\n",
       "<table border=\"1\" class=\"dataframe\">\n",
       "  <thead>\n",
       "    <tr style=\"text-align: right;\">\n",
       "      <th></th>\n",
       "      <th>LinearRegression</th>\n",
       "    </tr>\n",
       "  </thead>\n",
       "  <tbody>\n",
       "    <tr>\n",
       "      <th>r2</th>\n",
       "      <td>-1.063522e+24</td>\n",
       "    </tr>\n",
       "    <tr>\n",
       "      <th>neg_mean_absolute_error</th>\n",
       "      <td>-6.195213e+15</td>\n",
       "    </tr>\n",
       "  </tbody>\n",
       "</table>\n",
       "</div>"
      ],
      "text/plain": [
       "                         LinearRegression\n",
       "r2                          -1.063522e+24\n",
       "neg_mean_absolute_error     -6.195213e+15"
      ]
     },
     "execution_count": 55,
     "metadata": {},
     "output_type": "execute_result"
    }
   ],
   "source": [
    "line_test_score_df = k_fold_cross_validation(model=multiple_linreg, tmp_x=X_test, tmp_y=y_test)\n",
    "line_test_score_df"
   ]
  },
  {
   "cell_type": "markdown",
   "metadata": {},
   "source": [
    "#### Results Findings and Interpretation：\n",
    "- Conclusion: Here the linear regression model is overfitting too much and hence the training score is much higher than the test score. depends on the data.\n",
    "- Findings: The score for the training set using metrics.r2_score is 0.747, while the score for the test set is -1.425806396945729e+24. And the score for the training set using k-fold cross-validation is similar to the score for the test set, both are very low.\n",
    "- Explanation: The k-fold cross-validation approach is more reasonable，in the cross_val_score the scores returned are calculated on the test data of each fold and then averaged. In the \"metrics.r2_score\" part, calculating the scores on the training data, which in most cases will have higher value, because the model has been trained on that data."
   ]
  },
  {
   "cell_type": "markdown",
   "metadata": {},
   "source": [
    "## (3) Decision tree Model"
   ]
  },
  {
   "cell_type": "markdown",
   "metadata": {},
   "source": [
    "####  3.1.1  Train Decision tree\n",
    "We will train 2 decision trees, with the same test data \n",
    "- One with max_depth=3 and the other max_depth=6\n",
    "- Max depth determines how deep a decision tree can go before it must give an answer"
   ]
  },
  {
   "cell_type": "code",
   "execution_count": 56,
   "metadata": {},
   "outputs": [],
   "source": [
    "dtr3 = DecisionTreeRegressor(max_depth=3, random_state=1, criterion=\"squared_error\")\n",
    "dtr6 = DecisionTreeRegressor(max_depth=6, random_state=1, criterion=\"squared_error\")"
   ]
  },
  {
   "cell_type": "markdown",
   "metadata": {},
   "source": [
    "##### for regression models, encapsulate the training, prediction and evaluation methods, and print the evaluation results"
   ]
  },
  {
   "cell_type": "code",
   "execution_count": 57,
   "metadata": {},
   "outputs": [],
   "source": [
    "from sklearn.model_selection import GridSearchCV\n",
    "\n",
    "def get_important_feat(model):\n",
    "    \n",
    "    feature_importances = model.best_estimator_.feature_importances_ if hasattr(model, \"best_estimator_\") else model.feature_importances_\n",
    "\n",
    "    importance = pd.DataFrame({'feature': X_train.columns, 'importance': feature_importances})\n",
    "    print(\"important features : \\r\\n\", importance.sort_values('importance', ascending=False).head(50))\n",
    "    "
   ]
  },
  {
   "cell_type": "code",
   "execution_count": 58,
   "metadata": {},
   "outputs": [],
   "source": [
    "def reg_fit_pred_and_evaluate(model, evaluate_test_set=True):\n",
    "    \"\"\"\n",
    "    reg fit predict and evaluate\n",
    "    @param evaluate_test_set: True, evaluate test set. False, evaluate training set\n",
    "    \"\"\"\n",
    "    model.fit(X_train, y_train)\n",
    "    if evaluate_test_set:\n",
    "        y_pred = model.predict(X_test)\n",
    "        print(\"R2 Score on test set: {}\".format(metrics.r2_score(y_test, y_pred)))\n",
    "    else:\n",
    "        y_pred = model.predict(X_train)\n",
    "        print(\"R2 Score on training data: {}\".format(metrics.r2_score(y_train, y_pred)))\n",
    "\n",
    "    params_info = model.best_params_ if hasattr(model, \"best_params_\") else None\n",
    "    if params_info:\n",
    "        print(\"model best param: \", params_info, \n",
    "          \"\\r\\nbest score = \", model.best_score_, \"\\r\\ntrain score = \", model.score(X_train, y_train), \"\\r\\ntest score = \", model.score(X_test, y_test))\n",
    "\n",
    "    get_important_feat(model)\n",
    "\n",
    "    # plt.title(f'ROC curve for Model ({params_info})')\n",
    "    # plt.xlabel(\"False Positive Rate\")\n",
    "    # plt.ylabel('True Positive Rate')\n",
    "    # plt.show()\n",
    "\n",
    "    return y_pred"
   ]
  },
  {
   "cell_type": "code",
   "execution_count": 59,
   "metadata": {},
   "outputs": [],
   "source": [
    "def print_predictions_head10(y_true, y_pred):\n",
    "    print(\"\\nPredictions head 10: \\n\")\n",
    "    actual_vs_predicted = pd.concat([y_true, pd.DataFrame(y_pred, columns=['Predicted'])], axis=1)\n",
    "    print(actual_vs_predicted.head(10))"
   ]
  },
  {
   "cell_type": "code",
   "execution_count": 60,
   "metadata": {},
   "outputs": [
    {
     "name": "stdout",
     "output_type": "stream",
     "text": [
      "R2 Score on test set: 0.7639511414975342\n",
      "important features : \n",
      "                                                                                       feature  importance\n",
      "2                                                                     PropertySizeDescription    0.951735\n",
      "4                                                                                   YearMonth    0.022418\n",
      "1                                                                                VATExclusive    0.021573\n",
      "3                                                                                         lng    0.004275\n",
      "0                                                                          NotFullMarketPrice    0.000000\n",
      "55                                       address_types_establishment-health-point_of_interest    0.000000\n",
      "63                                                address_types_establishment-natural_feature    0.000000\n",
      "62                    address_types_establishment-museum-point_of_interest-tourist_attraction    0.000000\n",
      "61                        address_types_establishment-lodging-point_of_interest-shopping_mall    0.000000\n",
      "60                              address_types_establishment-lodging-point_of_interest-rv_park    0.000000\n",
      "59                                      address_types_establishment-lodging-point_of_interest    0.000000\n",
      "58                      address_types_establishment-local_government_office-point_of_interest    0.000000\n",
      "57           address_types_establishment-light_rail_station-point_of_interest-transit_station    0.000000\n",
      "56                          address_types_establishment-jewelry_store-point_of_interest-store    0.000000\n",
      "53                              address_types_establishment-health-hospital-point_of_interest    0.000000\n",
      "54                               address_types_establishment-health-lodging-point_of_interest    0.000000\n",
      "65                                      address_types_establishment-parking-point_of_interest    0.000000\n",
      "52                           address_types_establishment-general_contractor-point_of_interest    0.000000\n",
      "51                              address_types_establishment-food-point_of_interest-restaurant    0.000000\n",
      "50  address_types_establishment-food-meal_delivery-meal_takeaway-point_of_interest-restaurant    0.000000\n",
      "49            address_types_establishment-food-lodging-point_of_interest-restaurant-spa-store    0.000000\n",
      "48                  address_types_establishment-food-lodging-point_of_interest-restaurant-spa    0.000000\n",
      "47                      address_types_establishment-food-lodging-point_of_interest-restaurant    0.000000\n",
      "64                                         address_types_establishment-park-point_of_interest    0.000000\n",
      "67                        address_types_establishment-point_of_interest-primary_school-school    0.000000\n",
      "66                                              address_types_establishment-point_of_interest    0.000000\n",
      "45                                                    address_types_colloquial_area-political    0.000000\n",
      "84                                                               address_types_street_address    0.000000\n",
      "83                                                                        address_types_route    0.000000\n",
      "82                                                                      address_types_premise    0.000000\n",
      "81                                                                  address_types_postal_town    0.000000\n",
      "80                                    address_types_political-sublocality-sublocality_level_1    0.000000\n",
      "79                                                       address_types_neighborhood-political    0.000000\n",
      "78                                                           address_types_locality-political    0.000000\n",
      "77                                                                 address_types_intersection    0.000000\n",
      "76                                                        address_types_establishment-premise    0.000000\n",
      "75                              address_types_establishment-point_of_interest-transit_station    0.000000\n",
      "74                address_types_establishment-point_of_interest-train_station-transit_station    0.000000\n",
      "73                           address_types_establishment-point_of_interest-tourist_attraction    0.000000\n",
      "72                                        address_types_establishment-point_of_interest-store    0.000000\n",
      "71                                address_types_establishment-point_of_interest-shopping_mall    0.000000\n",
      "70                            address_types_establishment-point_of_interest-school-university    0.000000\n",
      "69                                       address_types_establishment-point_of_interest-school    0.000000\n",
      "68                           address_types_establishment-point_of_interest-real_estate_agency    0.000000\n",
      "46                       address_types_department_store-establishment-point_of_interest-store    0.000000\n",
      "43                      address_types_church-establishment-place_of_worship-point_of_interest    0.000000\n",
      "44                         address_types_clothing_store-establishment-point_of_interest-store    0.000000\n",
      "42                                address_types_cemetery-establishment-park-point_of_interest    0.000000\n",
      "21                                                                               County_Meath    0.000000\n",
      "20                                                                                County_Mayo    0.000000\n"
     ]
    }
   ],
   "source": [
    "dtr3_predictions_test = reg_fit_pred_and_evaluate(dtr3)"
   ]
  },
  {
   "cell_type": "code",
   "execution_count": 61,
   "metadata": {},
   "outputs": [
    {
     "name": "stdout",
     "output_type": "stream",
     "text": [
      "R2 Score on training data: 0.8307255611617085\n",
      "important features : \n",
      "                                                                              feature  importance\n",
      "2                                                            PropertySizeDescription    0.883214\n",
      "4                                                                          YearMonth    0.037560\n",
      "1                                                                       VATExclusive    0.035013\n",
      "3                                                                                lng    0.018828\n",
      "10                                                                     County_Dublin    0.018474\n",
      "29                                                                    County_Wexford    0.001417\n",
      "84                                                      address_types_street_address    0.001362\n",
      "8                                                                        County_Cork    0.001212\n",
      "0                                                                 NotFullMarketPrice    0.000610\n",
      "9                                                                     County_Donegal    0.000556\n",
      "82                                                             address_types_premise    0.000546\n",
      "13                                                                    County_Kildare    0.000533\n",
      "83                                                               address_types_route    0.000348\n",
      "85                                                          address_types_subpremise    0.000249\n",
      "79                                              address_types_neighborhood-political    0.000047\n",
      "26                                                                  County_Tipperary    0.000031\n",
      "14                                                                   County_Kilkenny    0.000000\n",
      "60                     address_types_establishment-lodging-point_of_interest-rv_park    0.000000\n",
      "66                                     address_types_establishment-point_of_interest    0.000000\n",
      "65                             address_types_establishment-parking-point_of_interest    0.000000\n",
      "64                                address_types_establishment-park-point_of_interest    0.000000\n",
      "63                                       address_types_establishment-natural_feature    0.000000\n",
      "62           address_types_establishment-museum-point_of_interest-tourist_attraction    0.000000\n",
      "61               address_types_establishment-lodging-point_of_interest-shopping_mall    0.000000\n",
      "59                             address_types_establishment-lodging-point_of_interest    0.000000\n",
      "68                  address_types_establishment-point_of_interest-real_estate_agency    0.000000\n",
      "58             address_types_establishment-local_government_office-point_of_interest    0.000000\n",
      "57  address_types_establishment-light_rail_station-point_of_interest-transit_station    0.000000\n",
      "56                 address_types_establishment-jewelry_store-point_of_interest-store    0.000000\n",
      "55                              address_types_establishment-health-point_of_interest    0.000000\n",
      "54                      address_types_establishment-health-lodging-point_of_interest    0.000000\n",
      "53                     address_types_establishment-health-hospital-point_of_interest    0.000000\n",
      "67               address_types_establishment-point_of_interest-primary_school-school    0.000000\n",
      "69                              address_types_establishment-point_of_interest-school    0.000000\n",
      "51                     address_types_establishment-food-point_of_interest-restaurant    0.000000\n",
      "70                   address_types_establishment-point_of_interest-school-university    0.000000\n",
      "71                       address_types_establishment-point_of_interest-shopping_mall    0.000000\n",
      "72                               address_types_establishment-point_of_interest-store    0.000000\n",
      "73                  address_types_establishment-point_of_interest-tourist_attraction    0.000000\n",
      "74       address_types_establishment-point_of_interest-train_station-transit_station    0.000000\n",
      "75                     address_types_establishment-point_of_interest-transit_station    0.000000\n",
      "76                                               address_types_establishment-premise    0.000000\n",
      "77                                                        address_types_intersection    0.000000\n",
      "78                                                  address_types_locality-political    0.000000\n",
      "80                           address_types_political-sublocality-sublocality_level_1    0.000000\n",
      "81                                                         address_types_postal_town    0.000000\n",
      "7                                                                       County_Clare    0.000000\n",
      "6                                                                       County_Cavan    0.000000\n",
      "5                                                                      County_Carlow    0.000000\n",
      "52                  address_types_establishment-general_contractor-point_of_interest    0.000000\n"
     ]
    }
   ],
   "source": [
    "dtr6_predictions_train = reg_fit_pred_and_evaluate(dtr6, evaluate_test_set=False)"
   ]
  },
  {
   "cell_type": "code",
   "execution_count": 62,
   "metadata": {},
   "outputs": [
    {
     "name": "stdout",
     "output_type": "stream",
     "text": [
      "R2 Score on test set: 0.8089209200095123\n",
      "important features : \n",
      "                                                                              feature  importance\n",
      "2                                                            PropertySizeDescription    0.883214\n",
      "4                                                                          YearMonth    0.037560\n",
      "1                                                                       VATExclusive    0.035013\n",
      "3                                                                                lng    0.018828\n",
      "10                                                                     County_Dublin    0.018474\n",
      "29                                                                    County_Wexford    0.001417\n",
      "84                                                      address_types_street_address    0.001362\n",
      "8                                                                        County_Cork    0.001212\n",
      "0                                                                 NotFullMarketPrice    0.000610\n",
      "9                                                                     County_Donegal    0.000556\n",
      "82                                                             address_types_premise    0.000546\n",
      "13                                                                    County_Kildare    0.000533\n",
      "83                                                               address_types_route    0.000348\n",
      "85                                                          address_types_subpremise    0.000249\n",
      "79                                              address_types_neighborhood-political    0.000047\n",
      "26                                                                  County_Tipperary    0.000031\n",
      "14                                                                   County_Kilkenny    0.000000\n",
      "60                     address_types_establishment-lodging-point_of_interest-rv_park    0.000000\n",
      "66                                     address_types_establishment-point_of_interest    0.000000\n",
      "65                             address_types_establishment-parking-point_of_interest    0.000000\n",
      "64                                address_types_establishment-park-point_of_interest    0.000000\n",
      "63                                       address_types_establishment-natural_feature    0.000000\n",
      "62           address_types_establishment-museum-point_of_interest-tourist_attraction    0.000000\n",
      "61               address_types_establishment-lodging-point_of_interest-shopping_mall    0.000000\n",
      "59                             address_types_establishment-lodging-point_of_interest    0.000000\n",
      "68                  address_types_establishment-point_of_interest-real_estate_agency    0.000000\n",
      "58             address_types_establishment-local_government_office-point_of_interest    0.000000\n",
      "57  address_types_establishment-light_rail_station-point_of_interest-transit_station    0.000000\n",
      "56                 address_types_establishment-jewelry_store-point_of_interest-store    0.000000\n",
      "55                              address_types_establishment-health-point_of_interest    0.000000\n",
      "54                      address_types_establishment-health-lodging-point_of_interest    0.000000\n",
      "53                     address_types_establishment-health-hospital-point_of_interest    0.000000\n",
      "67               address_types_establishment-point_of_interest-primary_school-school    0.000000\n",
      "69                              address_types_establishment-point_of_interest-school    0.000000\n",
      "51                     address_types_establishment-food-point_of_interest-restaurant    0.000000\n",
      "70                   address_types_establishment-point_of_interest-school-university    0.000000\n",
      "71                       address_types_establishment-point_of_interest-shopping_mall    0.000000\n",
      "72                               address_types_establishment-point_of_interest-store    0.000000\n",
      "73                  address_types_establishment-point_of_interest-tourist_attraction    0.000000\n",
      "74       address_types_establishment-point_of_interest-train_station-transit_station    0.000000\n",
      "75                     address_types_establishment-point_of_interest-transit_station    0.000000\n",
      "76                                               address_types_establishment-premise    0.000000\n",
      "77                                                        address_types_intersection    0.000000\n",
      "78                                                  address_types_locality-political    0.000000\n",
      "80                           address_types_political-sublocality-sublocality_level_1    0.000000\n",
      "81                                                         address_types_postal_town    0.000000\n",
      "7                                                                       County_Clare    0.000000\n",
      "6                                                                       County_Cavan    0.000000\n",
      "5                                                                      County_Carlow    0.000000\n",
      "52                  address_types_establishment-general_contractor-point_of_interest    0.000000\n"
     ]
    }
   ],
   "source": [
    "dtr6_predictions_test = reg_fit_pred_and_evaluate(dtr6, evaluate_test_set=True)"
   ]
  },
  {
   "cell_type": "markdown",
   "metadata": {},
   "source": [
    "####  3.2  Display Decision tree and interpret the result\n",
    "We will create graph of each tree and store as an image"
   ]
  },
  {
   "cell_type": "code",
   "execution_count": 63,
   "metadata": {},
   "outputs": [],
   "source": [
    "def export_clf_dot(dt_clf, max_depth):\n",
    "    dot_file_name = f\"visualization/clf/decisiontree_max_depth{max_depth}.dot\"\n",
    "    with open(dot_file_name, 'w') as f1:\n",
    "        export_graphviz(dt_clf, out_file=dot_file_name, feature_names=X_train.columns.to_list(), class_names=[\"1\", \"2\", \"3\", \"4\"], rounded=True, filled=True)\n",
    "        \n",
    "def export_reg_dot(dt_reg, max_depth):\n",
    "    dot_file_name = f\"visualization/reg/decisiontree_max_depth{max_depth}.dot\"\n",
    "    with open(dot_file_name, 'w') as f1:\n",
    "        export_graphviz(dt_reg, out_file=dot_file_name, feature_names=X_train.columns.to_list(), rounded=True, filled=True)"
   ]
  },
  {
   "cell_type": "code",
   "execution_count": 64,
   "metadata": {},
   "outputs": [],
   "source": [
    "# create a Graphviz png\n",
    "export_reg_dot(dtr3, 3)\n",
    "export_reg_dot(dtr6, 6)"
   ]
  },
  {
   "cell_type": "code",
   "execution_count": 65,
   "metadata": {},
   "outputs": [],
   "source": [
    "! dot -Tpng visualization/reg/decisiontree_max_depth3.dot -o visualization/reg/DecisionTree3.png\n",
    "! dot -Tpng visualization/reg/decisiontree_max_depth6.dot -o visualization/reg/DecisionTree6.png"
   ]
  },
  {
   "cell_type": "markdown",
   "metadata": {},
   "source": [
    "We can see below the decision tree with max_depth=3\n",
    "- We can see the root is Property Size description at value 3.5 - This splits the data best i.e. has the highest information gain\n",
    "- For each split the the model selects the next best feature\n",
    "- This continues until it reaches a leaf node where the data cannot be split anymore\n",
    "- The output of this is the prediction\n",
    "- For example:\n",
    "    - PropertySizedescription = 1 (<= 1.5, smallest) -> VATExclusive = 0 (<= 0.5, second hand) -> Price = 85467.688 (cheap)"
   ]
  },
  {
   "cell_type": "markdown",
   "metadata": {},
   "source": [
    "![](visualization/reg/DecisionTree3.png)"
   ]
  },
  {
   "cell_type": "code",
   "execution_count": 66,
   "metadata": {},
   "outputs": [
    {
     "data": {
      "text/html": [
       "<div>\n",
       "<style scoped>\n",
       "    .dataframe tbody tr th:only-of-type {\n",
       "        vertical-align: middle;\n",
       "    }\n",
       "\n",
       "    .dataframe tbody tr th {\n",
       "        vertical-align: top;\n",
       "    }\n",
       "\n",
       "    .dataframe thead th {\n",
       "        text-align: right;\n",
       "    }\n",
       "</style>\n",
       "<table border=\"1\" class=\"dataframe\">\n",
       "  <thead>\n",
       "    <tr style=\"text-align: right;\">\n",
       "      <th></th>\n",
       "      <th>feature</th>\n",
       "      <th>importance</th>\n",
       "    </tr>\n",
       "  </thead>\n",
       "  <tbody>\n",
       "    <tr>\n",
       "      <th>2</th>\n",
       "      <td>PropertySizeDescription</td>\n",
       "      <td>0.883214</td>\n",
       "    </tr>\n",
       "    <tr>\n",
       "      <th>4</th>\n",
       "      <td>YearMonth</td>\n",
       "      <td>0.037560</td>\n",
       "    </tr>\n",
       "    <tr>\n",
       "      <th>1</th>\n",
       "      <td>VATExclusive</td>\n",
       "      <td>0.035013</td>\n",
       "    </tr>\n",
       "    <tr>\n",
       "      <th>3</th>\n",
       "      <td>lng</td>\n",
       "      <td>0.018828</td>\n",
       "    </tr>\n",
       "    <tr>\n",
       "      <th>10</th>\n",
       "      <td>County_Dublin</td>\n",
       "      <td>0.018474</td>\n",
       "    </tr>\n",
       "    <tr>\n",
       "      <th>...</th>\n",
       "      <td>...</td>\n",
       "      <td>...</td>\n",
       "    </tr>\n",
       "    <tr>\n",
       "      <th>38</th>\n",
       "      <td>address_types_bus_station-establishment-point_of_interest-transit_station</td>\n",
       "      <td>0.000000</td>\n",
       "    </tr>\n",
       "    <tr>\n",
       "      <th>37</th>\n",
       "      <td>address_types_bar-establishment-food-point_of_interest-restaurant</td>\n",
       "      <td>0.000000</td>\n",
       "    </tr>\n",
       "    <tr>\n",
       "      <th>36</th>\n",
       "      <td>address_types_bar-establishment-food-lodging-point_of_interest-restaurant</td>\n",
       "      <td>0.000000</td>\n",
       "    </tr>\n",
       "    <tr>\n",
       "      <th>35</th>\n",
       "      <td>address_types_bar-cafe-establishment-food-point_of_interest-restaurant-store</td>\n",
       "      <td>0.000000</td>\n",
       "    </tr>\n",
       "    <tr>\n",
       "      <th>43</th>\n",
       "      <td>address_types_church-establishment-place_of_worship-point_of_interest</td>\n",
       "      <td>0.000000</td>\n",
       "    </tr>\n",
       "  </tbody>\n",
       "</table>\n",
       "<p>86 rows × 2 columns</p>\n",
       "</div>"
      ],
      "text/plain": [
       "                                                                         feature  importance\n",
       "2                                                        PropertySizeDescription    0.883214\n",
       "4                                                                      YearMonth    0.037560\n",
       "1                                                                   VATExclusive    0.035013\n",
       "3                                                                            lng    0.018828\n",
       "10                                                                 County_Dublin    0.018474\n",
       "..                                                                           ...         ...\n",
       "38     address_types_bus_station-establishment-point_of_interest-transit_station    0.000000\n",
       "37             address_types_bar-establishment-food-point_of_interest-restaurant    0.000000\n",
       "36     address_types_bar-establishment-food-lodging-point_of_interest-restaurant    0.000000\n",
       "35  address_types_bar-cafe-establishment-food-point_of_interest-restaurant-store    0.000000\n",
       "43         address_types_church-establishment-place_of_worship-point_of_interest    0.000000\n",
       "\n",
       "[86 rows x 2 columns]"
      ]
     },
     "execution_count": 66,
     "metadata": {},
     "output_type": "execute_result"
    }
   ],
   "source": [
    "importance = pd.DataFrame({'feature': X_train.columns, 'importance': dtr6.feature_importances_})\n",
    "importance.sort_values('importance', ascending=False)"
   ]
  },
  {
   "cell_type": "markdown",
   "metadata": {},
   "source": [
    "We can see from the list above that:\n",
    "- 1.Whether a house is in Dublin will affect house prices, it's easy to understand, Dublin is the capital of Ireland and houses are generally more expensive there.\n",
    "- 2.many of the features provide little to no information gain. It is interesting to note that the categorical features are the worst preforming features, especially address_type"
   ]
  },
  {
   "cell_type": "markdown",
   "metadata": {},
   "source": [
    "#### 3.3 Printing 10 predicted target features and evaluate the prediction \n",
    "- Here we will print the predicted target feature value for the first 10 training examples. "
   ]
  },
  {
   "cell_type": "code",
   "execution_count": 67,
   "metadata": {},
   "outputs": [
    {
     "name": "stdout",
     "output_type": "stream",
     "text": [
      "\n",
      "Predictions head 10: \n",
      "\n",
      "       Price      Predicted\n",
      "0  100000.00   96198.520000\n",
      "1  130000.00  158622.813300\n",
      "2  263777.54  309394.199921\n",
      "3  190308.00  160182.711168\n",
      "4  275000.00  244317.457500\n",
      "5   92500.00   87161.199427\n",
      "6  300000.00  361661.933333\n",
      "7  395000.00  419635.871770\n",
      "8  156000.00  158622.813300\n",
      "9  105000.00   81056.661327\n"
     ]
    }
   ],
   "source": [
    "print_predictions_head10(y_true=y_train, y_pred=dtr6_predictions_train)"
   ]
  },
  {
   "cell_type": "markdown",
   "metadata": {},
   "source": [
    "#### 3.4 Evaluation metrics based on training data and test set\n",
    "- We will print the evaluation measures computed on the training set\n",
    "- We will discuss finding based on these measures"
   ]
  },
  {
   "cell_type": "code",
   "execution_count": 68,
   "metadata": {},
   "outputs": [
    {
     "name": "stdout",
     "output_type": "stream",
     "text": [
      "==================== evaluate regressor =======================\n",
      "Mean absolute error:  35070.30641064579\n",
      "Mean squared error:  2649872025.358643\n",
      "R2:  0.8307255611617085\n",
      "======================================================\n"
     ]
    }
   ],
   "source": [
    "evaluate_regressor(y_train, dtr6_predictions_train)"
   ]
  },
  {
   "cell_type": "code",
   "execution_count": 69,
   "metadata": {},
   "outputs": [
    {
     "name": "stdout",
     "output_type": "stream",
     "text": [
      "==================== evaluate regressor =======================\n",
      "Mean absolute error:  36396.75231814465\n",
      "Mean squared error:  2979892623.660288\n",
      "R2:  0.8089209200095123\n",
      "======================================================\n"
     ]
    }
   ],
   "source": [
    "evaluate_regressor(y_test, dtr6_predictions_test)"
   ]
  },
  {
   "cell_type": "markdown",
   "metadata": {},
   "source": [
    "#### k-fold cross validation on original X, y, and training data and test set"
   ]
  },
  {
   "cell_type": "code",
   "execution_count": 70,
   "metadata": {},
   "outputs": [
    {
     "name": "stdout",
     "output_type": "stream",
     "text": [
      "Mean results from 10-fold cross validation are:\n"
     ]
    },
    {
     "data": {
      "text/html": [
       "<div>\n",
       "<style scoped>\n",
       "    .dataframe tbody tr th:only-of-type {\n",
       "        vertical-align: middle;\n",
       "    }\n",
       "\n",
       "    .dataframe tbody tr th {\n",
       "        vertical-align: top;\n",
       "    }\n",
       "\n",
       "    .dataframe thead th {\n",
       "        text-align: right;\n",
       "    }\n",
       "</style>\n",
       "<table border=\"1\" class=\"dataframe\">\n",
       "  <thead>\n",
       "    <tr style=\"text-align: right;\">\n",
       "      <th></th>\n",
       "      <th>DecisionTreeRegressor</th>\n",
       "    </tr>\n",
       "  </thead>\n",
       "  <tbody>\n",
       "    <tr>\n",
       "      <th>r2</th>\n",
       "      <td>0.807935</td>\n",
       "    </tr>\n",
       "    <tr>\n",
       "      <th>neg_mean_absolute_error</th>\n",
       "      <td>-36924.251481</td>\n",
       "    </tr>\n",
       "  </tbody>\n",
       "</table>\n",
       "</div>"
      ],
      "text/plain": [
       "                         DecisionTreeRegressor\n",
       "r2                                    0.807935\n",
       "neg_mean_absolute_error          -36924.251481"
      ]
     },
     "execution_count": 70,
     "metadata": {},
     "output_type": "execute_result"
    }
   ],
   "source": [
    "dtr6_all_score_df = k_fold_cross_validation(dtr6, X, y)\n",
    "dtr6_all_score_df"
   ]
  },
  {
   "cell_type": "code",
   "execution_count": 71,
   "metadata": {},
   "outputs": [
    {
     "name": "stdout",
     "output_type": "stream",
     "text": [
      "Mean results from 10-fold cross validation are:\n"
     ]
    },
    {
     "data": {
      "text/html": [
       "<div>\n",
       "<style scoped>\n",
       "    .dataframe tbody tr th:only-of-type {\n",
       "        vertical-align: middle;\n",
       "    }\n",
       "\n",
       "    .dataframe tbody tr th {\n",
       "        vertical-align: top;\n",
       "    }\n",
       "\n",
       "    .dataframe thead th {\n",
       "        text-align: right;\n",
       "    }\n",
       "</style>\n",
       "<table border=\"1\" class=\"dataframe\">\n",
       "  <thead>\n",
       "    <tr style=\"text-align: right;\">\n",
       "      <th></th>\n",
       "      <th>DecisionTreeRegressor</th>\n",
       "    </tr>\n",
       "  </thead>\n",
       "  <tbody>\n",
       "    <tr>\n",
       "      <th>r2</th>\n",
       "      <td>0.798435</td>\n",
       "    </tr>\n",
       "    <tr>\n",
       "      <th>neg_mean_absolute_error</th>\n",
       "      <td>-37409.077573</td>\n",
       "    </tr>\n",
       "  </tbody>\n",
       "</table>\n",
       "</div>"
      ],
      "text/plain": [
       "                         DecisionTreeRegressor\n",
       "r2                                    0.798435\n",
       "neg_mean_absolute_error          -37409.077573"
      ]
     },
     "execution_count": 71,
     "metadata": {},
     "output_type": "execute_result"
    }
   ],
   "source": [
    "dtr6_train_score_df = k_fold_cross_validation(dtr6, X_train, y_train)\n",
    "dtr6_train_score_df"
   ]
  },
  {
   "cell_type": "code",
   "execution_count": 72,
   "metadata": {},
   "outputs": [
    {
     "name": "stdout",
     "output_type": "stream",
     "text": [
      "Mean results from 10-fold cross validation are:\n"
     ]
    },
    {
     "data": {
      "text/html": [
       "<div>\n",
       "<style scoped>\n",
       "    .dataframe tbody tr th:only-of-type {\n",
       "        vertical-align: middle;\n",
       "    }\n",
       "\n",
       "    .dataframe tbody tr th {\n",
       "        vertical-align: top;\n",
       "    }\n",
       "\n",
       "    .dataframe thead th {\n",
       "        text-align: right;\n",
       "    }\n",
       "</style>\n",
       "<table border=\"1\" class=\"dataframe\">\n",
       "  <thead>\n",
       "    <tr style=\"text-align: right;\">\n",
       "      <th></th>\n",
       "      <th>DecisionTreeRegressor</th>\n",
       "    </tr>\n",
       "  </thead>\n",
       "  <tbody>\n",
       "    <tr>\n",
       "      <th>r2</th>\n",
       "      <td>0.796645</td>\n",
       "    </tr>\n",
       "    <tr>\n",
       "      <th>neg_mean_absolute_error</th>\n",
       "      <td>-37397.307064</td>\n",
       "    </tr>\n",
       "  </tbody>\n",
       "</table>\n",
       "</div>"
      ],
      "text/plain": [
       "                         DecisionTreeRegressor\n",
       "r2                                    0.796645\n",
       "neg_mean_absolute_error          -37397.307064"
      ]
     },
     "execution_count": 72,
     "metadata": {},
     "output_type": "execute_result"
    }
   ],
   "source": [
    "dtr6_test_score_df = k_fold_cross_validation(dtr6, X_test, y_test)\n",
    "dtr6_test_score_df"
   ]
  },
  {
   "cell_type": "markdown",
   "metadata": {},
   "source": [
    "Interpretation of test results and comparison with training results and original result\n",
    "- The R2 for the test is lower as we are not testing the model with data it has not see before\n",
    "- The scores seem reasonable and are in line with the other models test results"
   ]
  },
  {
   "cell_type": "markdown",
   "metadata": {},
   "source": [
    "### (4) Random Forest"
   ]
  },
  {
   "cell_type": "markdown",
   "metadata": {},
   "source": [
    "### 4.1 Train a random forest model using only the descriptive features selected from part 1 above \n",
    "- A random forest model will now be trained on our test data. \n",
    "- We use the RandomForestRegressor() function. \n",
    "- The random state will be set to 1 to allow the results to be repeated"
   ]
  },
  {
   "cell_type": "code",
   "execution_count": 73,
   "metadata": {},
   "outputs": [],
   "source": [
    "# Train RF with 100 trees\n",
    "rfr = RandomForestRegressor(n_estimators=100, max_features='auto', oob_score=True, random_state=1)"
   ]
  },
  {
   "cell_type": "markdown",
   "metadata": {},
   "source": [
    "### 4.2 Fit, predict and evaluate. Understanding the Random Forest model\n",
    "We will now fit, make prediction and evaluation by 'reg_fit_pred_and_evaluate' function.\n",
    "Then try to understand how this random forest model works\n",
    "- Random Forest \n",
    "    - The random forest is made up of a number of decision trees\n",
    "    - The output of the random forest is base on the majority output of all decision trees combined\n",
    "    - This gives reliable results but can be hard to interpret\n",
    "    - The random forest will keep track of the importance of features in terms of information gain\n",
    "    - This list is the combined result of the 100 decision trees that make up the random forest model\n",
    "    - This feature ranking will help us in our optimisation process going forward\n",
    "      - What are the best features to keep?\n",
    "      - What features can be safely dropped without loosing information?"
   ]
  },
  {
   "cell_type": "code",
   "execution_count": 74,
   "metadata": {},
   "outputs": [
    {
     "name": "stdout",
     "output_type": "stream",
     "text": [
      "R2 Score on training data: 0.9724901515467032\n",
      "important features : \n",
      "                                                                 feature  importance\n",
      "2                                               PropertySizeDescription    0.735208\n",
      "3                                                                   lng    0.091740\n",
      "4                                                             YearMonth    0.084060\n",
      "1                                                          VATExclusive    0.031366\n",
      "10                                                        County_Dublin    0.015213\n",
      "84                                         address_types_street_address    0.005760\n",
      "82                                                address_types_premise    0.003492\n",
      "83                                                  address_types_route    0.002931\n",
      "8                                                           County_Cork    0.002852\n",
      "13                                                       County_Kildare    0.002103\n",
      "66                        address_types_establishment-point_of_interest    0.002100\n",
      "78                                     address_types_locality-political    0.001912\n",
      "79                                 address_types_neighborhood-political    0.001645\n",
      "21                                                         County_Meath    0.001607\n",
      "0                                                    NotFullMarketPrice    0.001528\n",
      "85                                             address_types_subpremise    0.001482\n",
      "29                                                       County_Wexford    0.001472\n",
      "11                                                        County_Galway    0.001037\n",
      "59                address_types_establishment-lodging-point_of_interest    0.000995\n",
      "30                                                       County_Wicklow    0.000873\n",
      "19                                                         County_Louth    0.000862\n",
      "17                                                      County_Limerick    0.000845\n",
      "12                                                         County_Kerry    0.000721\n",
      "25                                                         County_Sligo    0.000635\n",
      "7                                                          County_Clare    0.000629\n",
      "20                                                          County_Mayo    0.000581\n",
      "27                                                     County_Waterford    0.000555\n",
      "52     address_types_establishment-general_contractor-point_of_interest    0.000514\n",
      "6                                                          County_Cavan    0.000487\n",
      "26                                                     County_Tipperary    0.000456\n",
      "9                                                        County_Donegal    0.000453\n",
      "14                                                      County_Kilkenny    0.000448\n",
      "28                                                     County_Westmeath    0.000427\n",
      "77                                           address_types_intersection    0.000396\n",
      "80              address_types_political-sublocality-sublocality_level_1    0.000328\n",
      "81                                            address_types_postal_town    0.000289\n",
      "24                                                     County_Roscommon    0.000279\n",
      "5                                                         County_Carlow    0.000274\n",
      "15                                                         County_Laois    0.000206\n",
      "22                                                      County_Monaghan    0.000195\n",
      "23                                                        County_Offaly    0.000190\n",
      "16                                                       County_Leitrim    0.000156\n",
      "18                                                      County_Longford    0.000128\n",
      "37    address_types_bar-establishment-food-point_of_interest-restaurant    0.000079\n",
      "61  address_types_establishment-lodging-point_of_interest-shopping_mall    0.000069\n",
      "63                          address_types_establishment-natural_feature    0.000061\n",
      "73     address_types_establishment-point_of_interest-tourist_attraction    0.000057\n",
      "69                 address_types_establishment-point_of_interest-school    0.000055\n",
      "71          address_types_establishment-point_of_interest-shopping_mall    0.000041\n",
      "51        address_types_establishment-food-point_of_interest-restaurant    0.000036\n"
     ]
    }
   ],
   "source": [
    "rfr_pred_train = reg_fit_pred_and_evaluate(rfr, evaluate_test_set=False)"
   ]
  },
  {
   "cell_type": "code",
   "execution_count": 75,
   "metadata": {},
   "outputs": [
    {
     "name": "stdout",
     "output_type": "stream",
     "text": [
      "R2 Score on test set: 0.8121055076291944\n",
      "important features : \n",
      "                                                                 feature  importance\n",
      "2                                               PropertySizeDescription    0.735208\n",
      "3                                                                   lng    0.091740\n",
      "4                                                             YearMonth    0.084060\n",
      "1                                                          VATExclusive    0.031366\n",
      "10                                                        County_Dublin    0.015213\n",
      "84                                         address_types_street_address    0.005760\n",
      "82                                                address_types_premise    0.003492\n",
      "83                                                  address_types_route    0.002931\n",
      "8                                                           County_Cork    0.002852\n",
      "13                                                       County_Kildare    0.002103\n",
      "66                        address_types_establishment-point_of_interest    0.002100\n",
      "78                                     address_types_locality-political    0.001912\n",
      "79                                 address_types_neighborhood-political    0.001645\n",
      "21                                                         County_Meath    0.001607\n",
      "0                                                    NotFullMarketPrice    0.001528\n",
      "85                                             address_types_subpremise    0.001482\n",
      "29                                                       County_Wexford    0.001472\n",
      "11                                                        County_Galway    0.001037\n",
      "59                address_types_establishment-lodging-point_of_interest    0.000995\n",
      "30                                                       County_Wicklow    0.000873\n",
      "19                                                         County_Louth    0.000862\n",
      "17                                                      County_Limerick    0.000845\n",
      "12                                                         County_Kerry    0.000721\n",
      "25                                                         County_Sligo    0.000635\n",
      "7                                                          County_Clare    0.000629\n",
      "20                                                          County_Mayo    0.000581\n",
      "27                                                     County_Waterford    0.000555\n",
      "52     address_types_establishment-general_contractor-point_of_interest    0.000514\n",
      "6                                                          County_Cavan    0.000487\n",
      "26                                                     County_Tipperary    0.000456\n",
      "9                                                        County_Donegal    0.000453\n",
      "14                                                      County_Kilkenny    0.000448\n",
      "28                                                     County_Westmeath    0.000427\n",
      "77                                           address_types_intersection    0.000396\n",
      "80              address_types_political-sublocality-sublocality_level_1    0.000328\n",
      "81                                            address_types_postal_town    0.000289\n",
      "24                                                     County_Roscommon    0.000279\n",
      "5                                                         County_Carlow    0.000274\n",
      "15                                                         County_Laois    0.000206\n",
      "22                                                      County_Monaghan    0.000195\n",
      "23                                                        County_Offaly    0.000190\n",
      "16                                                       County_Leitrim    0.000156\n",
      "18                                                      County_Longford    0.000128\n",
      "37    address_types_bar-establishment-food-point_of_interest-restaurant    0.000079\n",
      "61  address_types_establishment-lodging-point_of_interest-shopping_mall    0.000069\n",
      "63                          address_types_establishment-natural_feature    0.000061\n",
      "73     address_types_establishment-point_of_interest-tourist_attraction    0.000057\n",
      "69                 address_types_establishment-point_of_interest-school    0.000055\n",
      "71          address_types_establishment-point_of_interest-shopping_mall    0.000041\n",
      "51        address_types_establishment-food-point_of_interest-restaurant    0.000036\n"
     ]
    }
   ],
   "source": [
    "rfr_pred_test = reg_fit_pred_and_evaluate(rfr, evaluate_test_set=True)"
   ]
  },
  {
   "cell_type": "markdown",
   "metadata": {},
   "source": [
    "We can see from the list above that:\n",
    "- 1.Whether a house is in Dublin will affect house prices, it's easy to understand, Dublin is the capital of Ireland and houses are generally more expensive there.\n",
    "- 2.many of the features provide little to no information gain. It is interesting to note that the categorical features are the worst preforming features, especially address_type. "
   ]
  },
  {
   "cell_type": "markdown",
   "metadata": {},
   "source": [
    "#### 4.3 Printing 10 predicted target features and evaluate the prediction \n",
    "- Here we will print the predicted target feature value for the first 10 training examples. "
   ]
  },
  {
   "cell_type": "code",
   "execution_count": 76,
   "metadata": {},
   "outputs": [
    {
     "name": "stdout",
     "output_type": "stream",
     "text": [
      "\n",
      "Predictions head 10: \n",
      "\n",
      "       Price    Predicted\n",
      "0  100000.00  101381.2115\n",
      "1  130000.00  137850.0000\n",
      "2  263777.54  280609.4191\n",
      "3  190308.00  179668.3419\n",
      "4  275000.00  256855.0000\n",
      "5   92500.00   90280.2000\n",
      "6  300000.00  335968.4300\n",
      "7  395000.00  439855.0094\n",
      "8  156000.00  153150.0000\n",
      "9  105000.00   95700.0000\n"
     ]
    }
   ],
   "source": [
    "print_predictions_head10(y_train, rfr_pred_train)"
   ]
  },
  {
   "cell_type": "code",
   "execution_count": 77,
   "metadata": {},
   "outputs": [
    {
     "name": "stdout",
     "output_type": "stream",
     "text": [
      "\n",
      "Predictions head 10: \n",
      "\n",
      "       Price    Predicted\n",
      "0  445000.00  445860.0000\n",
      "1   82000.00   62027.2500\n",
      "2  190000.00  169738.9427\n",
      "3   77000.00   69963.4357\n",
      "4  259200.71  259910.0000\n",
      "5  144000.00  174001.8950\n",
      "6  255000.00  258853.8800\n",
      "7  193000.00  179503.7678\n",
      "8  150000.00  117920.5242\n",
      "9  136000.00  159769.7500\n"
     ]
    }
   ],
   "source": [
    "print_predictions_head10(y_test, rfr_pred_test)"
   ]
  },
  {
   "cell_type": "markdown",
   "metadata": {},
   "source": [
    "#### 4.4 Evaluation metrics based on training data and test set\n",
    "- We will print the classification evaluation measures computed on the training set\n",
    "- We will discuss finding based on these measures"
   ]
  },
  {
   "cell_type": "code",
   "execution_count": 78,
   "metadata": {},
   "outputs": [
    {
     "name": "stdout",
     "output_type": "stream",
     "text": [
      "==================== evaluate regressor =======================\n",
      "Mean absolute error:  13678.179005180278\n",
      "Mean squared error:  430647286.9650822\n",
      "R2:  0.9724901515467032\n",
      "======================================================\n"
     ]
    }
   ],
   "source": [
    "evaluate_regressor(y_train, rfr_pred_train)"
   ]
  },
  {
   "cell_type": "code",
   "execution_count": 79,
   "metadata": {},
   "outputs": [
    {
     "name": "stdout",
     "output_type": "stream",
     "text": [
      "==================== evaluate regressor =======================\n",
      "Mean absolute error:  36159.3159929462\n",
      "Mean squared error:  2930228740.215994\n",
      "R2:  0.8121055076291944\n",
      "======================================================\n"
     ]
    }
   ],
   "source": [
    "evaluate_regressor(y_test, rfr_pred_test)"
   ]
  },
  {
   "cell_type": "markdown",
   "metadata": {},
   "source": [
    "#### k-fold cross validation on original X, y, and training data and test set"
   ]
  },
  {
   "cell_type": "code",
   "execution_count": 80,
   "metadata": {},
   "outputs": [
    {
     "name": "stdout",
     "output_type": "stream",
     "text": [
      "Mean results from 10-fold cross validation are:\n"
     ]
    },
    {
     "data": {
      "text/html": [
       "<div>\n",
       "<style scoped>\n",
       "    .dataframe tbody tr th:only-of-type {\n",
       "        vertical-align: middle;\n",
       "    }\n",
       "\n",
       "    .dataframe tbody tr th {\n",
       "        vertical-align: top;\n",
       "    }\n",
       "\n",
       "    .dataframe thead th {\n",
       "        text-align: right;\n",
       "    }\n",
       "</style>\n",
       "<table border=\"1\" class=\"dataframe\">\n",
       "  <thead>\n",
       "    <tr style=\"text-align: right;\">\n",
       "      <th></th>\n",
       "      <th>RandomForestRegressor</th>\n",
       "    </tr>\n",
       "  </thead>\n",
       "  <tbody>\n",
       "    <tr>\n",
       "      <th>r2</th>\n",
       "      <td>0.811718</td>\n",
       "    </tr>\n",
       "    <tr>\n",
       "      <th>neg_mean_absolute_error</th>\n",
       "      <td>-36258.777792</td>\n",
       "    </tr>\n",
       "  </tbody>\n",
       "</table>\n",
       "</div>"
      ],
      "text/plain": [
       "                         RandomForestRegressor\n",
       "r2                                    0.811718\n",
       "neg_mean_absolute_error          -36258.777792"
      ]
     },
     "execution_count": 80,
     "metadata": {},
     "output_type": "execute_result"
    }
   ],
   "source": [
    "rfr_all_score_df = k_fold_cross_validation(rfr, X, y)\n",
    "rfr_all_score_df"
   ]
  },
  {
   "cell_type": "code",
   "execution_count": 81,
   "metadata": {},
   "outputs": [
    {
     "name": "stdout",
     "output_type": "stream",
     "text": [
      "Mean results from 10-fold cross validation are:\n"
     ]
    },
    {
     "data": {
      "text/html": [
       "<div>\n",
       "<style scoped>\n",
       "    .dataframe tbody tr th:only-of-type {\n",
       "        vertical-align: middle;\n",
       "    }\n",
       "\n",
       "    .dataframe tbody tr th {\n",
       "        vertical-align: top;\n",
       "    }\n",
       "\n",
       "    .dataframe thead th {\n",
       "        text-align: right;\n",
       "    }\n",
       "</style>\n",
       "<table border=\"1\" class=\"dataframe\">\n",
       "  <thead>\n",
       "    <tr style=\"text-align: right;\">\n",
       "      <th></th>\n",
       "      <th>RandomForestRegressor</th>\n",
       "    </tr>\n",
       "  </thead>\n",
       "  <tbody>\n",
       "    <tr>\n",
       "      <th>r2</th>\n",
       "      <td>0.803659</td>\n",
       "    </tr>\n",
       "    <tr>\n",
       "      <th>neg_mean_absolute_error</th>\n",
       "      <td>-36938.714513</td>\n",
       "    </tr>\n",
       "  </tbody>\n",
       "</table>\n",
       "</div>"
      ],
      "text/plain": [
       "                         RandomForestRegressor\n",
       "r2                                    0.803659\n",
       "neg_mean_absolute_error          -36938.714513"
      ]
     },
     "execution_count": 81,
     "metadata": {},
     "output_type": "execute_result"
    }
   ],
   "source": [
    "rfr_train_score_df = k_fold_cross_validation(rfr, X_train, y_train)\n",
    "rfr_train_score_df"
   ]
  },
  {
   "cell_type": "code",
   "execution_count": 82,
   "metadata": {},
   "outputs": [
    {
     "name": "stdout",
     "output_type": "stream",
     "text": [
      "Mean results from 10-fold cross validation are:\n"
     ]
    },
    {
     "data": {
      "text/html": [
       "<div>\n",
       "<style scoped>\n",
       "    .dataframe tbody tr th:only-of-type {\n",
       "        vertical-align: middle;\n",
       "    }\n",
       "\n",
       "    .dataframe tbody tr th {\n",
       "        vertical-align: top;\n",
       "    }\n",
       "\n",
       "    .dataframe thead th {\n",
       "        text-align: right;\n",
       "    }\n",
       "</style>\n",
       "<table border=\"1\" class=\"dataframe\">\n",
       "  <thead>\n",
       "    <tr style=\"text-align: right;\">\n",
       "      <th></th>\n",
       "      <th>RandomForestRegressor</th>\n",
       "    </tr>\n",
       "  </thead>\n",
       "  <tbody>\n",
       "    <tr>\n",
       "      <th>r2</th>\n",
       "      <td>0.803025</td>\n",
       "    </tr>\n",
       "    <tr>\n",
       "      <th>neg_mean_absolute_error</th>\n",
       "      <td>-36909.515277</td>\n",
       "    </tr>\n",
       "  </tbody>\n",
       "</table>\n",
       "</div>"
      ],
      "text/plain": [
       "                         RandomForestRegressor\n",
       "r2                                    0.803025\n",
       "neg_mean_absolute_error          -36909.515277"
      ]
     },
     "execution_count": 82,
     "metadata": {},
     "output_type": "execute_result"
    }
   ],
   "source": [
    "rfr_test_score_df = k_fold_cross_validation(rfr, X_test, y_test)\n",
    "rfr_test_score_df"
   ]
  },
  {
   "cell_type": "markdown",
   "metadata": {},
   "source": [
    "Interpretation of test results and comparison with training results and original result\n",
    "- The result of the test set is not necessarily lower, sometimes even higher, and sometimes lower, with randomness"
   ]
  },
  {
   "cell_type": "markdown",
   "metadata": {},
   "source": [
    "#### Out of bag accuracy\n",
    "- This is the out of bag error estimate \n",
    "- It is an internal error estimate of a random forest as it is being constructed.\n",
    "- It is used as an additional measure and should be line with the cross validation results\n",
    "- This is generally expected to be the lowest"
   ]
  },
  {
   "cell_type": "code",
   "execution_count": 83,
   "metadata": {},
   "outputs": [
    {
     "data": {
      "text/plain": [
       "0.8024876495529696"
      ]
     },
     "execution_count": 83,
     "metadata": {},
     "output_type": "execute_result"
    }
   ],
   "source": [
    "rfr.oob_score_"
   ]
  },
  {
   "cell_type": "markdown",
   "metadata": {},
   "source": [
    "## 5 Improving Predictive Models\n",
    "### 5.1 Which model of the ones trained above performs better at predicting the target feature? \n",
    "- Random Forest Regressor model works best, every metric of RandomForestRegressor is optimal\n",
    "- Summary of the results so far can be seen below (based on predicting mean price)\n",
    "- Note these results are for a subset of the original features i.e. In part 1 we dropped many of the low correlation features\n",
    "    - In part 5.3 we will review the impact to the decisions taken in part 1"
   ]
  },
  {
   "cell_type": "code",
   "execution_count": 84,
   "metadata": {},
   "outputs": [
    {
     "data": {
      "text/html": [
       "<div>\n",
       "<style scoped>\n",
       "    .dataframe tbody tr th:only-of-type {\n",
       "        vertical-align: middle;\n",
       "    }\n",
       "\n",
       "    .dataframe tbody tr th {\n",
       "        vertical-align: top;\n",
       "    }\n",
       "\n",
       "    .dataframe thead th {\n",
       "        text-align: right;\n",
       "    }\n",
       "</style>\n",
       "<table border=\"1\" class=\"dataframe\">\n",
       "  <thead>\n",
       "    <tr style=\"text-align: right;\">\n",
       "      <th></th>\n",
       "      <th>LinearRegression</th>\n",
       "      <th>DecisionTreeRegressor</th>\n",
       "      <th>RandomForestRegressor</th>\n",
       "    </tr>\n",
       "  </thead>\n",
       "  <tbody>\n",
       "    <tr>\n",
       "      <th>r2</th>\n",
       "      <td>-3.663692e+24</td>\n",
       "      <td>0.807935</td>\n",
       "      <td>0.811718</td>\n",
       "    </tr>\n",
       "    <tr>\n",
       "      <th>neg_mean_absolute_error</th>\n",
       "      <td>-5.832197e+15</td>\n",
       "      <td>-36924.251481</td>\n",
       "      <td>-36258.777792</td>\n",
       "    </tr>\n",
       "  </tbody>\n",
       "</table>\n",
       "</div>"
      ],
      "text/plain": [
       "                         LinearRegression  DecisionTreeRegressor  RandomForestRegressor\n",
       "r2                          -3.663692e+24               0.807935               0.811718\n",
       "neg_mean_absolute_error     -5.832197e+15          -36924.251481          -36258.777792"
      ]
     },
     "execution_count": 84,
     "metadata": {},
     "output_type": "execute_result"
    }
   ],
   "source": [
    "all_result_df = pd.concat([line_all_score_df, dtr6_all_score_df, rfr_all_score_df], axis=1)\n",
    "all_result_df"
   ]
  },
  {
   "cell_type": "code",
   "execution_count": 85,
   "metadata": {},
   "outputs": [
    {
     "data": {
      "text/html": [
       "<div>\n",
       "<style scoped>\n",
       "    .dataframe tbody tr th:only-of-type {\n",
       "        vertical-align: middle;\n",
       "    }\n",
       "\n",
       "    .dataframe tbody tr th {\n",
       "        vertical-align: top;\n",
       "    }\n",
       "\n",
       "    .dataframe thead th {\n",
       "        text-align: right;\n",
       "    }\n",
       "</style>\n",
       "<table border=\"1\" class=\"dataframe\">\n",
       "  <thead>\n",
       "    <tr style=\"text-align: right;\">\n",
       "      <th></th>\n",
       "      <th>DecisionTreeRegressor</th>\n",
       "      <th>RandomForestRegressor</th>\n",
       "    </tr>\n",
       "  </thead>\n",
       "  <tbody>\n",
       "    <tr>\n",
       "      <th>r2</th>\n",
       "      <td>0.798435</td>\n",
       "      <td>0.803659</td>\n",
       "    </tr>\n",
       "    <tr>\n",
       "      <th>neg_mean_absolute_error</th>\n",
       "      <td>-37409.077573</td>\n",
       "      <td>-36938.714513</td>\n",
       "    </tr>\n",
       "  </tbody>\n",
       "</table>\n",
       "</div>"
      ],
      "text/plain": [
       "                         DecisionTreeRegressor  RandomForestRegressor\n",
       "r2                                    0.798435               0.803659\n",
       "neg_mean_absolute_error          -37409.077573          -36938.714513"
      ]
     },
     "execution_count": 85,
     "metadata": {},
     "output_type": "execute_result"
    }
   ],
   "source": [
    "train_result_df = pd.concat([dtr6_train_score_df, rfr_train_score_df], axis=1)\n",
    "train_result_df"
   ]
  },
  {
   "cell_type": "code",
   "execution_count": 86,
   "metadata": {},
   "outputs": [
    {
     "data": {
      "text/html": [
       "<div>\n",
       "<style scoped>\n",
       "    .dataframe tbody tr th:only-of-type {\n",
       "        vertical-align: middle;\n",
       "    }\n",
       "\n",
       "    .dataframe tbody tr th {\n",
       "        vertical-align: top;\n",
       "    }\n",
       "\n",
       "    .dataframe thead th {\n",
       "        text-align: right;\n",
       "    }\n",
       "</style>\n",
       "<table border=\"1\" class=\"dataframe\">\n",
       "  <thead>\n",
       "    <tr style=\"text-align: right;\">\n",
       "      <th></th>\n",
       "      <th>DecisionTreeRegressor</th>\n",
       "      <th>RandomForestRegressor</th>\n",
       "    </tr>\n",
       "  </thead>\n",
       "  <tbody>\n",
       "    <tr>\n",
       "      <th>r2</th>\n",
       "      <td>0.796645</td>\n",
       "      <td>0.803025</td>\n",
       "    </tr>\n",
       "    <tr>\n",
       "      <th>neg_mean_absolute_error</th>\n",
       "      <td>-37397.307064</td>\n",
       "      <td>-36909.515277</td>\n",
       "    </tr>\n",
       "  </tbody>\n",
       "</table>\n",
       "</div>"
      ],
      "text/plain": [
       "                         DecisionTreeRegressor  RandomForestRegressor\n",
       "r2                                    0.796645               0.803025\n",
       "neg_mean_absolute_error          -37397.307064          -36909.515277"
      ]
     },
     "execution_count": 86,
     "metadata": {},
     "output_type": "execute_result"
    }
   ],
   "source": [
    "test_result_df = pd.concat([dtr6_test_score_df, rfr_test_score_df], axis=1)\n",
    "test_result_df"
   ]
  },
  {
   "cell_type": "markdown",
   "metadata": {},
   "source": [
    "The result show that the Random Forest model works best, every metric of RandomForestRegressor is optimal"
   ]
  },
  {
   "cell_type": "markdown",
   "metadata": {},
   "source": [
    "### 5.1.2 Is the model more accurate than a simple model that always predicts the mean price\n",
    "- We will compare our results above to a simple model which predicts for the mean price"
   ]
  },
  {
   "cell_type": "code",
   "execution_count": 87,
   "metadata": {},
   "outputs": [
    {
     "data": {
      "text/plain": [
       "0"
      ]
     },
     "execution_count": 87,
     "metadata": {},
     "output_type": "execute_result"
    }
   ],
   "source": [
    "mean_count = y_train[y_train.round(0) == round(y_train.mean(), 0)].count()\n",
    "mean_count"
   ]
  },
  {
   "cell_type": "code",
   "execution_count": 88,
   "metadata": {},
   "outputs": [],
   "source": [
    "mean_on_train = round(y_train.mean(), 2)"
   ]
  },
  {
   "cell_type": "code",
   "execution_count": 89,
   "metadata": {},
   "outputs": [
    {
     "name": "stdout",
     "output_type": "stream",
     "text": [
      "==================== evaluate regressor =======================\n",
      "Mean absolute error:  100370.15866581957\n",
      "Mean squared error:  15654295140.745235\n",
      "R2:  0.0\n",
      "======================================================\n"
     ]
    }
   ],
   "source": [
    "# generate array (length of train dataset)\n",
    "avg = np.ones(y_train.count()) * mean_on_train\n",
    "# create dataframe \n",
    "df_avg = pd.DataFrame(avg, columns=['prediction'])\n",
    "# calculate scores of simple predictin vs actual\n",
    "\n",
    "evaluate_regressor(y_train, df_avg)"
   ]
  },
  {
   "cell_type": "markdown",
   "metadata": {},
   "source": [
    "R2 above is 0, for predicting mean the simple model fails completely as expected"
   ]
  },
  {
   "cell_type": "markdown",
   "metadata": {},
   "source": [
    "### 5.2 Compare Model performance using different feature subsets \n",
    "#### 5.2.1 High correlation features only. Because the \"address\" feature in the original data set will generate many columns after one-hot-enconding, the training efficiency and effect will be very poor, so the original data with all features is not used for comparison here\n",
    "- We will now repeat the tests using the high correlation features identified in part (1.2.3)\n",
    "- Again we set up the dataframe but now we use the list of high_correlation_features only"
   ]
  },
  {
   "cell_type": "code",
   "execution_count": 90,
   "metadata": {},
   "outputs": [
    {
     "name": "stdout",
     "output_type": "stream",
     "text": [
      "Number of features:  6\n"
     ]
    }
   ],
   "source": [
    "df_highCorr = pd.get_dummies(df)\n",
    "y = df_highCorr[target]\n",
    "X_high = df_highCorr[high_correlation_features]\n",
    "print(\"Number of features: \", len(X_high.columns))"
   ]
  },
  {
   "cell_type": "code",
   "execution_count": 92,
   "metadata": {},
   "outputs": [
    {
     "name": "stdout",
     "output_type": "stream",
     "text": [
      "Mean results from 10-fold cross validation are:\n",
      "Mean results from 10-fold cross validation are:\n"
     ]
    },
    {
     "data": {
      "text/html": [
       "<div>\n",
       "<style scoped>\n",
       "    .dataframe tbody tr th:only-of-type {\n",
       "        vertical-align: middle;\n",
       "    }\n",
       "\n",
       "    .dataframe tbody tr th {\n",
       "        vertical-align: top;\n",
       "    }\n",
       "\n",
       "    .dataframe thead th {\n",
       "        text-align: right;\n",
       "    }\n",
       "</style>\n",
       "<table border=\"1\" class=\"dataframe\">\n",
       "  <thead>\n",
       "    <tr style=\"text-align: right;\">\n",
       "      <th></th>\n",
       "      <th>DecisionTreeRegressor</th>\n",
       "      <th>RandomForestRegressor</th>\n",
       "    </tr>\n",
       "  </thead>\n",
       "  <tbody>\n",
       "    <tr>\n",
       "      <th>r2</th>\n",
       "      <td>0.803978</td>\n",
       "      <td>0.794855</td>\n",
       "    </tr>\n",
       "    <tr>\n",
       "      <th>neg_mean_absolute_error</th>\n",
       "      <td>-37192.020385</td>\n",
       "      <td>-37727.407598</td>\n",
       "    </tr>\n",
       "  </tbody>\n",
       "</table>\n",
       "</div>"
      ],
      "text/plain": [
       "                         DecisionTreeRegressor  RandomForestRegressor\n",
       "r2                                    0.803978               0.794855\n",
       "neg_mean_absolute_error          -37192.020385          -37727.407598"
      ]
     },
     "execution_count": 92,
     "metadata": {},
     "output_type": "execute_result"
    }
   ],
   "source": [
    "# calculate Linear regression, logistic regression, random forest results again using all features\n",
    "decisionTreeDF = k_fold_cross_validation(dtr6, X_high, y)\n",
    "RandomForestDF = k_fold_cross_validation(rfr, X_high, y)\n",
    "# merge all 3 models into dataframe\n",
    "ResultsDF_HighCorrFeatures = pd.concat([decisionTreeDF, RandomForestDF], axis=1)\n",
    "ResultsDF_HighCorrFeatures"
   ]
  },
  {
   "cell_type": "markdown",
   "metadata": {},
   "source": [
    "### 5.2.2 Comparison of feature set so far"
   ]
  },
  {
   "cell_type": "code",
   "execution_count": 94,
   "metadata": {},
   "outputs": [
    {
     "name": "stdout",
     "output_type": "stream",
     "text": [
      "\n",
      "Scores using subset of features: 8 features (5 features dropped - from part 1)\n",
      "===================================================================\n",
      "                         LinearRegression  DecisionTreeRegressor  RandomForestRegressor\n",
      "r2                          -3.663692e+24               0.807935               0.811718\n",
      "neg_mean_absolute_error     -5.832197e+15          -36924.251481          -36258.777792\n",
      "\n",
      "Scores using high Correlation features only: 6 features\n",
      "===================================================================\n",
      "                         DecisionTreeRegressor  RandomForestRegressor\n",
      "r2                                    0.803978               0.794855\n",
      "neg_mean_absolute_error          -37192.020385          -37727.407598\n"
     ]
    }
   ],
   "source": [
    "print(\"\\nScores using subset of features: 8 features (5 features dropped - from part 1)\")\n",
    "print(\"===================================================================\")\n",
    "print(all_result_df)\n",
    "print(\"\\nScores using high Correlation features only: 6 features\")\n",
    "print(\"===================================================================\")\n",
    "print(ResultsDF_HighCorrFeatures)"
   ]
  },
  {
   "cell_type": "markdown",
   "metadata": {},
   "source": [
    "We can see that using only features with high relevance, the training effect decreases, with R2 of RandomForestRegressor dropping roughly 2.5%, while DecisionTreeRegressor has similar results."
   ]
  },
  {
   "cell_type": "markdown",
   "metadata": {},
   "source": [
    "#### 5.2.3 Improving The BestModels, Random Forest Regressor Model\n",
    "We will focus in the random forest model to see what optimization is possible. We will look at the following::\n",
    "1. Find best performing max_Depth, limits the maximum depth of the tree, if the decision tree grows one more layer, the demand for samples will double, so limiting the depth of the tree can effectively limit overfitting; \n",
    "2. Find lowest number estimators while keeping accuracy high- reduce unnecessary estimators as will slow down the model"
   ]
  },
  {
   "cell_type": "code",
   "execution_count": 97,
   "metadata": {},
   "outputs": [],
   "source": [
    "max_depth_range = range(6, 15, 2)"
   ]
  },
  {
   "cell_type": "markdown",
   "metadata": {},
   "source": [
    "#### Optimise Max Depth\n",
    "**Note: This calculation may take some time**"
   ]
  },
  {
   "cell_type": "code",
   "execution_count": 98,
   "metadata": {},
   "outputs": [
    {
     "name": "stdout",
     "output_type": "stream",
     "text": [
      "Mean results from 10-fold cross validation are:\n",
      "Mean results from 10-fold cross validation are:\n",
      "Mean results from 10-fold cross validation are:\n",
      "Mean results from 10-fold cross validation are:\n",
      "Mean results from 10-fold cross validation are:\n"
     ]
    },
    {
     "data": {
      "text/html": [
       "<div>\n",
       "<style scoped>\n",
       "    .dataframe tbody tr th:only-of-type {\n",
       "        vertical-align: middle;\n",
       "    }\n",
       "\n",
       "    .dataframe tbody tr th {\n",
       "        vertical-align: top;\n",
       "    }\n",
       "\n",
       "    .dataframe thead th {\n",
       "        text-align: right;\n",
       "    }\n",
       "</style>\n",
       "<table border=\"1\" class=\"dataframe\">\n",
       "  <thead>\n",
       "    <tr style=\"text-align: right;\">\n",
       "      <th></th>\n",
       "      <th>depth6</th>\n",
       "      <th>depth8</th>\n",
       "      <th>depth10</th>\n",
       "      <th>depth12</th>\n",
       "      <th>depth14</th>\n",
       "    </tr>\n",
       "  </thead>\n",
       "  <tbody>\n",
       "    <tr>\n",
       "      <th>r2</th>\n",
       "      <td>0.816236</td>\n",
       "      <td>0.819565</td>\n",
       "      <td>0.820569</td>\n",
       "      <td>0.820485</td>\n",
       "      <td>0.818908</td>\n",
       "    </tr>\n",
       "    <tr>\n",
       "      <th>neg_mean_absolute_error</th>\n",
       "      <td>-36394.787184</td>\n",
       "      <td>-36031.395297</td>\n",
       "      <td>-35896.975895</td>\n",
       "      <td>-35808.185658</td>\n",
       "      <td>-35820.361313</td>\n",
       "    </tr>\n",
       "  </tbody>\n",
       "</table>\n",
       "</div>"
      ],
      "text/plain": [
       "                               depth6        depth8       depth10       depth12       depth14\n",
       "r2                           0.816236      0.819565      0.820569      0.820485      0.818908\n",
       "neg_mean_absolute_error -36394.787184 -36031.395297 -35896.975895 -35808.185658 -35820.361313"
      ]
     },
     "execution_count": 98,
     "metadata": {},
     "output_type": "execute_result"
    }
   ],
   "source": [
    "# initialised empty daraframe\n",
    "rfr_with_max_depth_all_score_df = pd.DataFrame()\n",
    "\n",
    "for depth in max_depth_range:\n",
    "    rf_reg_with_max_depth = RandomForestRegressor(max_depth=depth)\n",
    "    df1 = k_fold_cross_validation(rf_reg_with_max_depth, X, y)\n",
    "    df1.rename(columns={f'{rf_reg_with_max_depth.__class__.__name__}' : f'depth{depth}'}, inplace=True)\n",
    "    \n",
    "    rfr_with_max_depth_all_score_df = pd.concat([rfr_with_max_depth_all_score_df, df1], axis=1)\n",
    "\n",
    "rfr_with_max_depth_all_score_df"
   ]
  },
  {
   "cell_type": "markdown",
   "metadata": {},
   "source": [
    "We can see from above that the best performance appears to be with a max depth of 10."
   ]
  },
  {
   "cell_type": "markdown",
   "metadata": {},
   "source": [
    "####  Optimise Number of estimators\n",
    "**Note: This calculation may take some time**"
   ]
  },
  {
   "cell_type": "code",
   "execution_count": 101,
   "metadata": {},
   "outputs": [],
   "source": [
    "n_estimators = [1, 100, 500]"
   ]
  },
  {
   "cell_type": "code",
   "execution_count": 102,
   "metadata": {},
   "outputs": [
    {
     "name": "stdout",
     "output_type": "stream",
     "text": [
      "Mean results from 10-fold cross validation are:\n",
      "Mean results from 10-fold cross validation are:\n",
      "Mean results from 10-fold cross validation are:\n"
     ]
    },
    {
     "data": {
      "text/html": [
       "<div>\n",
       "<style scoped>\n",
       "    .dataframe tbody tr th:only-of-type {\n",
       "        vertical-align: middle;\n",
       "    }\n",
       "\n",
       "    .dataframe tbody tr th {\n",
       "        vertical-align: top;\n",
       "    }\n",
       "\n",
       "    .dataframe thead th {\n",
       "        text-align: right;\n",
       "    }\n",
       "</style>\n",
       "<table border=\"1\" class=\"dataframe\">\n",
       "  <thead>\n",
       "    <tr style=\"text-align: right;\">\n",
       "      <th></th>\n",
       "      <th>estimators1</th>\n",
       "      <th>estimators100</th>\n",
       "      <th>estimators500</th>\n",
       "    </tr>\n",
       "  </thead>\n",
       "  <tbody>\n",
       "    <tr>\n",
       "      <th>r2</th>\n",
       "      <td>0.800167</td>\n",
       "      <td>0.802020</td>\n",
       "      <td>0.799716</td>\n",
       "    </tr>\n",
       "    <tr>\n",
       "      <th>neg_mean_absolute_error</th>\n",
       "      <td>-37050.262372</td>\n",
       "      <td>-36732.865991</td>\n",
       "      <td>-36942.742831</td>\n",
       "    </tr>\n",
       "  </tbody>\n",
       "</table>\n",
       "</div>"
      ],
      "text/plain": [
       "                          estimators1  estimators100  estimators500\n",
       "r2                           0.800167       0.802020       0.799716\n",
       "neg_mean_absolute_error -37050.262372  -36732.865991  -36942.742831"
      ]
     },
     "execution_count": 102,
     "metadata": {},
     "output_type": "execute_result"
    }
   ],
   "source": [
    "# initialised empty daraframe\n",
    "rfr_with_estimators_all_score_df = pd.DataFrame()\n",
    "\n",
    "for estimators in n_estimators:\n",
    "    rf_reg_with_estimators = RandomForestRegressor(n_estimators=depth)\n",
    "    df1 = k_fold_cross_validation(rf_reg_with_estimators, X, y)\n",
    "    df1.rename(columns={f'{rf_reg_with_estimators.__class__.__name__}' : f'estimators{estimators}'}, inplace=True)\n",
    "    \n",
    "    rfr_with_estimators_all_score_df = pd.concat([rfr_with_estimators_all_score_df, df1], axis=1)\n",
    "\n",
    "rfr_with_estimators_all_score_df"
   ]
  },
  {
   "cell_type": "markdown",
   "metadata": {},
   "source": [
    "The above results show that the best performance is achieved when the n_estimators is 100"
   ]
  },
  {
   "cell_type": "markdown",
   "metadata": {},
   "source": [
    "#### Optimise Number of features\n",
    "- First calculate feature order of importance"
   ]
  },
  {
   "cell_type": "code",
   "execution_count": 103,
   "metadata": {},
   "outputs": [
    {
     "data": {
      "text/html": [
       "<div>\n",
       "<style scoped>\n",
       "    .dataframe tbody tr th:only-of-type {\n",
       "        vertical-align: middle;\n",
       "    }\n",
       "\n",
       "    .dataframe tbody tr th {\n",
       "        vertical-align: top;\n",
       "    }\n",
       "\n",
       "    .dataframe thead th {\n",
       "        text-align: right;\n",
       "    }\n",
       "</style>\n",
       "<table border=\"1\" class=\"dataframe\">\n",
       "  <thead>\n",
       "    <tr style=\"text-align: right;\">\n",
       "      <th></th>\n",
       "      <th>importance</th>\n",
       "    </tr>\n",
       "    <tr>\n",
       "      <th>feature</th>\n",
       "      <th></th>\n",
       "    </tr>\n",
       "  </thead>\n",
       "  <tbody>\n",
       "    <tr>\n",
       "      <th>PropertySizeDescription</th>\n",
       "      <td>0.735208</td>\n",
       "    </tr>\n",
       "    <tr>\n",
       "      <th>lng</th>\n",
       "      <td>0.091740</td>\n",
       "    </tr>\n",
       "    <tr>\n",
       "      <th>YearMonth</th>\n",
       "      <td>0.084060</td>\n",
       "    </tr>\n",
       "    <tr>\n",
       "      <th>VATExclusive</th>\n",
       "      <td>0.031366</td>\n",
       "    </tr>\n",
       "    <tr>\n",
       "      <th>County_Dublin</th>\n",
       "      <td>0.015213</td>\n",
       "    </tr>\n",
       "    <tr>\n",
       "      <th>...</th>\n",
       "      <td>...</td>\n",
       "    </tr>\n",
       "    <tr>\n",
       "      <th>address_types_cemetery-establishment-park-point_of_interest</th>\n",
       "      <td>0.000000</td>\n",
       "    </tr>\n",
       "    <tr>\n",
       "      <th>address_types_department_store-establishment-point_of_interest-store</th>\n",
       "      <td>0.000000</td>\n",
       "    </tr>\n",
       "    <tr>\n",
       "      <th>address_types_establishment-light_rail_station-point_of_interest-transit_station</th>\n",
       "      <td>0.000000</td>\n",
       "    </tr>\n",
       "    <tr>\n",
       "      <th>address_types_establishment-jewelry_store-point_of_interest-store</th>\n",
       "      <td>0.000000</td>\n",
       "    </tr>\n",
       "    <tr>\n",
       "      <th>address_types_establishment-health-lodging-point_of_interest</th>\n",
       "      <td>0.000000</td>\n",
       "    </tr>\n",
       "  </tbody>\n",
       "</table>\n",
       "<p>86 rows × 1 columns</p>\n",
       "</div>"
      ],
      "text/plain": [
       "                                                                                  importance\n",
       "feature                                                                                     \n",
       "PropertySizeDescription                                                             0.735208\n",
       "lng                                                                                 0.091740\n",
       "YearMonth                                                                           0.084060\n",
       "VATExclusive                                                                        0.031366\n",
       "County_Dublin                                                                       0.015213\n",
       "...                                                                                      ...\n",
       "address_types_cemetery-establishment-park-point_of_interest                         0.000000\n",
       "address_types_department_store-establishment-point_of_interest-store                0.000000\n",
       "address_types_establishment-light_rail_station-point_of_interest-transit_station    0.000000\n",
       "address_types_establishment-jewelry_store-point_of_interest-store                   0.000000\n",
       "address_types_establishment-health-lodging-point_of_interest                        0.000000\n",
       "\n",
       "[86 rows x 1 columns]"
      ]
     },
     "execution_count": 103,
     "metadata": {},
     "output_type": "execute_result"
    }
   ],
   "source": [
    "rfr100 = RandomForestRegressor(n_estimators=100, max_features='auto', oob_score=True, random_state=1)\n",
    "rfr100.fit(X_train, y_train)\n",
    "importance = pd.DataFrame({'feature': X_train.columns, 'importance': rfr100.feature_importances_})\n",
    "importance.sort_values('importance', ascending=False, inplace=True)\n",
    "importance.set_index('feature',1, inplace=True)\n",
    "importance"
   ]
  },
  {
   "cell_type": "code",
   "execution_count": 105,
   "metadata": {},
   "outputs": [
    {
     "data": {
      "text/html": [
       "<div>\n",
       "<style scoped>\n",
       "    .dataframe tbody tr th:only-of-type {\n",
       "        vertical-align: middle;\n",
       "    }\n",
       "\n",
       "    .dataframe tbody tr th {\n",
       "        vertical-align: top;\n",
       "    }\n",
       "\n",
       "    .dataframe thead th {\n",
       "        text-align: right;\n",
       "    }\n",
       "</style>\n",
       "<table border=\"1\" class=\"dataframe\">\n",
       "  <thead>\n",
       "    <tr style=\"text-align: right;\">\n",
       "      <th></th>\n",
       "      <th>importance</th>\n",
       "    </tr>\n",
       "    <tr>\n",
       "      <th>feature</th>\n",
       "      <th></th>\n",
       "    </tr>\n",
       "  </thead>\n",
       "  <tbody>\n",
       "    <tr>\n",
       "      <th>PropertySizeDescription</th>\n",
       "      <td>0.735208</td>\n",
       "    </tr>\n",
       "    <tr>\n",
       "      <th>lng</th>\n",
       "      <td>0.091740</td>\n",
       "    </tr>\n",
       "    <tr>\n",
       "      <th>YearMonth</th>\n",
       "      <td>0.084060</td>\n",
       "    </tr>\n",
       "    <tr>\n",
       "      <th>VATExclusive</th>\n",
       "      <td>0.031366</td>\n",
       "    </tr>\n",
       "    <tr>\n",
       "      <th>County_Dublin</th>\n",
       "      <td>0.015213</td>\n",
       "    </tr>\n",
       "    <tr>\n",
       "      <th>address_types_street_address</th>\n",
       "      <td>0.005760</td>\n",
       "    </tr>\n",
       "    <tr>\n",
       "      <th>address_types_premise</th>\n",
       "      <td>0.003492</td>\n",
       "    </tr>\n",
       "    <tr>\n",
       "      <th>address_types_route</th>\n",
       "      <td>0.002931</td>\n",
       "    </tr>\n",
       "    <tr>\n",
       "      <th>County_Cork</th>\n",
       "      <td>0.002852</td>\n",
       "    </tr>\n",
       "    <tr>\n",
       "      <th>County_Kildare</th>\n",
       "      <td>0.002103</td>\n",
       "    </tr>\n",
       "    <tr>\n",
       "      <th>address_types_establishment-point_of_interest</th>\n",
       "      <td>0.002100</td>\n",
       "    </tr>\n",
       "    <tr>\n",
       "      <th>address_types_locality-political</th>\n",
       "      <td>0.001912</td>\n",
       "    </tr>\n",
       "    <tr>\n",
       "      <th>address_types_neighborhood-political</th>\n",
       "      <td>0.001645</td>\n",
       "    </tr>\n",
       "    <tr>\n",
       "      <th>County_Meath</th>\n",
       "      <td>0.001607</td>\n",
       "    </tr>\n",
       "    <tr>\n",
       "      <th>NotFullMarketPrice</th>\n",
       "      <td>0.001528</td>\n",
       "    </tr>\n",
       "    <tr>\n",
       "      <th>address_types_subpremise</th>\n",
       "      <td>0.001482</td>\n",
       "    </tr>\n",
       "    <tr>\n",
       "      <th>County_Wexford</th>\n",
       "      <td>0.001472</td>\n",
       "    </tr>\n",
       "    <tr>\n",
       "      <th>County_Galway</th>\n",
       "      <td>0.001037</td>\n",
       "    </tr>\n",
       "    <tr>\n",
       "      <th>address_types_establishment-lodging-point_of_interest</th>\n",
       "      <td>0.000995</td>\n",
       "    </tr>\n",
       "    <tr>\n",
       "      <th>County_Wicklow</th>\n",
       "      <td>0.000873</td>\n",
       "    </tr>\n",
       "    <tr>\n",
       "      <th>County_Louth</th>\n",
       "      <td>0.000862</td>\n",
       "    </tr>\n",
       "    <tr>\n",
       "      <th>County_Limerick</th>\n",
       "      <td>0.000845</td>\n",
       "    </tr>\n",
       "    <tr>\n",
       "      <th>County_Kerry</th>\n",
       "      <td>0.000721</td>\n",
       "    </tr>\n",
       "    <tr>\n",
       "      <th>County_Sligo</th>\n",
       "      <td>0.000635</td>\n",
       "    </tr>\n",
       "    <tr>\n",
       "      <th>County_Clare</th>\n",
       "      <td>0.000629</td>\n",
       "    </tr>\n",
       "    <tr>\n",
       "      <th>County_Mayo</th>\n",
       "      <td>0.000581</td>\n",
       "    </tr>\n",
       "    <tr>\n",
       "      <th>County_Waterford</th>\n",
       "      <td>0.000555</td>\n",
       "    </tr>\n",
       "    <tr>\n",
       "      <th>address_types_establishment-general_contractor-point_of_interest</th>\n",
       "      <td>0.000514</td>\n",
       "    </tr>\n",
       "    <tr>\n",
       "      <th>County_Cavan</th>\n",
       "      <td>0.000487</td>\n",
       "    </tr>\n",
       "    <tr>\n",
       "      <th>County_Tipperary</th>\n",
       "      <td>0.000456</td>\n",
       "    </tr>\n",
       "  </tbody>\n",
       "</table>\n",
       "</div>"
      ],
      "text/plain": [
       "                                                                  importance\n",
       "feature                                                                     \n",
       "PropertySizeDescription                                             0.735208\n",
       "lng                                                                 0.091740\n",
       "YearMonth                                                           0.084060\n",
       "VATExclusive                                                        0.031366\n",
       "County_Dublin                                                       0.015213\n",
       "address_types_street_address                                        0.005760\n",
       "address_types_premise                                               0.003492\n",
       "address_types_route                                                 0.002931\n",
       "County_Cork                                                         0.002852\n",
       "County_Kildare                                                      0.002103\n",
       "address_types_establishment-point_of_interest                       0.002100\n",
       "address_types_locality-political                                    0.001912\n",
       "address_types_neighborhood-political                                0.001645\n",
       "County_Meath                                                        0.001607\n",
       "NotFullMarketPrice                                                  0.001528\n",
       "address_types_subpremise                                            0.001482\n",
       "County_Wexford                                                      0.001472\n",
       "County_Galway                                                       0.001037\n",
       "address_types_establishment-lodging-point_of_interest               0.000995\n",
       "County_Wicklow                                                      0.000873\n",
       "County_Louth                                                        0.000862\n",
       "County_Limerick                                                     0.000845\n",
       "County_Kerry                                                        0.000721\n",
       "County_Sligo                                                        0.000635\n",
       "County_Clare                                                        0.000629\n",
       "County_Mayo                                                         0.000581\n",
       "County_Waterford                                                    0.000555\n",
       "address_types_establishment-general_contractor-point_of_interest    0.000514\n",
       "County_Cavan                                                        0.000487\n",
       "County_Tipperary                                                    0.000456"
      ]
     },
     "execution_count": 105,
     "metadata": {},
     "output_type": "execute_result"
    }
   ],
   "source": [
    "importance.head(30)"
   ]
  },
  {
   "cell_type": "code",
   "execution_count": 106,
   "metadata": {},
   "outputs": [
    {
     "name": "stdout",
     "output_type": "stream",
     "text": [
      "Mean results from 10-fold cross validation are:\n",
      "Mean results from 10-fold cross validation are:\n",
      "Mean results from 10-fold cross validation are:\n",
      "Mean results from 10-fold cross validation are:\n",
      "Mean results from 10-fold cross validation are:\n",
      "Mean results from 10-fold cross validation are:\n",
      "Mean results from 10-fold cross validation are:\n",
      "Mean results from 10-fold cross validation are:\n",
      "Mean results from 10-fold cross validation are:\n",
      "Mean results from 10-fold cross validation are:\n",
      "Mean results from 10-fold cross validation are:\n",
      "Mean results from 10-fold cross validation are:\n",
      "Mean results from 10-fold cross validation are:\n",
      "Mean results from 10-fold cross validation are:\n",
      "Mean results from 10-fold cross validation are:\n",
      "Mean results from 10-fold cross validation are:\n",
      "Mean results from 10-fold cross validation are:\n",
      "Mean results from 10-fold cross validation are:\n",
      "Mean results from 10-fold cross validation are:\n",
      "Mean results from 10-fold cross validation are:\n",
      "Mean results from 10-fold cross validation are:\n",
      "Mean results from 10-fold cross validation are:\n"
     ]
    },
    {
     "data": {
      "text/html": [
       "<div>\n",
       "<style scoped>\n",
       "    .dataframe tbody tr th:only-of-type {\n",
       "        vertical-align: middle;\n",
       "    }\n",
       "\n",
       "    .dataframe tbody tr th {\n",
       "        vertical-align: top;\n",
       "    }\n",
       "\n",
       "    .dataframe thead th {\n",
       "        text-align: right;\n",
       "    }\n",
       "</style>\n",
       "<table border=\"1\" class=\"dataframe\">\n",
       "  <thead>\n",
       "    <tr style=\"text-align: right;\">\n",
       "      <th></th>\n",
       "      <th>RandomForestRegressor</th>\n",
       "      <th>RandomForestRegressor</th>\n",
       "      <th>RandomForestRegressor</th>\n",
       "      <th>RandomForestRegressor</th>\n",
       "      <th>RandomForestRegressor</th>\n",
       "      <th>RandomForestRegressor</th>\n",
       "      <th>RandomForestRegressor</th>\n",
       "      <th>RandomForestRegressor</th>\n",
       "      <th>RandomForestRegressor</th>\n",
       "      <th>RandomForestRegressor</th>\n",
       "      <th>RandomForestRegressor</th>\n",
       "      <th>RandomForestRegressor</th>\n",
       "      <th>RandomForestRegressor</th>\n",
       "      <th>RandomForestRegressor</th>\n",
       "      <th>RandomForestRegressor</th>\n",
       "      <th>RandomForestRegressor</th>\n",
       "      <th>RandomForestRegressor</th>\n",
       "      <th>RandomForestRegressor</th>\n",
       "      <th>RandomForestRegressor</th>\n",
       "      <th>RandomForestRegressor</th>\n",
       "      <th>RandomForestRegressor</th>\n",
       "      <th>RandomForestRegressor</th>\n",
       "    </tr>\n",
       "  </thead>\n",
       "  <tbody>\n",
       "    <tr>\n",
       "      <th>r2</th>\n",
       "      <td>0.739286</td>\n",
       "      <td>0.680299</td>\n",
       "      <td>0.748074</td>\n",
       "      <td>0.793450</td>\n",
       "      <td>0.799004</td>\n",
       "      <td>0.804482</td>\n",
       "      <td>0.804873</td>\n",
       "      <td>0.805172</td>\n",
       "      <td>0.806330</td>\n",
       "      <td>0.809182</td>\n",
       "      <td>0.809193</td>\n",
       "      <td>0.809996</td>\n",
       "      <td>0.809945</td>\n",
       "      <td>0.810127</td>\n",
       "      <td>0.811052</td>\n",
       "      <td>0.810546</td>\n",
       "      <td>0.810784</td>\n",
       "      <td>0.811402</td>\n",
       "      <td>0.811897</td>\n",
       "      <td>0.812147</td>\n",
       "      <td>0.812254</td>\n",
       "      <td>0.812016</td>\n",
       "    </tr>\n",
       "    <tr>\n",
       "      <th>neg_mean_absolute_error</th>\n",
       "      <td>-41110.578415</td>\n",
       "      <td>-46567.766585</td>\n",
       "      <td>-41611.508245</td>\n",
       "      <td>-37894.648867</td>\n",
       "      <td>-37444.004479</td>\n",
       "      <td>-37009.230705</td>\n",
       "      <td>-36970.032816</td>\n",
       "      <td>-36965.413191</td>\n",
       "      <td>-36912.836885</td>\n",
       "      <td>-36730.439211</td>\n",
       "      <td>-36675.027060</td>\n",
       "      <td>-36590.745778</td>\n",
       "      <td>-36531.070258</td>\n",
       "      <td>-36499.489048</td>\n",
       "      <td>-36404.327302</td>\n",
       "      <td>-36437.493908</td>\n",
       "      <td>-36413.382430</td>\n",
       "      <td>-36379.426033</td>\n",
       "      <td>-36348.427825</td>\n",
       "      <td>-36315.594604</td>\n",
       "      <td>-36305.645810</td>\n",
       "      <td>-36329.891383</td>\n",
       "    </tr>\n",
       "  </tbody>\n",
       "</table>\n",
       "</div>"
      ],
      "text/plain": [
       "                         RandomForestRegressor  RandomForestRegressor  RandomForestRegressor  RandomForestRegressor  RandomForestRegressor  RandomForestRegressor  RandomForestRegressor  RandomForestRegressor  RandomForestRegressor  RandomForestRegressor  RandomForestRegressor  RandomForestRegressor  RandomForestRegressor  RandomForestRegressor  RandomForestRegressor  RandomForestRegressor  RandomForestRegressor  RandomForestRegressor  RandomForestRegressor  RandomForestRegressor  RandomForestRegressor  RandomForestRegressor\n",
       "r2                                    0.739286               0.680299               0.748074               0.793450               0.799004               0.804482               0.804873               0.805172               0.806330               0.809182               0.809193               0.809996               0.809945               0.810127               0.811052               0.810546               0.810784               0.811402               0.811897               0.812147               0.812254               0.812016\n",
       "neg_mean_absolute_error          -41110.578415          -46567.766585          -41611.508245          -37894.648867          -37444.004479          -37009.230705          -36970.032816          -36965.413191          -36912.836885          -36730.439211          -36675.027060          -36590.745778          -36531.070258          -36499.489048          -36404.327302          -36437.493908          -36413.382430          -36379.426033          -36348.427825          -36315.594604          -36305.645810          -36329.891383"
      ]
     },
     "execution_count": 106,
     "metadata": {},
     "output_type": "execute_result"
    }
   ],
   "source": [
    "# set up empty list to store features\n",
    "list_features = []\n",
    "\n",
    "# set up empty dataframe to store results\n",
    "RandomForest_Features = pd.DataFrame()\n",
    "count=0\n",
    "\n",
    "# loop over 'importance' dataframe adding 1 feature per loop (will be the next most important feature)\n",
    "# each loop calculates the score for the current number of features in the list_features\n",
    "# Each loop appends result to RandomForest_Features dataframe\n",
    "for index, row in importance.iterrows():\n",
    "    # only calculate the top 22 features to keep runtime down\n",
    "    if count < 22:\n",
    "        list_features.append(index)\n",
    "        _X = df_rev1[list_features]\n",
    "        df1 = k_fold_cross_validation(rfr100, _X, y)\n",
    "        RandomForest_Features = pd.concat([RandomForest_Features, df1], axis=1)\n",
    "        count += 1\n",
    "    else:\n",
    "        break\n",
    "\n",
    "# to display all columns    \n",
    "RandomForest_Features "
   ]
  },
  {
   "cell_type": "code",
   "execution_count": 109,
   "metadata": {},
   "outputs": [
    {
     "data": {
      "text/html": [
       "<div>\n",
       "<style scoped>\n",
       "    .dataframe tbody tr th:only-of-type {\n",
       "        vertical-align: middle;\n",
       "    }\n",
       "\n",
       "    .dataframe tbody tr th {\n",
       "        vertical-align: top;\n",
       "    }\n",
       "\n",
       "    .dataframe thead th {\n",
       "        text-align: right;\n",
       "    }\n",
       "</style>\n",
       "<table border=\"1\" class=\"dataframe\">\n",
       "  <thead>\n",
       "    <tr style=\"text-align: right;\">\n",
       "      <th></th>\n",
       "      <th>features=1</th>\n",
       "      <th>features=2</th>\n",
       "      <th>features=3</th>\n",
       "      <th>features=4</th>\n",
       "      <th>features=5</th>\n",
       "      <th>features=6</th>\n",
       "      <th>features=7</th>\n",
       "      <th>features=8</th>\n",
       "      <th>features=9</th>\n",
       "      <th>features=10</th>\n",
       "      <th>features=11</th>\n",
       "      <th>features=12</th>\n",
       "      <th>features=13</th>\n",
       "      <th>features=14</th>\n",
       "      <th>features=15</th>\n",
       "      <th>features=16</th>\n",
       "      <th>features=17</th>\n",
       "      <th>features=18</th>\n",
       "      <th>features=19</th>\n",
       "      <th>features=20</th>\n",
       "      <th>features=21</th>\n",
       "      <th>features=22</th>\n",
       "    </tr>\n",
       "  </thead>\n",
       "  <tbody>\n",
       "    <tr>\n",
       "      <th>r2</th>\n",
       "      <td>0.739286</td>\n",
       "      <td>0.680299</td>\n",
       "      <td>0.748074</td>\n",
       "      <td>0.793450</td>\n",
       "      <td>0.799004</td>\n",
       "      <td>0.804482</td>\n",
       "      <td>0.804873</td>\n",
       "      <td>0.805172</td>\n",
       "      <td>0.806330</td>\n",
       "      <td>0.809182</td>\n",
       "      <td>0.809193</td>\n",
       "      <td>0.809996</td>\n",
       "      <td>0.809945</td>\n",
       "      <td>0.810127</td>\n",
       "      <td>0.811052</td>\n",
       "      <td>0.810546</td>\n",
       "      <td>0.810784</td>\n",
       "      <td>0.811402</td>\n",
       "      <td>0.811897</td>\n",
       "      <td>0.812147</td>\n",
       "      <td>0.812254</td>\n",
       "      <td>0.812016</td>\n",
       "    </tr>\n",
       "    <tr>\n",
       "      <th>neg_mean_absolute_error</th>\n",
       "      <td>-41110.578415</td>\n",
       "      <td>-46567.766585</td>\n",
       "      <td>-41611.508245</td>\n",
       "      <td>-37894.648867</td>\n",
       "      <td>-37444.004479</td>\n",
       "      <td>-37009.230705</td>\n",
       "      <td>-36970.032816</td>\n",
       "      <td>-36965.413191</td>\n",
       "      <td>-36912.836885</td>\n",
       "      <td>-36730.439211</td>\n",
       "      <td>-36675.027060</td>\n",
       "      <td>-36590.745778</td>\n",
       "      <td>-36531.070258</td>\n",
       "      <td>-36499.489048</td>\n",
       "      <td>-36404.327302</td>\n",
       "      <td>-36437.493908</td>\n",
       "      <td>-36413.382430</td>\n",
       "      <td>-36379.426033</td>\n",
       "      <td>-36348.427825</td>\n",
       "      <td>-36315.594604</td>\n",
       "      <td>-36305.645810</td>\n",
       "      <td>-36329.891383</td>\n",
       "    </tr>\n",
       "  </tbody>\n",
       "</table>\n",
       "</div>"
      ],
      "text/plain": [
       "                           features=1    features=2    features=3    features=4    features=5    features=6    features=7    features=8    features=9   features=10   features=11   features=12   features=13   features=14   features=15   features=16   features=17   features=18   features=19   features=20   features=21   features=22\n",
       "r2                           0.739286      0.680299      0.748074      0.793450      0.799004      0.804482      0.804873      0.805172      0.806330      0.809182      0.809193      0.809996      0.809945      0.810127      0.811052      0.810546      0.810784      0.811402      0.811897      0.812147      0.812254      0.812016\n",
       "neg_mean_absolute_error -41110.578415 -46567.766585 -41611.508245 -37894.648867 -37444.004479 -37009.230705 -36970.032816 -36965.413191 -36912.836885 -36730.439211 -36675.027060 -36590.745778 -36531.070258 -36499.489048 -36404.327302 -36437.493908 -36413.382430 -36379.426033 -36348.427825 -36315.594604 -36305.645810 -36329.891383"
      ]
     },
     "execution_count": 109,
     "metadata": {},
     "output_type": "execute_result"
    }
   ],
   "source": [
    "RandomForest_Features.columns = [\"features=1\", \"features=2\", \"features=3\", \"features=4\", \"features=5\", \"features=6\", \"features=7\", \"features=8\", \"features=9\", \"features=10\", \"features=11\", \"features=12\", \"features=13\", \"features=14\", \"features=15\", \"features=16\", \"features=17\", \"features=18\", \"features=19\", \"features=20\", \"features=21\", \"features=22\"]\n",
    "RandomForest_Features"
   ]
  },
  {
   "cell_type": "markdown",
   "metadata": {},
   "source": [
    "Here we see that after the top 20 features the accuracy of the model stabilises. Therefore was can trim the model to the optimum number of features i.e. 20"
   ]
  },
  {
   "cell_type": "code",
   "execution_count": 110,
   "metadata": {},
   "outputs": [],
   "source": [
    "# set list of optimum features\n",
    "optimum_features = list_features[0: 20]"
   ]
  },
  {
   "cell_type": "code",
   "execution_count": 111,
   "metadata": {},
   "outputs": [
    {
     "name": "stdout",
     "output_type": "stream",
     "text": [
      "Number of features:  20\n",
      "Mean results from 10-fold cross validation are:\n",
      "Mean results from 10-fold cross validation are:\n"
     ]
    },
    {
     "data": {
      "text/html": [
       "<div>\n",
       "<style scoped>\n",
       "    .dataframe tbody tr th:only-of-type {\n",
       "        vertical-align: middle;\n",
       "    }\n",
       "\n",
       "    .dataframe tbody tr th {\n",
       "        vertical-align: top;\n",
       "    }\n",
       "\n",
       "    .dataframe thead th {\n",
       "        text-align: right;\n",
       "    }\n",
       "</style>\n",
       "<table border=\"1\" class=\"dataframe\">\n",
       "  <thead>\n",
       "    <tr style=\"text-align: right;\">\n",
       "      <th></th>\n",
       "      <th>DecisionTreeRegressor</th>\n",
       "      <th>RandomForestRegressor</th>\n",
       "    </tr>\n",
       "  </thead>\n",
       "  <tbody>\n",
       "    <tr>\n",
       "      <th>r2</th>\n",
       "      <td>0.808036</td>\n",
       "      <td>0.821100</td>\n",
       "    </tr>\n",
       "    <tr>\n",
       "      <th>neg_mean_absolute_error</th>\n",
       "      <td>-36926.974547</td>\n",
       "      <td>-35818.260373</td>\n",
       "    </tr>\n",
       "  </tbody>\n",
       "</table>\n",
       "</div>"
      ],
      "text/plain": [
       "                         DecisionTreeRegressor  RandomForestRegressor\n",
       "r2                                    0.808036               0.821100\n",
       "neg_mean_absolute_error          -36926.974547          -35818.260373"
      ]
     },
     "execution_count": 111,
     "metadata": {},
     "output_type": "execute_result"
    }
   ],
   "source": [
    "df_optimum_features = pd.get_dummies(df)\n",
    "y = df_optimum_features[target]\n",
    "X = df_optimum_features[optimum_features]\n",
    "print(\"Number of features: \", len(X.columns))\n",
    "\n",
    "# calculate decisionTree, random forest results again\n",
    "decisionTreeDF = k_fold_cross_validation(dtr6, X, y)\n",
    "\n",
    "rfr_depth10_estimators100 = RandomForestRegressor(max_depth=10, n_estimators=100)\n",
    "RandomForestDF = k_fold_cross_validation(rfr_depth10_estimators100, X, y)\n",
    "# merge all 2 models into dataframe\n",
    "ResultsDF_optimum_features = pd.concat([decisionTreeDF, RandomForestDF], axis=1)\n",
    "ResultsDF_optimum_features"
   ]
  },
  {
   "cell_type": "code",
   "execution_count": 112,
   "metadata": {},
   "outputs": [
    {
     "name": "stdout",
     "output_type": "stream",
     "text": [
      "\n",
      "Scores using subset of features: 8 features (5 features dropped - from part 1)\n",
      "===================================================================\n",
      "                         LinearRegression  DecisionTreeRegressor  RandomForestRegressor\n",
      "r2                          -3.663692e+24               0.807935               0.811718\n",
      "neg_mean_absolute_error     -5.832197e+15          -36924.251481          -36258.777792\n",
      "\n",
      "Scores using high Correlation features only: 6 features\n",
      "===================================================================\n",
      "                         DecisionTreeRegressor  RandomForestRegressor\n",
      "r2                                    0.803978               0.794855\n",
      "neg_mean_absolute_error          -37192.020385          -37727.407598\n",
      "===================================================================\n",
      "                         DecisionTreeRegressor  RandomForestRegressor\n",
      "r2                                    0.808036               0.821100\n",
      "neg_mean_absolute_error          -36926.974547          -35818.260373\n"
     ]
    }
   ],
   "source": [
    "print(\"\\nScores using subset of features: 8 features (5 features dropped - from part 1)\")\n",
    "print(\"===================================================================\")\n",
    "print(all_result_df)\n",
    "print(\"\\nScores using high Correlation features only: 6 features\")\n",
    "print(\"===================================================================\")\n",
    "print(ResultsDF_HighCorrFeatures)\n",
    "print(\"===================================================================\")\n",
    "print(ResultsDF_optimum_features)"
   ]
  },
  {
   "cell_type": "markdown",
   "metadata": {},
   "source": [
    "- We can see from the comparison above that using the optimum features from the random forest evaluation performs best for all models. \n",
    "- This is a good result as we have trimmed the number of features and are achieving better scores all round. \n",
    "- We have also made some efficiency gains for the random forests model \n",
    "    - Finding sweet spot for the max depth (=10), which will in turn limit the chances of overfitting\n",
    "    - Finding the optimum number of estimators (=100) - this happens to be the default"
   ]
  },
  {
   "cell_type": "markdown",
   "metadata": {},
   "source": [
    "### 5.3 Apply the best model (RandomForestRegressor With max_depth=10 and n_estimators=100) on the new test dataset"
   ]
  },
  {
   "cell_type": "code",
   "execution_count": 113,
   "metadata": {},
   "outputs": [
    {
     "data": {
      "text/plain": [
       "DateofSale(dd/mm/yyyy)     0.00000\n",
       "Address                    0.00000\n",
       "PostalCode                 0.79017\n",
       "County                     0.00000\n",
       "Price(€)                   0.00000\n",
       "NotFullMarketPrice         0.00000\n",
       "VATExclusive               0.00000\n",
       "DescriptionofProperty      0.00000\n",
       "PropertySizeDescription    1.00000\n",
       "dtype: float64"
      ]
     },
     "execution_count": 113,
     "metadata": {},
     "output_type": "execute_result"
    }
   ],
   "source": [
    "new_df = pd.read_csv(\"22032022-PPR-Price-recent.csv\", keep_default_na=True, sep=',\\s+', delimiter=',', skipinitialspace=True)\n",
    "new_df.isna().mean()"
   ]
  },
  {
   "cell_type": "code",
   "execution_count": 114,
   "metadata": {},
   "outputs": [
    {
     "data": {
      "text/plain": [
       "array(['Second-Hand Dwelling house /Apartment',\n",
       "       'New Dwelling house /Apartment'], dtype=object)"
      ]
     },
     "execution_count": 114,
     "metadata": {},
     "output_type": "execute_result"
    }
   ],
   "source": [
    "new_df[\"DescriptionofProperty\"].unique()"
   ]
  },
  {
   "cell_type": "code",
   "execution_count": 115,
   "metadata": {},
   "outputs": [
    {
     "name": "stdout",
     "output_type": "stream",
     "text": [
      "orig max = 30566192.72, min = 7000.0\n",
      "orig mean = 341755.3959593428, mode = 250000.0\n",
      "top 5% mean = 1386243.0446796657, top 5% min = 748898.68\n",
      "Bottom 5% mean = 51298.044317548745, Bottom 5% min = 80000.0\n",
      "new mean =  295572.9711887788\n",
      "(6452, 8)\n"
     ]
    }
   ],
   "source": [
    "new_df.rename(columns={\"Price(€)\": \"Price\"}, inplace=True)\n",
    "new_df[\"DescriptionofProperty\"] = new_df[\"DescriptionofProperty\"].map({\"New Dwelling house /Apartment\": 1, \n",
    "                                 \"Second-Hand Dwelling house /Apartment\": 0})\n",
    "\n",
    "# \"NotFullMarketPrice\" and \"VATExclusive\"\n",
    "new_df[\"NotFullMarketPrice\"] = new_df[\"NotFullMarketPrice\"].map({\"Yes\": 1, \"No\": 0})\n",
    "new_df[\"VATExclusive\"] = new_df[\"VATExclusive\"].map({\"Yes\": 1, \"No\": 0})\n",
    "new_df.drop(columns=[\"PostalCode\", ], inplace=True)\n",
    "\n",
    "percent_5 = int(new_df.shape[0] / 100 * 5)\n",
    "print(f\"\"\"orig max = {new_df[\"Price\"].max()}, min = {new_df[\"Price\"].min()}\"\"\")\n",
    "print(f\"\"\"orig mean = {new_df[\"Price\"].mean()}, mode = {new_df[\"Price\"].mode()[0]}\"\"\")\n",
    "max_percent_5 = new_df[new_df.Price.max() > new_df.Price].sort_values(by=[\"Price\"], ascending=False)[\"Price\"].head(percent_5)\n",
    "print(f\"\"\"top 5% mean = {max_percent_5.mean()}, top 5% min = {max_percent_5.min()}\"\"\")\n",
    "# print(max_percent_5)\n",
    "min_percent_5 = new_df[new_df.Price.min() < new_df.Price].sort_values(by=[\"Price\"], ascending=False)[\"Price\"].tail(percent_5)\n",
    "print(f\"\"\"Bottom 5% mean = {min_percent_5.mean()}, Bottom 5% min = {min_percent_5.max()}\"\"\")\n",
    "\n",
    "new_df = new_df[(new_df.Price < max_percent_5.min()) & (new_df.Price > min_percent_5.max())]\n",
    "print(\"new mean = \", new_df.Price.mean())\n",
    "print(new_df.shape)\n",
    "\n",
    "# generate new feature \"PriceLevel\" to fill na of PropertySizeDescription: from continuous type to Categorical type(4 level)\n",
    "quantiles = new_df[\"Price\"].quantile([.25, .5, .75])\n",
    "\n",
    "new_df[\"PriceLevel\"] = new_df[\"Price\"].apply(lambda x: gen_price_level(x))\n",
    "\n",
    "# PriceLevel to fill the empty value: PropertySizeDescription empty value accounted for 100%, \n",
    "# but this information is more important, here choose to fill the empty value through PriceLevel, \n",
    "# the larger the house the higher the price, usually the reverse also holds, the higher the price of the general house the larger\n",
    "new_df['PropertySizeDescription'] = np.where(new_df['PropertySizeDescription'].isnull(), new_df['PriceLevel'], new_df['PropertySizeDescription'])\n",
    "new_df[\"PropertySizeDescription\"] = new_df[\"PropertySizeDescription\"].astype('int64')\n",
    "new_df.drop(columns=\"PriceLevel\", inplace=True)"
   ]
  },
  {
   "cell_type": "code",
   "execution_count": 116,
   "metadata": {},
   "outputs": [],
   "source": [
    "# convert the YearMonth\n",
    "new_df['DateofSale(dd/mm/yyyy)'] = new_df['DateofSale(dd/mm/yyyy)'].astype('datetime64[ns]')\n",
    "new_df[\"YearMonth\"] = new_df[\"DateofSale(dd/mm/yyyy)\"].apply(lambda d: d.year * 100 + d.month)\n",
    "new_df.drop(columns=[\"DateofSale(dd/mm/yyyy)\", \"Address\"], inplace=True)"
   ]
  },
  {
   "cell_type": "code",
   "execution_count": 117,
   "metadata": {},
   "outputs": [],
   "source": [
    "new_df[\"County\"] = new_df[\"County\"].astype('category')"
   ]
  },
  {
   "cell_type": "code",
   "execution_count": 118,
   "metadata": {},
   "outputs": [
    {
     "data": {
      "text/plain": [
       "County                     category\n",
       "Price                       float64\n",
       "NotFullMarketPrice            int64\n",
       "VATExclusive                  int64\n",
       "DescriptionofProperty         int64\n",
       "PropertySizeDescription       int64\n",
       "YearMonth                     int64\n",
       "dtype: object"
      ]
     },
     "execution_count": 118,
     "metadata": {},
     "output_type": "execute_result"
    }
   ],
   "source": [
    "new_df.dtypes"
   ]
  },
  {
   "cell_type": "code",
   "execution_count": 119,
   "metadata": {},
   "outputs": [
    {
     "data": {
      "text/plain": [
       "Price                      float64\n",
       "NotFullMarketPrice           int64\n",
       "VATExclusive                 int64\n",
       "DescriptionofProperty        int64\n",
       "PropertySizeDescription      int64\n",
       "YearMonth                    int64\n",
       "County_Carlow                uint8\n",
       "County_Cavan                 uint8\n",
       "County_Clare                 uint8\n",
       "County_Cork                  uint8\n",
       "County_Donegal               uint8\n",
       "County_Dublin                uint8\n",
       "County_Galway                uint8\n",
       "County_Kerry                 uint8\n",
       "County_Kildare               uint8\n",
       "County_Kilkenny              uint8\n",
       "County_Laois                 uint8\n",
       "County_Leitrim               uint8\n",
       "County_Limerick              uint8\n",
       "County_Longford              uint8\n",
       "County_Louth                 uint8\n",
       "County_Mayo                  uint8\n",
       "County_Meath                 uint8\n",
       "County_Monaghan              uint8\n",
       "County_Offaly                uint8\n",
       "County_Roscommon             uint8\n",
       "County_Sligo                 uint8\n",
       "County_Tipperary             uint8\n",
       "County_Waterford             uint8\n",
       "County_Westmeath             uint8\n",
       "County_Wexford               uint8\n",
       "County_Wicklow               uint8\n",
       "dtype: object"
      ]
     },
     "execution_count": 119,
     "metadata": {},
     "output_type": "execute_result"
    }
   ],
   "source": [
    "new_df = pd.get_dummies(new_df)\n",
    "new_df.dtypes"
   ]
  },
  {
   "cell_type": "code",
   "execution_count": 120,
   "metadata": {},
   "outputs": [],
   "source": [
    "y = pd.DataFrame(new_df[target])\n",
    "X = new_df.drop([target],1)"
   ]
  },
  {
   "cell_type": "code",
   "execution_count": 121,
   "metadata": {},
   "outputs": [
    {
     "name": "stdout",
     "output_type": "stream",
     "text": [
      "Mean results from 10-fold cross validation are:\n"
     ]
    },
    {
     "data": {
      "text/html": [
       "<div>\n",
       "<style scoped>\n",
       "    .dataframe tbody tr th:only-of-type {\n",
       "        vertical-align: middle;\n",
       "    }\n",
       "\n",
       "    .dataframe tbody tr th {\n",
       "        vertical-align: top;\n",
       "    }\n",
       "\n",
       "    .dataframe thead th {\n",
       "        text-align: right;\n",
       "    }\n",
       "</style>\n",
       "<table border=\"1\" class=\"dataframe\">\n",
       "  <thead>\n",
       "    <tr style=\"text-align: right;\">\n",
       "      <th></th>\n",
       "      <th>RandomForestRegressor_new_test</th>\n",
       "    </tr>\n",
       "  </thead>\n",
       "  <tbody>\n",
       "    <tr>\n",
       "      <th>r2</th>\n",
       "      <td>0.843463</td>\n",
       "    </tr>\n",
       "    <tr>\n",
       "      <th>neg_mean_absolute_error</th>\n",
       "      <td>-36309.356762</td>\n",
       "    </tr>\n",
       "  </tbody>\n",
       "</table>\n",
       "</div>"
      ],
      "text/plain": [
       "                         RandomForestRegressor_new_test\n",
       "r2                                             0.843463\n",
       "neg_mean_absolute_error                   -36309.356762"
      ]
     },
     "execution_count": 121,
     "metadata": {},
     "output_type": "execute_result"
    }
   ],
   "source": [
    "new_test_all_score_df = k_fold_cross_validation(rfr_depth10_estimators100, X, y, col_postfix=\"_new_test\")\n",
    "new_test_all_score_df"
   ]
  },
  {
   "cell_type": "code",
   "execution_count": 134,
   "metadata": {},
   "outputs": [
    {
     "name": "stdout",
     "output_type": "stream",
     "text": [
      "Mean results from 10-fold cross validation are:\n"
     ]
    },
    {
     "data": {
      "text/html": [
       "<div>\n",
       "<style scoped>\n",
       "    .dataframe tbody tr th:only-of-type {\n",
       "        vertical-align: middle;\n",
       "    }\n",
       "\n",
       "    .dataframe tbody tr th {\n",
       "        vertical-align: top;\n",
       "    }\n",
       "\n",
       "    .dataframe thead th {\n",
       "        text-align: right;\n",
       "    }\n",
       "</style>\n",
       "<table border=\"1\" class=\"dataframe\">\n",
       "  <thead>\n",
       "    <tr style=\"text-align: right;\">\n",
       "      <th></th>\n",
       "      <th>DecisionTreeRegressor_new_test</th>\n",
       "    </tr>\n",
       "  </thead>\n",
       "  <tbody>\n",
       "    <tr>\n",
       "      <th>r2</th>\n",
       "      <td>0.844324</td>\n",
       "    </tr>\n",
       "    <tr>\n",
       "      <th>neg_mean_absolute_error</th>\n",
       "      <td>-36142.454562</td>\n",
       "    </tr>\n",
       "  </tbody>\n",
       "</table>\n",
       "</div>"
      ],
      "text/plain": [
       "                         DecisionTreeRegressor_new_test\n",
       "r2                                             0.844324\n",
       "neg_mean_absolute_error                   -36142.454562"
      ]
     },
     "execution_count": 134,
     "metadata": {},
     "output_type": "execute_result"
    }
   ],
   "source": [
    "dtr6_new_test_all_score_df = k_fold_cross_validation(dtr6, X, y, col_postfix=\"_new_test\")\n",
    "dtr6_new_test_all_score_df"
   ]
  },
  {
   "cell_type": "code",
   "execution_count": 135,
   "metadata": {},
   "outputs": [
    {
     "name": "stdout",
     "output_type": "stream",
     "text": [
      "Mean results from 10-fold cross validation are:\n"
     ]
    },
    {
     "data": {
      "text/html": [
       "<div>\n",
       "<style scoped>\n",
       "    .dataframe tbody tr th:only-of-type {\n",
       "        vertical-align: middle;\n",
       "    }\n",
       "\n",
       "    .dataframe tbody tr th {\n",
       "        vertical-align: top;\n",
       "    }\n",
       "\n",
       "    .dataframe thead th {\n",
       "        text-align: right;\n",
       "    }\n",
       "</style>\n",
       "<table border=\"1\" class=\"dataframe\">\n",
       "  <thead>\n",
       "    <tr style=\"text-align: right;\">\n",
       "      <th></th>\n",
       "      <th>RandomForestRegressor_without_maxdepth_new_test</th>\n",
       "    </tr>\n",
       "  </thead>\n",
       "  <tbody>\n",
       "    <tr>\n",
       "      <th>r2</th>\n",
       "      <td>0.838691</td>\n",
       "    </tr>\n",
       "    <tr>\n",
       "      <th>neg_mean_absolute_error</th>\n",
       "      <td>-36844.193945</td>\n",
       "    </tr>\n",
       "  </tbody>\n",
       "</table>\n",
       "</div>"
      ],
      "text/plain": [
       "                         RandomForestRegressor_without_maxdepth_new_test\n",
       "r2                                                              0.838691\n",
       "neg_mean_absolute_error                                    -36844.193945"
      ]
     },
     "execution_count": 135,
     "metadata": {},
     "output_type": "execute_result"
    }
   ],
   "source": [
    "rfr_without_maxdepth_new_test_all_score_df = k_fold_cross_validation(rfr, X, y, col_postfix=\"_without_maxdepth_new_test\")\n",
    "rfr_without_maxdepth_new_test_all_score_df"
   ]
  },
  {
   "cell_type": "code",
   "execution_count": 136,
   "metadata": {},
   "outputs": [
    {
     "name": "stdout",
     "output_type": "stream",
     "text": [
      "\n",
      "Scores using (RandomForestRegressor With max_depth=10 and n_estimators=100) on new test data\n",
      "===================================================================\n",
      "                         RandomForestRegressor_new_test\n",
      "r2                                             0.843463\n",
      "neg_mean_absolute_error                   -36309.356762\n",
      "\n",
      "Scores using (decision tree With max_depth=6) on new test data\n",
      "===================================================================\n",
      "                         DecisionTreeRegressor_new_test\n",
      "r2                                             0.844324\n",
      "neg_mean_absolute_error                   -36142.454562\n",
      "\n",
      "Scores using (RandomForestRegressor With n_estimators=100) on new test data\n",
      "===================================================================\n",
      "                         RandomForestRegressor_without_maxdepth_new_test\n",
      "r2                                                              0.838691\n",
      "neg_mean_absolute_error                                    -36844.193945\n"
     ]
    }
   ],
   "source": [
    "print(\"\\nScores using (RandomForestRegressor With max_depth=10 and n_estimators=100) on new test data\")\n",
    "print(\"===================================================================\")\n",
    "print(new_test_all_score_df)\n",
    "print(\"\\nScores using (decision tree With max_depth=6) on new test data\")\n",
    "print(\"===================================================================\")\n",
    "print(dtr6_new_test_all_score_df)\n",
    "print(\"\\nScores using (RandomForestRegressor With n_estimators=100) on new test data\")\n",
    "print(\"===================================================================\")\n",
    "print(rfr_without_maxdepth_new_test_all_score_df)"
   ]
  },
  {
   "cell_type": "markdown",
   "metadata": {},
   "source": [
    "The original best model (RandomForestRegressor With max_depth=10 and n_estimators=100) performs Good on the new dataset, Its result is similar to decision tree with max_depth = 6"
   ]
  },
  {
   "cell_type": "markdown",
   "metadata": {},
   "source": [
    "### Summary\n",
    "- 3 predictive models have been evaluated in this notebook, with all models preform similarly, except the linear regression model\n",
    "- About the over-fitting of linear regression model:\n",
    "  - The linear regression model is used here, and the phenomenon of over-fitting occurs, and the fitting effect of the training set is far better than that of the test set.\n",
    "  - Finding: Using the metrics.r2_score method, the score for the training set was 0.747, while the score for the test set turned out to be -1.425806396945729e+24. Moreover, using k-fold cross-validation to score the training set is similar to the score for the test set, which is very low.\n",
    "  - Explanation: k-fold cross-validation is more reasonable. In the cross_val_score the scores returned are calculated on the test data of each fold and then averaged. In the \"metrics.r2_score\" part, calculating the scores on the training data, which in most cases will have higher value, because the model has been trained on that data.\n",
    "- The majority of the features in the dataset have been found to have little impact on the target\n",
    "- A number of optimisations have been made that have improved all models\n",
    "- The biggest effect is finding the optimised list of features as this can be applied to all models"
   ]
  }
 ],
 "metadata": {
  "interpreter": {
   "hash": "4905652b14e4b7eb92899b78ac499a22c488804455b27940a322fd82aaf71031"
  },
  "kernelspec": {
   "display_name": "Python 3 (ipykernel)",
   "language": "python",
   "name": "python3"
  },
  "language_info": {
   "codemirror_mode": {
    "name": "ipython",
    "version": 3
   },
   "file_extension": ".py",
   "mimetype": "text/x-python",
   "name": "python",
   "nbconvert_exporter": "python",
   "pygments_lexer": "ipython3",
   "version": "3.7.4"
  },
  "orig_nbformat": 4
 },
 "nbformat": 4,
 "nbformat_minor": 2
}
